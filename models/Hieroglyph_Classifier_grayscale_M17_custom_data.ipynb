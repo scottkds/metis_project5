{
 "cells": [
  {
   "cell_type": "code",
   "execution_count": 29,
   "metadata": {},
   "outputs": [],
   "source": [
    "# Data directory /Users/scott/p5/data/interim/n35_train_valid_test"
   ]
  },
  {
   "cell_type": "code",
   "execution_count": 1,
   "metadata": {},
   "outputs": [
    {
     "name": "stderr",
     "output_type": "stream",
     "text": [
      "Using TensorFlow backend.\n"
     ]
    }
   ],
   "source": [
    "import numpy as np\n",
    "import pandas as pd\n",
    "import keras\n",
    "from keras import backend as K\n",
    "from keras.preprocessing import image\n",
    "from keras.applications.vgg19 import decode_predictions\n",
    "from keras.models import Sequential, Model\n",
    "from keras.layers import Activation\n",
    "from keras.layers.core import Dense, Flatten\n",
    "from keras.optimizers import Adam, SGD\n",
    "from keras.metrics import categorical_crossentropy\n",
    "from keras.preprocessing.image import ImageDataGenerator\n",
    "from keras.layers.normalization import BatchNormalization\n",
    "from keras.layers.convolutional import *\n",
    "from keras.callbacks import EarlyStopping\n",
    "from keras.callbacks import ModelCheckpoint\n",
    "from keras.models import load_model\n",
    "import matplotlib.pyplot as plt\n",
    "from sklearn.metrics import confusion_matrix\n",
    "import itertools\n",
    "from glob import glob\n",
    "import os.path\n",
    "import PIL\n",
    "import cv2\n",
    "import re\n",
    "from collections import defaultdict, namedtuple"
   ]
  },
  {
   "cell_type": "code",
   "execution_count": 2,
   "metadata": {},
   "outputs": [],
   "source": [
    "pd.set_option('display.max_columns', None)"
   ]
  },
  {
   "cell_type": "code",
   "execution_count": 3,
   "metadata": {},
   "outputs": [
    {
     "data": {
      "text/plain": [
       "3"
      ]
     },
     "execution_count": 3,
     "metadata": {},
     "output_type": "execute_result"
    }
   ],
   "source": [
    "def get_classes(path):\n",
    "    directories = glob(os.path.expanduser(path) + '/*')\n",
    "    return [dir.split('/')[-1] for dir in directories]\n",
    "n_classes =  len(get_classes('/Users/scott/p5/data/interim/n35_train_valid_test/train'))\n",
    "n_classes"
   ]
  },
  {
   "cell_type": "code",
   "execution_count": 4,
   "metadata": {},
   "outputs": [],
   "source": [
    "def to_gray_scale(image):\n",
    "    image = cv2.cvtColor(image, cv2.COLOR_BGR2GRAY)\n",
    "    gray_image = cv2.cvtColor(image,cv2.COLOR_GRAY2BGR)\n",
    "    return np.array(gray_image)"
   ]
  },
  {
   "cell_type": "code",
   "execution_count": 5,
   "metadata": {},
   "outputs": [
    {
     "name": "stdout",
     "output_type": "stream",
     "text": [
      "WARNING:tensorflow:From /Applications/conda/anaconda3/envs/p5/lib/python3.7/site-packages/keras/backend/tensorflow_backend.py:74: The name tf.get_default_graph is deprecated. Please use tf.compat.v1.get_default_graph instead.\n",
      "\n",
      "WARNING:tensorflow:From /Applications/conda/anaconda3/envs/p5/lib/python3.7/site-packages/keras/backend/tensorflow_backend.py:517: The name tf.placeholder is deprecated. Please use tf.compat.v1.placeholder instead.\n",
      "\n",
      "WARNING:tensorflow:From /Applications/conda/anaconda3/envs/p5/lib/python3.7/site-packages/keras/backend/tensorflow_backend.py:4138: The name tf.random_uniform is deprecated. Please use tf.random.uniform instead.\n",
      "\n",
      "WARNING:tensorflow:From /Applications/conda/anaconda3/envs/p5/lib/python3.7/site-packages/keras/backend/tensorflow_backend.py:3976: The name tf.nn.max_pool is deprecated. Please use tf.nn.max_pool2d instead.\n",
      "\n",
      "WARNING:tensorflow:From /Applications/conda/anaconda3/envs/p5/lib/python3.7/site-packages/keras/backend/tensorflow_backend.py:174: The name tf.get_default_session is deprecated. Please use tf.compat.v1.get_default_session instead.\n",
      "\n",
      "WARNING:tensorflow:From /Applications/conda/anaconda3/envs/p5/lib/python3.7/site-packages/keras/backend/tensorflow_backend.py:181: The name tf.ConfigProto is deprecated. Please use tf.compat.v1.ConfigProto instead.\n",
      "\n",
      "WARNING:tensorflow:From /Applications/conda/anaconda3/envs/p5/lib/python3.7/site-packages/keras/backend/tensorflow_backend.py:186: The name tf.Session is deprecated. Please use tf.compat.v1.Session instead.\n",
      "\n",
      "WARNING:tensorflow:From /Applications/conda/anaconda3/envs/p5/lib/python3.7/site-packages/keras/backend/tensorflow_backend.py:190: The name tf.global_variables is deprecated. Please use tf.compat.v1.global_variables instead.\n",
      "\n",
      "WARNING:tensorflow:From /Applications/conda/anaconda3/envs/p5/lib/python3.7/site-packages/keras/backend/tensorflow_backend.py:199: The name tf.is_variable_initialized is deprecated. Please use tf.compat.v1.is_variable_initialized instead.\n",
      "\n",
      "WARNING:tensorflow:From /Applications/conda/anaconda3/envs/p5/lib/python3.7/site-packages/keras/backend/tensorflow_backend.py:206: The name tf.variables_initializer is deprecated. Please use tf.compat.v1.variables_initializer instead.\n",
      "\n"
     ]
    }
   ],
   "source": [
    " vgg19 = keras.applications.vgg19.VGG19(weights='imagenet', include_top=False, input_shape=(224,224, 3))"
   ]
  },
  {
   "cell_type": "code",
   "execution_count": 6,
   "metadata": {},
   "outputs": [],
   "source": [
    "# note we exclude the final dense layers and add one back below, we would retrain it ourselves\n",
    "base_model = vgg19\n",
    " \n",
    "# Freeze convolutional layers\n",
    "for layer in base_model.layers:\n",
    "    layer.trainable = False \n",
    "    \n",
    "x = base_model.output\n",
    "x = Flatten()(x) # flatten from convolution tensor output \n",
    "predictions = Dense(n_classes, activation='softmax')(x) # should match # of classes predicted\n",
    "\n",
    "# this is the model we will train\n",
    "model = Model(inputs=base_model.input, outputs=predictions)"
   ]
  },
  {
   "cell_type": "code",
   "execution_count": 7,
   "metadata": {},
   "outputs": [
    {
     "name": "stdout",
     "output_type": "stream",
     "text": [
      "_________________________________________________________________\n",
      "Layer (type)                 Output Shape              Param #   \n",
      "=================================================================\n",
      "input_1 (InputLayer)         (None, 224, 224, 3)       0         \n",
      "_________________________________________________________________\n",
      "block1_conv1 (Conv2D)        (None, 224, 224, 64)      1792      \n",
      "_________________________________________________________________\n",
      "block1_conv2 (Conv2D)        (None, 224, 224, 64)      36928     \n",
      "_________________________________________________________________\n",
      "block1_pool (MaxPooling2D)   (None, 112, 112, 64)      0         \n",
      "_________________________________________________________________\n",
      "block2_conv1 (Conv2D)        (None, 112, 112, 128)     73856     \n",
      "_________________________________________________________________\n",
      "block2_conv2 (Conv2D)        (None, 112, 112, 128)     147584    \n",
      "_________________________________________________________________\n",
      "block2_pool (MaxPooling2D)   (None, 56, 56, 128)       0         \n",
      "_________________________________________________________________\n",
      "block3_conv1 (Conv2D)        (None, 56, 56, 256)       295168    \n",
      "_________________________________________________________________\n",
      "block3_conv2 (Conv2D)        (None, 56, 56, 256)       590080    \n",
      "_________________________________________________________________\n",
      "block3_conv3 (Conv2D)        (None, 56, 56, 256)       590080    \n",
      "_________________________________________________________________\n",
      "block3_conv4 (Conv2D)        (None, 56, 56, 256)       590080    \n",
      "_________________________________________________________________\n",
      "block3_pool (MaxPooling2D)   (None, 28, 28, 256)       0         \n",
      "_________________________________________________________________\n",
      "block4_conv1 (Conv2D)        (None, 28, 28, 512)       1180160   \n",
      "_________________________________________________________________\n",
      "block4_conv2 (Conv2D)        (None, 28, 28, 512)       2359808   \n",
      "_________________________________________________________________\n",
      "block4_conv3 (Conv2D)        (None, 28, 28, 512)       2359808   \n",
      "_________________________________________________________________\n",
      "block4_conv4 (Conv2D)        (None, 28, 28, 512)       2359808   \n",
      "_________________________________________________________________\n",
      "block4_pool (MaxPooling2D)   (None, 14, 14, 512)       0         \n",
      "_________________________________________________________________\n",
      "block5_conv1 (Conv2D)        (None, 14, 14, 512)       2359808   \n",
      "_________________________________________________________________\n",
      "block5_conv2 (Conv2D)        (None, 14, 14, 512)       2359808   \n",
      "_________________________________________________________________\n",
      "block5_conv3 (Conv2D)        (None, 14, 14, 512)       2359808   \n",
      "_________________________________________________________________\n",
      "block5_conv4 (Conv2D)        (None, 14, 14, 512)       2359808   \n",
      "_________________________________________________________________\n",
      "block5_pool (MaxPooling2D)   (None, 7, 7, 512)         0         \n",
      "_________________________________________________________________\n",
      "flatten_1 (Flatten)          (None, 25088)             0         \n",
      "_________________________________________________________________\n",
      "dense_1 (Dense)              (None, 3)                 75267     \n",
      "=================================================================\n",
      "Total params: 20,099,651\n",
      "Trainable params: 75,267\n",
      "Non-trainable params: 20,024,384\n",
      "_________________________________________________________________\n"
     ]
    }
   ],
   "source": [
    "model.summary()"
   ]
  },
  {
   "cell_type": "code",
   "execution_count": 8,
   "metadata": {},
   "outputs": [],
   "source": [
    "train_path = os.path.expanduser('/Users/scott/p5/data/interim/n35_train_valid_test/train')\n",
    "test_path = os.path.expanduser('/Users/scott/p5/data/interim/n35_train_valid_test/test')\n",
    "valid_path = os.path.expanduser('/Users/scott/p5/data/interim/n35_train_valid_test/valid')"
   ]
  },
  {
   "cell_type": "code",
   "execution_count": 9,
   "metadata": {},
   "outputs": [
    {
     "name": "stdout",
     "output_type": "stream",
     "text": [
      "Found 735 images belonging to 3 classes.\n",
      "Found 158 images belonging to 3 classes.\n",
      "Found 158 images belonging to 3 classes.\n"
     ]
    }
   ],
   "source": [
    "train_batches = ImageDataGenerator(preprocessing_function=to_gray_scale).flow_from_directory(train_path,\n",
    "                                                         target_size=(224,224), \n",
    "                                                         batch_size=6)\n",
    "valid_batches = ImageDataGenerator(preprocessing_function=to_gray_scale).flow_from_directory(valid_path, \n",
    "                                                         target_size=(224,224), \n",
    "                                                         batch_size=5)\n",
    "test_batches = ImageDataGenerator(preprocessing_function=to_gray_scale).flow_from_directory(test_path, \n",
    "                                                        target_size=(224,224),\n",
    "                                                        shuffle=False,\n",
    "                                                        batch_size=1)\n"
   ]
  },
  {
   "cell_type": "code",
   "execution_count": 10,
   "metadata": {},
   "outputs": [
    {
     "name": "stdout",
     "output_type": "stream",
     "text": [
      "WARNING:tensorflow:From /Applications/conda/anaconda3/envs/p5/lib/python3.7/site-packages/keras/optimizers.py:790: The name tf.train.Optimizer is deprecated. Please use tf.compat.v1.train.Optimizer instead.\n",
      "\n",
      "WARNING:tensorflow:From /Applications/conda/anaconda3/envs/p5/lib/python3.7/site-packages/keras/backend/tensorflow_backend.py:3295: The name tf.log is deprecated. Please use tf.math.log instead.\n",
      "\n"
     ]
    }
   ],
   "source": [
    "# sgd = SGD(lr=1e-3, decay=1e-6, momentum=0.9, nesterov=True)\n",
    "# model.compile(Adam(lr=0.00002), loss='categorical_crossentropy', metrics=['accuracy'])\n",
    "model.compile(Adam(lr=0.00002), loss='categorical_crossentropy', metrics=['accuracy'])"
   ]
  },
  {
   "cell_type": "code",
   "execution_count": 11,
   "metadata": {},
   "outputs": [
    {
     "name": "stdout",
     "output_type": "stream",
     "text": [
      "WARNING:tensorflow:From /Applications/conda/anaconda3/envs/p5/lib/python3.7/site-packages/tensorflow_core/python/ops/math_grad.py:1424: where (from tensorflow.python.ops.array_ops) is deprecated and will be removed in a future version.\n",
      "Instructions for updating:\n",
      "Use tf.where in 2.0, which has the same broadcast rule as np.where\n",
      "WARNING:tensorflow:From /Applications/conda/anaconda3/envs/p5/lib/python3.7/site-packages/keras/backend/tensorflow_backend.py:986: The name tf.assign_add is deprecated. Please use tf.compat.v1.assign_add instead.\n",
      "\n",
      "WARNING:tensorflow:From /Applications/conda/anaconda3/envs/p5/lib/python3.7/site-packages/keras/backend/tensorflow_backend.py:973: The name tf.assign is deprecated. Please use tf.compat.v1.assign instead.\n",
      "\n",
      "Epoch 1/100\n",
      " - 18s - loss: 5.4548 - acc: 0.3333 - val_loss: 5.0242 - val_acc: 0.4500\n",
      "Epoch 2/100\n",
      " - 17s - loss: 4.6299 - acc: 0.3750 - val_loss: 3.0649 - val_acc: 0.5000\n",
      "Epoch 3/100\n",
      " - 17s - loss: 4.5564 - acc: 0.3333 - val_loss: 4.1576 - val_acc: 0.4500\n",
      "Epoch 4/100\n",
      " - 17s - loss: 3.6904 - acc: 0.5417 - val_loss: 3.6422 - val_acc: 0.4000\n",
      "Epoch 5/100\n",
      " - 17s - loss: 2.4489 - acc: 0.5417 - val_loss: 3.3507 - val_acc: 0.4500\n",
      "Epoch 6/100\n",
      " - 17s - loss: 4.9762 - acc: 0.2917 - val_loss: 2.1961 - val_acc: 0.5000\n",
      "Epoch 7/100\n",
      " - 17s - loss: 4.8867 - acc: 0.5000 - val_loss: 2.4890 - val_acc: 0.4500\n",
      "Epoch 8/100\n",
      " - 16s - loss: 4.2516 - acc: 0.4583 - val_loss: 4.5059 - val_acc: 0.2222\n",
      "Epoch 9/100\n",
      " - 17s - loss: 5.5829 - acc: 0.3333 - val_loss: 4.0110 - val_acc: 0.2000\n",
      "Epoch 10/100\n",
      " - 17s - loss: 4.4581 - acc: 0.3333 - val_loss: 2.7944 - val_acc: 0.4500\n",
      "Epoch 11/100\n",
      " - 18s - loss: 3.3385 - acc: 0.4167 - val_loss: 2.4875 - val_acc: 0.6500\n",
      "Epoch 12/100\n",
      " - 19s - loss: 3.1179 - acc: 0.5417 - val_loss: 1.3164 - val_acc: 0.8000\n",
      "Epoch 13/100\n",
      " - 18s - loss: 1.6065 - acc: 0.6667 - val_loss: 2.7104 - val_acc: 0.5500\n",
      "Epoch 14/100\n",
      " - 18s - loss: 3.2187 - acc: 0.4583 - val_loss: 1.8861 - val_acc: 0.6000\n",
      "Epoch 15/100\n",
      " - 18s - loss: 1.7658 - acc: 0.7500 - val_loss: 1.3957 - val_acc: 0.7500\n",
      "Epoch 16/100\n",
      " - 17s - loss: 2.6849 - acc: 0.6250 - val_loss: 2.4445 - val_acc: 0.6667\n",
      "Epoch 17/100\n",
      " - 17s - loss: 3.3559 - acc: 0.5417 - val_loss: 2.4681 - val_acc: 0.5500\n",
      "Epoch 18/100\n",
      " - 18s - loss: 1.6234 - acc: 0.7917 - val_loss: 1.0360 - val_acc: 0.6500\n",
      "Epoch 19/100\n",
      " - 18s - loss: 1.5413 - acc: 0.7083 - val_loss: 1.8798 - val_acc: 0.7500\n",
      "Epoch 20/100\n",
      " - 18s - loss: 3.6284 - acc: 0.4583 - val_loss: 0.9384 - val_acc: 0.8000\n",
      "Epoch 21/100\n",
      " - 19s - loss: 2.8886 - acc: 0.6250 - val_loss: 0.8993 - val_acc: 0.7000\n",
      "Epoch 22/100\n",
      " - 17s - loss: 1.3256 - acc: 0.7917 - val_loss: 2.9777 - val_acc: 0.6500\n",
      "Epoch 23/100\n",
      " - 18s - loss: 2.8244 - acc: 0.6250 - val_loss: 1.7860 - val_acc: 0.6500\n",
      "Epoch 24/100\n",
      " - 16s - loss: 2.2952 - acc: 0.6667 - val_loss: 1.2495 - val_acc: 0.6111\n",
      "Epoch 25/100\n",
      " - 17s - loss: 0.8388 - acc: 0.8333 - val_loss: 2.2382 - val_acc: 0.7000\n",
      "Epoch 26/100\n",
      " - 17s - loss: 1.8478 - acc: 0.7083 - val_loss: 0.6708 - val_acc: 0.8000\n",
      "Epoch 27/100\n",
      " - 16s - loss: 2.6441 - acc: 0.6667 - val_loss: 1.0549 - val_acc: 0.7000\n",
      "Epoch 28/100\n",
      " - 17s - loss: 0.9881 - acc: 0.7500 - val_loss: 0.9449 - val_acc: 0.7000\n",
      "Epoch 29/100\n",
      " - 17s - loss: 2.3673 - acc: 0.5833 - val_loss: 0.9159 - val_acc: 0.8000\n",
      "Epoch 30/100\n",
      " - 17s - loss: 2.0946 - acc: 0.7083 - val_loss: 1.4605 - val_acc: 0.8500\n",
      "Epoch 31/100\n",
      " - 16s - loss: 2.1086 - acc: 0.5810 - val_loss: 0.5483 - val_acc: 0.8500\n",
      "Epoch 32/100\n",
      " - 16s - loss: 3.0289 - acc: 0.5000 - val_loss: 2.2442 - val_acc: 0.5556\n",
      "Epoch 33/100\n",
      " - 17s - loss: 1.6754 - acc: 0.6667 - val_loss: 0.7655 - val_acc: 0.7500\n",
      "Epoch 34/100\n",
      " - 17s - loss: 0.1474 - acc: 0.9167 - val_loss: 1.1803 - val_acc: 0.7500\n",
      "Epoch 35/100\n",
      " - 17s - loss: 1.4274 - acc: 0.7500 - val_loss: 0.5606 - val_acc: 0.8500\n",
      "Epoch 36/100\n",
      " - 17s - loss: 0.3605 - acc: 0.8333 - val_loss: 0.0626 - val_acc: 1.0000\n",
      "Epoch 37/100\n",
      " - 18s - loss: 0.5914 - acc: 0.7917 - val_loss: 1.2818 - val_acc: 0.7500\n",
      "Epoch 38/100\n",
      " - 17s - loss: 1.4349 - acc: 0.6667 - val_loss: 0.7890 - val_acc: 0.9000\n",
      "Epoch 39/100\n",
      " - 17s - loss: 0.9045 - acc: 0.7917 - val_loss: 0.8010 - val_acc: 0.7500\n",
      "Epoch 40/100\n",
      " - 16s - loss: 1.1639 - acc: 0.7500 - val_loss: 3.2633 - val_acc: 0.6111\n",
      "Epoch 41/100\n",
      " - 17s - loss: 1.4258 - acc: 0.6667 - val_loss: 0.7662 - val_acc: 0.8000\n",
      "Epoch 42/100\n",
      " - 17s - loss: 0.3901 - acc: 0.9167 - val_loss: 0.6434 - val_acc: 0.9000\n",
      "Epoch 43/100\n",
      " - 17s - loss: 0.8365 - acc: 0.9167 - val_loss: 1.3009 - val_acc: 0.8000\n",
      "Epoch 44/100\n",
      " - 17s - loss: 0.8646 - acc: 0.8750 - val_loss: 0.5075 - val_acc: 0.9000\n",
      "Epoch 45/100\n",
      " - 17s - loss: 0.5541 - acc: 0.8750 - val_loss: 0.6061 - val_acc: 0.8500\n",
      "Epoch 46/100\n",
      " - 16s - loss: 0.1346 - acc: 0.9583 - val_loss: 0.9243 - val_acc: 0.9000\n",
      "Epoch 47/100\n",
      " - 16s - loss: 0.9101 - acc: 0.8333 - val_loss: 0.9905 - val_acc: 0.7500\n",
      "Epoch 48/100\n",
      " - 16s - loss: 2.0535 - acc: 0.7500 - val_loss: 1.1383 - val_acc: 0.7778\n",
      "Epoch 49/100\n",
      " - 16s - loss: 0.7759 - acc: 0.9167 - val_loss: 1.6650 - val_acc: 0.8000\n",
      "Epoch 50/100\n",
      " - 17s - loss: 0.6882 - acc: 0.9583 - val_loss: 0.2278 - val_acc: 0.9000\n",
      "Epoch 51/100\n",
      " - 17s - loss: 0.8912 - acc: 0.8750 - val_loss: 0.9555 - val_acc: 0.7000\n",
      "Epoch 52/100\n",
      " - 17s - loss: 0.1688 - acc: 0.9583 - val_loss: 1.6672 - val_acc: 0.8500\n",
      "Epoch 53/100\n",
      " - 17s - loss: 1.9912 - acc: 0.6667 - val_loss: 0.3763 - val_acc: 0.9000\n",
      "Epoch 54/100\n",
      " - 17s - loss: 0.3967 - acc: 0.9167 - val_loss: 1.0460 - val_acc: 0.8000\n",
      "Epoch 55/100\n",
      " - 17s - loss: 1.7619 - acc: 0.7917 - val_loss: 0.3144 - val_acc: 0.9000\n",
      "Epoch 56/100\n",
      " - 16s - loss: 1.0204 - acc: 0.6250 - val_loss: 0.2578 - val_acc: 0.8889\n",
      "Epoch 57/100\n",
      " - 17s - loss: 0.6551 - acc: 0.8333 - val_loss: 0.8992 - val_acc: 0.9000\n",
      "Epoch 58/100\n",
      " - 17s - loss: 1.2572 - acc: 0.8333 - val_loss: 0.4619 - val_acc: 0.8500\n",
      "Epoch 59/100\n",
      " - 18s - loss: 0.3629 - acc: 0.8750 - val_loss: 1.2585 - val_acc: 0.8000\n",
      "Epoch 60/100\n",
      " - 17s - loss: 1.4279 - acc: 0.7917 - val_loss: 0.1884 - val_acc: 0.9500\n",
      "Epoch 61/100\n",
      " - 17s - loss: 1.0761 - acc: 0.8333 - val_loss: 0.9236 - val_acc: 0.7500\n",
      "Epoch 62/100\n",
      " - 16s - loss: 1.4266 - acc: 0.7857 - val_loss: 1.0700 - val_acc: 0.8500\n",
      "Epoch 63/100\n",
      " - 17s - loss: 0.0564 - acc: 0.9583 - val_loss: 0.8141 - val_acc: 0.7500\n",
      "Epoch 64/100\n",
      " - 16s - loss: 1.8898 - acc: 0.7083 - val_loss: 0.9029 - val_acc: 0.8889\n",
      "Epoch 65/100\n",
      " - 17s - loss: 0.1966 - acc: 0.9583 - val_loss: 0.2504 - val_acc: 0.9000\n",
      "Epoch 66/100\n",
      " - 17s - loss: 0.8819 - acc: 0.8333 - val_loss: 1.6478 - val_acc: 0.8000\n",
      "Epoch 67/100\n",
      " - 16s - loss: 1.2942 - acc: 0.8333 - val_loss: 0.2159 - val_acc: 0.9000\n",
      "Epoch 68/100\n",
      " - 16s - loss: 0.6058 - acc: 0.7917 - val_loss: 0.1730 - val_acc: 0.9500\n",
      "Epoch 69/100\n",
      " - 16s - loss: 1.1333 - acc: 0.8333 - val_loss: 0.9060 - val_acc: 0.9000\n",
      "Epoch 70/100\n",
      " - 17s - loss: 0.9755 - acc: 0.8750 - val_loss: 0.5824 - val_acc: 0.8500\n",
      "Epoch 71/100\n",
      " - 16s - loss: 0.5201 - acc: 0.8333 - val_loss: 0.3770 - val_acc: 0.9000\n",
      "Epoch 72/100\n",
      " - 16s - loss: 0.0166 - acc: 1.0000 - val_loss: 1.3961 - val_acc: 0.8333\n",
      "Epoch 73/100\n",
      " - 17s - loss: 1.2092 - acc: 0.7917 - val_loss: 0.4246 - val_acc: 0.9500\n",
      "Epoch 74/100\n",
      " - 16s - loss: 0.2815 - acc: 0.9583 - val_loss: 0.8996 - val_acc: 0.9000\n",
      "Epoch 75/100\n",
      " - 16s - loss: 0.2370 - acc: 0.9583 - val_loss: 0.9435 - val_acc: 0.8000\n",
      "Epoch 76/100\n",
      " - 16s - loss: 0.0452 - acc: 0.9583 - val_loss: 0.6105 - val_acc: 0.8000\n",
      "Epoch 77/100\n",
      " - 16s - loss: 0.4708 - acc: 0.9167 - val_loss: 0.9474 - val_acc: 0.9000\n",
      "Epoch 78/100\n",
      " - 17s - loss: 0.1170 - acc: 0.9167 - val_loss: 0.8623 - val_acc: 0.8000\n",
      "Epoch 79/100\n",
      " - 17s - loss: 0.1531 - acc: 0.9167 - val_loss: 0.7876 - val_acc: 0.9000\n",
      "Epoch 80/100\n",
      " - 17s - loss: 0.5053 - acc: 0.8750 - val_loss: 0.2916 - val_acc: 0.9444\n",
      "Epoch 81/100\n",
      " - 17s - loss: 0.3668 - acc: 0.8750 - val_loss: 0.5890 - val_acc: 0.9000\n",
      "Epoch 82/100\n",
      " - 16s - loss: 0.0360 - acc: 0.9583 - val_loss: 0.5289 - val_acc: 0.9000\n",
      "Epoch 83/100\n",
      " - 17s - loss: 0.1228 - acc: 0.9167 - val_loss: 0.1189 - val_acc: 0.9000\n",
      "Epoch 84/100\n",
      " - 17s - loss: 0.1958 - acc: 0.9583 - val_loss: 1.8347 - val_acc: 0.8000\n",
      "Epoch 85/100\n",
      " - 17s - loss: 0.4280 - acc: 0.9583 - val_loss: 0.1955 - val_acc: 0.9000\n",
      "Epoch 86/100\n",
      " - 16s - loss: 0.0084 - acc: 1.0000 - val_loss: 1.2560 - val_acc: 0.8000\n",
      "Epoch 87/100\n",
      " - 17s - loss: 0.2010 - acc: 0.9167 - val_loss: 0.2137 - val_acc: 0.9000\n"
     ]
    },
    {
     "name": "stdout",
     "output_type": "stream",
     "text": [
      "Epoch 88/100\n",
      " - 17s - loss: 0.2231 - acc: 0.9583 - val_loss: 0.4852 - val_acc: 0.8333\n",
      "Epoch 89/100\n",
      " - 17s - loss: 0.4893 - acc: 0.8750 - val_loss: 0.6329 - val_acc: 0.9000\n",
      "Epoch 90/100\n",
      " - 18s - loss: 0.3892 - acc: 0.8333 - val_loss: 0.3015 - val_acc: 0.9000\n",
      "Epoch 91/100\n",
      " - 16s - loss: 0.5751 - acc: 0.8333 - val_loss: 0.1783 - val_acc: 0.9000\n",
      "Epoch 92/100\n",
      " - 17s - loss: 0.1720 - acc: 0.9583 - val_loss: 1.1401 - val_acc: 0.8500\n",
      "Epoch 93/100\n",
      " - 17s - loss: 1.1971 - acc: 0.7952 - val_loss: 0.2845 - val_acc: 0.9000\n",
      "Epoch 94/100\n",
      " - 17s - loss: 0.3185 - acc: 0.9583 - val_loss: 1.3725 - val_acc: 0.8000\n",
      "Epoch 95/100\n",
      " - 17s - loss: 1.1807 - acc: 0.8333 - val_loss: 0.7282 - val_acc: 0.8500\n",
      "Epoch 96/100\n",
      " - 18s - loss: 0.0262 - acc: 1.0000 - val_loss: 0.3377 - val_acc: 0.8889\n",
      "Epoch 97/100\n",
      " - 17s - loss: 0.6720 - acc: 0.9167 - val_loss: 0.4681 - val_acc: 0.9500\n",
      "Epoch 98/100\n",
      " - 16s - loss: 0.3039 - acc: 0.9167 - val_loss: 1.0620 - val_acc: 0.9000\n",
      "Epoch 99/100\n",
      " - 16s - loss: 0.0576 - acc: 0.9583 - val_loss: 1.5583 - val_acc: 0.8000\n",
      "Epoch 100/100\n",
      " - 17s - loss: 0.0750 - acc: 0.9583 - val_loss: 0.1188 - val_acc: 0.9500\n"
     ]
    }
   ],
   "source": [
    "# patient early stopping\n",
    "# es = EarlyStopping(monitor='val_loss', mode='min', verbose=1, patience=100)\n",
    "# mc = ModelCheckpoint('best_model.h5', monitor='val_acc', mode='max', verbose=1, save_best_only=True)\n",
    "hist = model.fit_generator(train_batches, \n",
    "                    steps_per_epoch=4, \n",
    "                    validation_data=valid_batches, \n",
    "                    validation_steps=4,\n",
    "                    epochs=100,\n",
    "                    verbose=2)#, \n",
    "#                     callbacks=[es, mc])"
   ]
  },
  {
   "cell_type": "code",
   "execution_count": null,
   "metadata": {},
   "outputs": [],
   "source": [
    "for key in hist.history:\n",
    "    print(key)"
   ]
  },
  {
   "cell_type": "code",
   "execution_count": null,
   "metadata": {},
   "outputs": [],
   "source": [
    "asdf ="
   ]
  },
  {
   "cell_type": "code",
   "execution_count": null,
   "metadata": {},
   "outputs": [],
   "source": [
    "!ls"
   ]
  },
  {
   "cell_type": "code",
   "execution_count": 12,
   "metadata": {},
   "outputs": [],
   "source": [
    "model.save('hieroglyphs_vgg19_N35_only_custom_images.h5')"
   ]
  },
  {
   "cell_type": "code",
   "execution_count": null,
   "metadata": {},
   "outputs": [],
   "source": [
    "# predictions = model.predict_generator(test_batches, steps=1, verbose=1)"
   ]
  },
  {
   "cell_type": "code",
   "execution_count": 13,
   "metadata": {},
   "outputs": [
    {
     "name": "stdout",
     "output_type": "stream",
     "text": [
      "158/158 [==============================] - 62s 392ms/step\n",
      "[[9.99973178e-01 2.63251186e-05 5.02307557e-07]\n",
      " [7.55695999e-01 2.44300872e-01 3.11120584e-06]\n",
      " [1.00000000e+00 2.85441294e-15 4.34610042e-10]\n",
      " [1.00000000e+00 3.16065352e-09 6.28422148e-10]\n",
      " [9.99751866e-01 2.75514982e-18 2.48137832e-04]\n",
      " [1.00000000e+00 1.17585478e-14 4.33601732e-09]\n",
      " [6.47314417e-04 6.35666907e-01 3.63685757e-01]\n",
      " [9.70085204e-01 2.99147833e-02 2.13802887e-09]\n",
      " [9.99544203e-01 1.69322163e-06 4.54144349e-04]\n",
      " [9.99998569e-01 1.69218028e-09 1.43858256e-06]\n",
      " [1.00000000e+00 5.95598332e-13 5.90283271e-08]\n",
      " [9.99999285e-01 7.46490969e-07 1.81530453e-08]\n",
      " [9.99999881e-01 3.51675876e-11 1.04026007e-07]\n",
      " [5.60435047e-03 9.94394422e-01 1.22321558e-06]\n",
      " [1.00000000e+00 4.12518353e-11 3.68662184e-11]\n",
      " [1.00000000e+00 3.33161276e-12 9.99112112e-11]\n",
      " [9.97398376e-01 1.20960991e-07 2.60152901e-03]\n",
      " [9.99998569e-01 3.29491286e-07 1.06654215e-06]\n",
      " [9.99980211e-01 1.93540018e-05 4.29059781e-07]\n",
      " [9.96335387e-01 4.27486346e-04 3.23714339e-03]\n",
      " [9.99972582e-01 1.18550679e-05 1.56122896e-05]\n",
      " [9.99958158e-01 4.16585790e-05 2.21124694e-07]\n",
      " [1.00000000e+00 5.45262999e-08 1.08523492e-08]\n",
      " [1.00000000e+00 1.87061300e-08 1.74896542e-08]\n",
      " [1.00000000e+00 3.37817730e-12 1.00888651e-13]\n",
      " [9.24095094e-01 5.53478543e-08 7.59047717e-02]\n",
      " [9.99867678e-01 1.43984536e-07 1.32142217e-04]\n",
      " [9.99967217e-01 2.66505049e-06 3.01603723e-05]\n",
      " [1.00000000e+00 1.75374826e-09 3.24007754e-09]\n",
      " [9.99885917e-01 3.04075792e-11 1.14084956e-04]\n",
      " [1.00000000e+00 3.09738604e-14 9.57570967e-11]\n",
      " [1.00000000e+00 3.70414242e-08 2.61275696e-10]\n",
      " [1.00196828e-03 1.16298543e-05 9.98986304e-01]\n",
      " [9.99994755e-01 5.24373581e-06 2.42367498e-11]\n",
      " [1.00000000e+00 2.42056828e-08 7.46098905e-10]\n",
      " [9.99999404e-01 5.84085910e-07 5.13297467e-13]\n",
      " [8.46618295e-01 1.53381512e-01 1.70472376e-07]\n",
      " [1.00000000e+00 9.48126330e-14 2.26921346e-11]\n",
      " [1.00000000e+00 2.40625492e-10 5.13983108e-15]\n",
      " [9.99997258e-01 2.41430030e-06 3.60969125e-07]\n",
      " [1.00000000e+00 7.23526751e-12 3.43134166e-09]\n",
      " [9.99998331e-01 1.58461575e-07 1.50352889e-06]\n",
      " [1.34155550e-06 9.99900937e-01 9.77544114e-05]\n",
      " [2.24942894e-11 9.99997735e-01 2.25561234e-06]\n",
      " [2.27612080e-08 9.99999285e-01 7.23733706e-07]\n",
      " [8.68410280e-06 1.15130912e-04 9.99876142e-01]\n",
      " [7.69296502e-11 9.99887466e-01 1.12539310e-04]\n",
      " [3.13605142e-06 9.17228777e-03 9.90824580e-01]\n",
      " [5.88770048e-12 9.93216455e-01 6.78348914e-03]\n",
      " [1.59175091e-08 9.94854510e-01 5.14553441e-03]\n",
      " [3.85231152e-03 9.95987475e-01 1.60206662e-04]\n",
      " [1.16612342e-09 2.66748597e-03 9.97332573e-01]\n",
      " [1.18445409e-04 9.99785602e-01 9.59243989e-05]\n",
      " [3.68204525e-08 1.00000000e+00 8.39166070e-09]\n",
      " [8.65794476e-08 9.99999762e-01 1.83862213e-07]\n",
      " [6.58480872e-16 1.00000000e+00 6.44587023e-11]\n",
      " [1.98946311e-03 9.97682571e-01 3.27962160e-04]\n",
      " [2.73451417e-09 9.99997854e-01 2.13769044e-06]\n",
      " [1.54943336e-10 9.99949932e-01 5.00704664e-05]\n",
      " [8.11045133e-13 9.99997616e-01 2.35823654e-06]\n",
      " [1.79412223e-06 9.99983311e-01 1.49232483e-05]\n",
      " [1.98460220e-05 1.50384661e-03 9.98476326e-01]\n",
      " [3.00399506e-07 9.80762780e-01 1.92369781e-02]\n",
      " [1.07282759e-10 9.59371030e-01 4.06289473e-02]\n",
      " [3.08176968e-04 9.99426723e-01 2.65132607e-04]\n",
      " [6.46724729e-05 9.99934673e-01 6.55651093e-07]\n",
      " [2.40678474e-01 7.52685785e-01 6.63572224e-03]\n",
      " [1.58366980e-04 5.18735906e-05 9.99789774e-01]\n",
      " [1.16911252e-07 9.99821126e-01 1.78753849e-04]\n",
      " [5.21270151e-04 3.37661505e-01 6.61817253e-01]\n",
      " [6.00998917e-10 9.99992013e-01 7.97372104e-06]\n",
      " [4.35393824e-15 1.00000000e+00 6.39104369e-09]\n",
      " [6.69718361e-07 9.99999285e-01 1.96028485e-10]\n",
      " [7.18428339e-08 9.99999046e-01 8.93422339e-07]\n",
      " [6.86289603e-03 9.76296604e-01 1.68405361e-02]\n",
      " [1.77010429e-09 9.99984741e-01 1.53027413e-05]\n",
      " [1.51745305e-09 1.00000000e+00 2.49256082e-08]\n",
      " [3.03819252e-06 9.99996901e-01 3.34311001e-09]\n",
      " [2.08207080e-03 9.97916400e-01 1.48267247e-06]\n",
      " [9.80845571e-01 1.91397630e-02 1.47232440e-05]\n",
      " [5.21632494e-11 3.06560774e-03 9.96934414e-01]\n",
      " [1.23803966e-06 9.99998808e-01 3.17058713e-10]\n",
      " [5.41582512e-13 6.77123680e-05 9.99932289e-01]\n",
      " [1.12949969e-07 6.08610921e-02 9.39138770e-01]\n",
      " [1.43064824e-07 9.99822557e-01 1.77277281e-04]\n",
      " [7.91015170e-11 9.99999166e-01 8.51605193e-07]\n",
      " [3.66668201e-06 9.99995708e-01 6.47520835e-07]\n",
      " [2.68598370e-07 9.99996424e-01 3.32747004e-06]\n",
      " [1.47054733e-08 9.39937770e-01 6.00622147e-02]\n",
      " [1.17476251e-09 9.66863155e-01 3.31369154e-02]\n",
      " [3.52754397e-03 9.85768974e-01 1.07035274e-02]\n",
      " [1.09472277e-03 1.55724764e-01 8.43180537e-01]\n",
      " [1.57862885e-07 2.91654316e-04 9.99708235e-01]\n",
      " [4.58076829e-03 9.95415449e-01 3.72885984e-06]\n",
      " [1.90671076e-10 9.99019146e-01 9.80798388e-04]\n",
      " [4.80377960e-10 9.99999642e-01 3.68421695e-07]\n",
      " [7.10954629e-11 9.99999285e-01 7.48611228e-07]\n",
      " [1.36251759e-03 1.70248841e-05 9.98620510e-01]\n",
      " [1.52439406e-09 9.93844390e-01 6.15560776e-03]\n",
      " [2.12355587e-03 9.97846365e-01 3.01002510e-05]\n",
      " [3.18153216e-05 9.99968171e-01 7.99424438e-09]\n",
      " [5.04425941e-07 9.12505209e-01 8.74942914e-02]\n",
      " [1.26857544e-11 9.99996662e-01 3.29997101e-06]\n",
      " [1.13376974e-09 8.32435369e-01 1.67564675e-01]\n",
      " [2.59951457e-06 9.57837105e-01 4.21602614e-02]\n",
      " [2.23291465e-08 1.78997521e-03 9.98210073e-01]\n",
      " [2.49467713e-09 9.99998331e-01 1.69525458e-06]\n",
      " [4.64539379e-01 5.35110712e-01 3.49872949e-04]\n",
      " [2.63950001e-10 2.88301498e-01 7.11698413e-01]\n",
      " [5.71070013e-05 9.39736784e-01 6.02061003e-02]\n",
      " [4.01631289e-04 9.99595106e-01 3.33244679e-06]\n",
      " [6.99898983e-09 9.88719285e-01 1.12806689e-02]\n",
      " [1.11100440e-09 3.25152814e-06 9.99996781e-01]\n",
      " [6.59717472e-08 6.86617196e-03 9.93133664e-01]\n",
      " [7.56098931e-16 1.75076861e-15 1.00000000e+00]\n",
      " [8.55825899e-09 5.60990372e-07 9.99999404e-01]\n",
      " [1.08645875e-08 2.35045192e-07 9.99999762e-01]\n",
      " [1.07984664e-02 4.12102118e-02 9.47991312e-01]\n",
      " [4.20439378e-12 9.31571226e-12 1.00000000e+00]\n",
      " [3.60681846e-10 5.69640002e-10 1.00000000e+00]\n",
      " [2.51265719e-05 2.19834149e-01 7.80140758e-01]\n",
      " [8.46905541e-03 5.05809069e-01 4.85721886e-01]\n",
      " [7.19845641e-11 1.03328093e-05 9.99989629e-01]\n",
      " [7.89816400e-13 3.14766320e-14 1.00000000e+00]\n",
      " [1.38081062e-21 1.06774792e-15 1.00000000e+00]\n",
      " [3.25663060e-14 9.74460584e-16 1.00000000e+00]\n",
      " [3.45151103e-03 5.34772761e-02 9.43071246e-01]\n",
      " [3.15556678e-11 3.81317825e-11 1.00000000e+00]\n",
      " [1.18558913e-10 1.30203807e-06 9.99998689e-01]\n",
      " [6.47392937e-07 3.38051507e-08 9.99999404e-01]\n",
      " [1.84147973e-06 9.99985337e-01 1.28255906e-05]\n",
      " [4.34525349e-09 6.00366652e-01 3.99633378e-01]\n",
      " [4.15630794e-11 4.01625130e-06 9.99995947e-01]\n",
      " [1.53407498e-04 9.99730885e-01 1.15672898e-04]\n",
      " [4.01764873e-06 3.97903386e-06 9.99992013e-01]\n",
      " [1.07162407e-07 3.85816165e-05 9.99961257e-01]\n",
      " [1.20543802e-07 2.58506218e-04 9.99741375e-01]\n",
      " [1.05496758e-06 3.00554256e-03 9.96993423e-01]\n",
      " [8.39376524e-02 1.17509828e-07 9.16062236e-01]\n",
      " [3.87423465e-13 5.51199193e-08 1.00000000e+00]\n",
      " [4.93746711e-07 1.75862964e-02 9.82413292e-01]\n",
      " [1.15568864e-13 1.62939287e-10 1.00000000e+00]\n",
      " [4.97577890e-12 1.04429643e-03 9.98955727e-01]\n",
      " [2.22638073e-06 5.21331370e-01 4.78666365e-01]\n",
      " [2.04123608e-05 4.47686443e-06 9.99975085e-01]\n",
      " [1.42109639e-06 1.52437470e-03 9.98474181e-01]\n",
      " [6.43507701e-06 1.40086189e-02 9.85984921e-01]\n",
      " [3.84366011e-11 1.38391362e-04 9.99861598e-01]\n",
      " [4.12236536e-16 1.78981802e-10 1.00000000e+00]\n",
      " [1.33197580e-03 2.79876655e-08 9.98668075e-01]\n",
      " [1.56192036e-05 9.86658707e-02 9.01318610e-01]\n",
      " [1.98412442e-09 2.46266922e-04 9.99753773e-01]\n",
      " [4.13113859e-14 5.37355154e-13 1.00000000e+00]\n",
      " [1.68754851e-16 4.46698789e-10 1.00000000e+00]\n",
      " [5.31599678e-16 1.91782283e-06 9.99998093e-01]\n",
      " [2.03862487e-06 8.31832294e-04 9.99166131e-01]\n",
      " [1.91414332e-11 1.86657079e-03 9.98133481e-01]\n",
      " [8.70232668e-07 3.83165542e-07 9.99998808e-01]]\n"
     ]
    }
   ],
   "source": [
    "STEP_SIZE_TEST=test_batches.n//test_batches.batch_size\n",
    "test_batches.reset()\n",
    "pred=model.predict_generator(test_batches,\n",
    "steps=STEP_SIZE_TEST,\n",
    "verbose=1)\n",
    "# print(pred)"
   ]
  },
  {
   "cell_type": "code",
   "execution_count": 14,
   "metadata": {},
   "outputs": [
    {
     "data": {
      "text/plain": [
       "array([0, 0, 0, 0, 0, 0, 1, 0, 0, 0, 0, 0, 0, 1, 0, 0, 0, 0, 0, 0, 0, 0,\n",
       "       0, 0, 0, 0, 0, 0, 0, 0, 0, 0, 2, 0, 0, 0, 0, 0, 0, 0, 0, 0, 1, 1,\n",
       "       1, 2, 1, 2, 1, 1, 1, 2, 1, 1, 1, 1, 1, 1, 1, 1, 1, 2, 1, 1, 1, 1,\n",
       "       1, 2, 1, 2, 1, 1, 1, 1, 1, 1, 1, 1, 1, 0, 2, 1, 2, 2, 1, 1, 1, 1,\n",
       "       1, 1, 1, 2, 2, 1, 1, 1, 1, 2, 1, 1, 1, 1, 1, 1, 1, 2, 1, 1, 2, 1,\n",
       "       1, 1, 2, 2, 2, 2, 2, 2, 2, 2, 2, 1, 2, 2, 2, 2, 2, 2, 2, 2, 1, 1,\n",
       "       2, 1, 2, 2, 2, 2, 2, 2, 2, 2, 2, 1, 2, 2, 2, 2, 2, 2, 2, 2, 2, 2,\n",
       "       2, 2, 2, 2])"
      ]
     },
     "execution_count": 14,
     "metadata": {},
     "output_type": "execute_result"
    }
   ],
   "source": [
    "predicted_class_indices=np.argmax(pred,axis=1)\n",
    "predicted_class_indices"
   ]
  },
  {
   "cell_type": "code",
   "execution_count": 15,
   "metadata": {},
   "outputs": [
    {
     "name": "stdout",
     "output_type": "stream",
     "text": [
      "{'N35': 0, 'N35_part': 1, 'noise': 2}\n",
      "{0: 'N35', 1: 'N35_part', 2: 'noise'}\n"
     ]
    }
   ],
   "source": [
    "labels = (train_batches.class_indices)\n",
    "print(labels)\n",
    "labels = dict((v,k) for k,v in labels.items())\n",
    "print(labels)\n",
    "predictions = [labels[k] for k in predicted_class_indices]"
   ]
  },
  {
   "cell_type": "code",
   "execution_count": 16,
   "metadata": {},
   "outputs": [
    {
     "data": {
      "text/plain": [
       "['N35',\n",
       " 'N35',\n",
       " 'N35',\n",
       " 'N35',\n",
       " 'N35',\n",
       " 'N35',\n",
       " 'N35_part',\n",
       " 'N35',\n",
       " 'N35',\n",
       " 'N35',\n",
       " 'N35']"
      ]
     },
     "execution_count": 16,
     "metadata": {},
     "output_type": "execute_result"
    }
   ],
   "source": [
    "predictions[:11]"
   ]
  },
  {
   "cell_type": "code",
   "execution_count": 24,
   "metadata": {},
   "outputs": [],
   "source": [
    "def get_glyph_name(series):\n",
    "    file = series['filename']\n",
    "    m = re.match(r'^([A-Z]{1}\\d+)/', file)\n",
    "    part = re.search(r'(N35_part)/', file)\n",
    "    if m:\n",
    "        return m.group(1)\n",
    "    elif part:\n",
    "        return part.group(1)\n",
    "    else:\n",
    "        return 'noise'"
   ]
  },
  {
   "cell_type": "code",
   "execution_count": 25,
   "metadata": {},
   "outputs": [],
   "source": [
    "pred_df = pd.DataFrame(predictions, columns=['predicted'])\n",
    "pred_df = pred_df.merge(pd.DataFrame(test_batches.filenames, columns=['filename']), left_index=True, right_index=True)\n",
    "pred_df['glyph'] = pred_df.apply(lambda row: get_glyph_name(row), axis=1)\n",
    "pred_df['match'] = pred_df['predicted'] == pred_df['glyph']\n",
    "pred_df.to_csv('/Users/scott/p5/m17_predictions.csv', index=False)"
   ]
  },
  {
   "cell_type": "code",
   "execution_count": 26,
   "metadata": {},
   "outputs": [
    {
     "data": {
      "text/plain": [
       "0.8481012658227848"
      ]
     },
     "execution_count": 26,
     "metadata": {},
     "output_type": "execute_result"
    }
   ],
   "source": [
    "acc = pred_df['match'].sum() / len(pred_df)\n",
    "acc"
   ]
  },
  {
   "cell_type": "code",
   "execution_count": 28,
   "metadata": {},
   "outputs": [
    {
     "data": {
      "text/html": [
       "<div>\n",
       "<style scoped>\n",
       "    .dataframe tbody tr th:only-of-type {\n",
       "        vertical-align: middle;\n",
       "    }\n",
       "\n",
       "    .dataframe tbody tr th {\n",
       "        vertical-align: top;\n",
       "    }\n",
       "\n",
       "    .dataframe thead th {\n",
       "        text-align: right;\n",
       "    }\n",
       "</style>\n",
       "<table border=\"1\" class=\"dataframe\">\n",
       "  <thead>\n",
       "    <tr style=\"text-align: right;\">\n",
       "      <th></th>\n",
       "      <th>predicted</th>\n",
       "      <th>filename</th>\n",
       "      <th>glyph</th>\n",
       "      <th>match</th>\n",
       "    </tr>\n",
       "  </thead>\n",
       "  <tbody>\n",
       "    <tr>\n",
       "      <th>14</th>\n",
       "      <td>N35</td>\n",
       "      <td>N35/img_x_1488_y_153.png</td>\n",
       "      <td>N35</td>\n",
       "      <td>True</td>\n",
       "    </tr>\n",
       "    <tr>\n",
       "      <th>25</th>\n",
       "      <td>N35</td>\n",
       "      <td>N35/img_x_419_y_497.png</td>\n",
       "      <td>N35</td>\n",
       "      <td>True</td>\n",
       "    </tr>\n",
       "    <tr>\n",
       "      <th>144</th>\n",
       "      <td>noise</td>\n",
       "      <td>noise/img_x_756_y_605.png</td>\n",
       "      <td>noise</td>\n",
       "      <td>True</td>\n",
       "    </tr>\n",
       "    <tr>\n",
       "      <th>121</th>\n",
       "      <td>N35_part</td>\n",
       "      <td>noise/img_x_1599_y_282.png</td>\n",
       "      <td>noise</td>\n",
       "      <td>False</td>\n",
       "    </tr>\n",
       "    <tr>\n",
       "      <th>136</th>\n",
       "      <td>noise</td>\n",
       "      <td>noise/img_x_437_y_597.png</td>\n",
       "      <td>noise</td>\n",
       "      <td>True</td>\n",
       "    </tr>\n",
       "  </tbody>\n",
       "</table>\n",
       "</div>"
      ],
      "text/plain": [
       "    predicted                    filename  glyph  match\n",
       "14        N35    N35/img_x_1488_y_153.png    N35   True\n",
       "25        N35     N35/img_x_419_y_497.png    N35   True\n",
       "144     noise   noise/img_x_756_y_605.png  noise   True\n",
       "121  N35_part  noise/img_x_1599_y_282.png  noise  False\n",
       "136     noise   noise/img_x_437_y_597.png  noise   True"
      ]
     },
     "execution_count": 28,
     "metadata": {},
     "output_type": "execute_result"
    }
   ],
   "source": [
    "pred_df.sample(5)"
   ]
  },
  {
   "cell_type": "code",
   "execution_count": null,
   "metadata": {},
   "outputs": [],
   "source": [
    "m17 = pred_df[pred_df['predicted'] == 'M17']"
   ]
  },
  {
   "cell_type": "code",
   "execution_count": null,
   "metadata": {},
   "outputs": [],
   "source": [
    "m17.head()"
   ]
  },
  {
   "cell_type": "code",
   "execution_count": null,
   "metadata": {},
   "outputs": [],
   "source": [
    "m17.filename[:5]"
   ]
  },
  {
   "cell_type": "code",
   "execution_count": null,
   "metadata": {},
   "outputs": [],
   "source": [
    "import shutil\n",
    "for image_file in ['/Users/scott/p5/data/interim/m17/' + name for name in m17.filename.sample(100)]:\n",
    "    print(image_file)\n",
    "    shutil.copy2(image_file, '/Users/scott/p5/data/interim/m17/positives')\n",
    "    \n"
   ]
  },
  {
   "cell_type": "code",
   "execution_count": null,
   "metadata": {},
   "outputs": [],
   "source": [
    " # /Users/scott/p5/data/interim/m17"
   ]
  },
  {
   "cell_type": "code",
   "execution_count": null,
   "metadata": {},
   "outputs": [],
   "source": []
  },
  {
   "cell_type": "code",
   "execution_count": null,
   "metadata": {},
   "outputs": [],
   "source": []
  },
  {
   "cell_type": "code",
   "execution_count": null,
   "metadata": {},
   "outputs": [],
   "source": [
    "model = load_model(os.path.expanduser('hieroglyphs_vgg19_M17_only.h5'))"
   ]
  },
  {
   "cell_type": "code",
   "execution_count": null,
   "metadata": {},
   "outputs": [],
   "source": [
    "test_batches = ImageDataGenerator(preprocessing_function=to_gray_scale).flow_from_directory(os.path.expanduser('/Users/scott/p5/data/interim/m17'), \n",
    "                                                        target_size=(224,224),\n",
    "                                                        shuffle=False,\n",
    "                                                        batch_size=1)"
   ]
  },
  {
   "cell_type": "code",
   "execution_count": null,
   "metadata": {},
   "outputs": [],
   "source": [
    "# model.predict()\n",
    "# cv.im"
   ]
  },
  {
   "cell_type": "markdown",
   "metadata": {},
   "source": [
    "### PLAY"
   ]
  },
  {
   "cell_type": "code",
   "execution_count": null,
   "metadata": {},
   "outputs": [],
   "source": [
    "temp = np.random.randn(50,100)\n",
    "# temp"
   ]
  },
  {
   "cell_type": "code",
   "execution_count": null,
   "metadata": {},
   "outputs": [],
   "source": [
    "plt.imshow(temp,cmap = 'jet')\n",
    "plt.colorbar()"
   ]
  },
  {
   "cell_type": "code",
   "execution_count": null,
   "metadata": {},
   "outputs": [],
   "source": [
    "import cv2 \n"
   ]
  },
  {
   "cell_type": "code",
   "execution_count": null,
   "metadata": {},
   "outputs": [],
   "source": [
    "!ls"
   ]
  },
  {
   "cell_type": "code",
   "execution_count": null,
   "metadata": {},
   "outputs": [],
   "source": [
    "img = cv2.imread('SarcEastGH.jpg')  \n"
   ]
  },
  {
   "cell_type": "code",
   "execution_count": null,
   "metadata": {},
   "outputs": [],
   "source": [
    "img.shape"
   ]
  },
  {
   "cell_type": "code",
   "execution_count": null,
   "metadata": {},
   "outputs": [],
   "source": [
    "plt.figure(figsize=[10,10])\n",
    "plt.imshow(img)"
   ]
  },
  {
   "cell_type": "code",
   "execution_count": null,
   "metadata": {},
   "outputs": [],
   "source": [
    "temp = np.random.randn(1060,1720,3)\n"
   ]
  },
  {
   "cell_type": "code",
   "execution_count": null,
   "metadata": {},
   "outputs": [],
   "source": [
    "plt.figure(figsize=[10,10])\n",
    "plt.imshow(img+temp)"
   ]
  },
  {
   "cell_type": "code",
   "execution_count": null,
   "metadata": {},
   "outputs": [],
   "source": []
  }
 ],
 "metadata": {
  "kernelspec": {
   "display_name": "Python [conda env:p5] *",
   "language": "python",
   "name": "conda-env-p5-py"
  },
  "language_info": {
   "codemirror_mode": {
    "name": "ipython",
    "version": 3
   },
   "file_extension": ".py",
   "mimetype": "text/x-python",
   "name": "python",
   "nbconvert_exporter": "python",
   "pygments_lexer": "ipython3",
   "version": "3.7.5"
  }
 },
 "nbformat": 4,
 "nbformat_minor": 2
}
