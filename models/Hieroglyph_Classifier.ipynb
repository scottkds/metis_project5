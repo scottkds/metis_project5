{
 "cells": [
  {
   "cell_type": "code",
   "execution_count": 1,
   "metadata": {},
   "outputs": [
    {
     "name": "stderr",
     "output_type": "stream",
     "text": [
      "Using TensorFlow backend.\n"
     ]
    }
   ],
   "source": [
    "# Imports\n",
    "import pandas as pd\n",
    "import numpy as np\n",
    "import matplotlib.pyplot as plt\n",
    "from glob import glob\n",
    "import os.path\n",
    "import re\n",
    "from PIL import Image\n",
    "from io import BytesIO\n",
    "from IPython.display import HTML\n",
    "import base64\n",
    "\n",
    "\n",
    "from sklearn.metrics import confusion_matrix\n",
    "from sklearn.metrics import f1_score, recall_score, precision_score, classification_report\n",
    "import seaborn as sns\n",
    "\n",
    "# Keras imports\n",
    "import keras\n",
    "from keras.layers.core import Dense, Flatten\n",
    "from keras.optimizers import Adam, SGD\n",
    "from keras.models import load_model\n",
    "from keras.models import Sequential, Model\n",
    "from keras.metrics import categorical_crossentropy\n",
    "from keras.preprocessing.image import ImageDataGenerator\n",
    "from keras.callbacks import EarlyStopping\n",
    "from keras.callbacks import ModelCheckpoint"
   ]
  },
  {
   "cell_type": "code",
   "execution_count": 2,
   "metadata": {},
   "outputs": [],
   "source": [
    "# Set pandas options\n",
    "pd.set_option('display.max_columns', None)"
   ]
  },
  {
   "cell_type": "code",
   "execution_count": 3,
   "metadata": {},
   "outputs": [],
   "source": [
    "# Borrowed from a kaggle post to display images inside a dataframe\n",
    "def get_thumbnail(path):\n",
    "    i = Image.open(path)\n",
    "    i.thumbnail((150, 150), Image.LANCZOS)\n",
    "    return i\n",
    "\n",
    "def image_base64(im):\n",
    "    if isinstance(im, str):\n",
    "        im = get_thumbnail(im)\n",
    "    with BytesIO() as buffer:\n",
    "        im.save(buffer, 'jpeg')\n",
    "        return base64.b64encode(buffer.getvalue()).decode()\n",
    "\n",
    "def image_formatter(im):\n",
    "    return f'<img src=\"data:image/jpeg;base64,{image_base64(im)}\">'"
   ]
  },
  {
   "cell_type": "code",
   "execution_count": 4,
   "metadata": {},
   "outputs": [
    {
     "data": {
      "text/plain": [
       "50"
      ]
     },
     "execution_count": 4,
     "metadata": {},
     "output_type": "execute_result"
    }
   ],
   "source": [
    "# A function that counts the number of classes of images to train\n",
    "def get_classes(path):\n",
    "    \"\"\"Returns the number of files and subdirectories in a directory. Intended\n",
    "    to be used to count classes of images to use to train VGG19.\n",
    "    Input: a filesystem path.\n",
    "    Outpit: The number of files and subdirectories in a directory.\"\"\"\n",
    "    directories = glob(os.path.join(os.path.expanduser(path), '*'))\n",
    "    return [dir.split('/')[-1] for dir in directories]\n",
    "n_classes =  len(get_classes('~/p5/data/interim/train'))\n",
    "n_classes"
   ]
  },
  {
   "cell_type": "code",
   "execution_count": 5,
   "metadata": {},
   "outputs": [
    {
     "name": "stdout",
     "output_type": "stream",
     "text": [
      "WARNING:tensorflow:From /Applications/conda/anaconda3/envs/p5/lib/python3.7/site-packages/keras/backend/tensorflow_backend.py:74: The name tf.get_default_graph is deprecated. Please use tf.compat.v1.get_default_graph instead.\n",
      "\n",
      "WARNING:tensorflow:From /Applications/conda/anaconda3/envs/p5/lib/python3.7/site-packages/keras/backend/tensorflow_backend.py:517: The name tf.placeholder is deprecated. Please use tf.compat.v1.placeholder instead.\n",
      "\n",
      "WARNING:tensorflow:From /Applications/conda/anaconda3/envs/p5/lib/python3.7/site-packages/keras/backend/tensorflow_backend.py:4138: The name tf.random_uniform is deprecated. Please use tf.random.uniform instead.\n",
      "\n",
      "WARNING:tensorflow:From /Applications/conda/anaconda3/envs/p5/lib/python3.7/site-packages/keras/backend/tensorflow_backend.py:3976: The name tf.nn.max_pool is deprecated. Please use tf.nn.max_pool2d instead.\n",
      "\n",
      "WARNING:tensorflow:From /Applications/conda/anaconda3/envs/p5/lib/python3.7/site-packages/keras/backend/tensorflow_backend.py:174: The name tf.get_default_session is deprecated. Please use tf.compat.v1.get_default_session instead.\n",
      "\n",
      "WARNING:tensorflow:From /Applications/conda/anaconda3/envs/p5/lib/python3.7/site-packages/keras/backend/tensorflow_backend.py:181: The name tf.ConfigProto is deprecated. Please use tf.compat.v1.ConfigProto instead.\n",
      "\n",
      "WARNING:tensorflow:From /Applications/conda/anaconda3/envs/p5/lib/python3.7/site-packages/keras/backend/tensorflow_backend.py:186: The name tf.Session is deprecated. Please use tf.compat.v1.Session instead.\n",
      "\n",
      "WARNING:tensorflow:From /Applications/conda/anaconda3/envs/p5/lib/python3.7/site-packages/keras/backend/tensorflow_backend.py:190: The name tf.global_variables is deprecated. Please use tf.compat.v1.global_variables instead.\n",
      "\n",
      "WARNING:tensorflow:From /Applications/conda/anaconda3/envs/p5/lib/python3.7/site-packages/keras/backend/tensorflow_backend.py:199: The name tf.is_variable_initialized is deprecated. Please use tf.compat.v1.is_variable_initialized instead.\n",
      "\n",
      "WARNING:tensorflow:From /Applications/conda/anaconda3/envs/p5/lib/python3.7/site-packages/keras/backend/tensorflow_backend.py:206: The name tf.variables_initializer is deprecated. Please use tf.compat.v1.variables_initializer instead.\n",
      "\n"
     ]
    }
   ],
   "source": [
    "# Create a model based on a topless VGG19 model. \n",
    "vgg19 = keras.applications.vgg19.VGG19(weights='imagenet', include_top=False, input_shape=(224,224, 3))"
   ]
  },
  {
   "cell_type": "code",
   "execution_count": 6,
   "metadata": {},
   "outputs": [],
   "source": [
    "# Add a new top to the VGG19 model\n",
    "base_model = vgg19\n",
    " \n",
    "# Freeze convolutional layers\n",
    "for layer in base_model.layers:\n",
    "    layer.trainable = False \n",
    "    \n",
    "x = base_model.output\n",
    "x = Flatten()(x) # flatten from convolution tensor output \n",
    "predictions = Dense(n_classes, activation='softmax')(x) # should match # of classes predicted\n",
    "\n",
    "# this is the model we will train\n",
    "model = Model(inputs=base_model.input, outputs=predictions)"
   ]
  },
  {
   "cell_type": "code",
   "execution_count": 7,
   "metadata": {},
   "outputs": [
    {
     "name": "stdout",
     "output_type": "stream",
     "text": [
      "_________________________________________________________________\n",
      "Layer (type)                 Output Shape              Param #   \n",
      "=================================================================\n",
      "input_1 (InputLayer)         (None, 224, 224, 3)       0         \n",
      "_________________________________________________________________\n",
      "block1_conv1 (Conv2D)        (None, 224, 224, 64)      1792      \n",
      "_________________________________________________________________\n",
      "block1_conv2 (Conv2D)        (None, 224, 224, 64)      36928     \n",
      "_________________________________________________________________\n",
      "block1_pool (MaxPooling2D)   (None, 112, 112, 64)      0         \n",
      "_________________________________________________________________\n",
      "block2_conv1 (Conv2D)        (None, 112, 112, 128)     73856     \n",
      "_________________________________________________________________\n",
      "block2_conv2 (Conv2D)        (None, 112, 112, 128)     147584    \n",
      "_________________________________________________________________\n",
      "block2_pool (MaxPooling2D)   (None, 56, 56, 128)       0         \n",
      "_________________________________________________________________\n",
      "block3_conv1 (Conv2D)        (None, 56, 56, 256)       295168    \n",
      "_________________________________________________________________\n",
      "block3_conv2 (Conv2D)        (None, 56, 56, 256)       590080    \n",
      "_________________________________________________________________\n",
      "block3_conv3 (Conv2D)        (None, 56, 56, 256)       590080    \n",
      "_________________________________________________________________\n",
      "block3_conv4 (Conv2D)        (None, 56, 56, 256)       590080    \n",
      "_________________________________________________________________\n",
      "block3_pool (MaxPooling2D)   (None, 28, 28, 256)       0         \n",
      "_________________________________________________________________\n",
      "block4_conv1 (Conv2D)        (None, 28, 28, 512)       1180160   \n",
      "_________________________________________________________________\n",
      "block4_conv2 (Conv2D)        (None, 28, 28, 512)       2359808   \n",
      "_________________________________________________________________\n",
      "block4_conv3 (Conv2D)        (None, 28, 28, 512)       2359808   \n",
      "_________________________________________________________________\n",
      "block4_conv4 (Conv2D)        (None, 28, 28, 512)       2359808   \n",
      "_________________________________________________________________\n",
      "block4_pool (MaxPooling2D)   (None, 14, 14, 512)       0         \n",
      "_________________________________________________________________\n",
      "block5_conv1 (Conv2D)        (None, 14, 14, 512)       2359808   \n",
      "_________________________________________________________________\n",
      "block5_conv2 (Conv2D)        (None, 14, 14, 512)       2359808   \n",
      "_________________________________________________________________\n",
      "block5_conv3 (Conv2D)        (None, 14, 14, 512)       2359808   \n",
      "_________________________________________________________________\n",
      "block5_conv4 (Conv2D)        (None, 14, 14, 512)       2359808   \n",
      "_________________________________________________________________\n",
      "block5_pool (MaxPooling2D)   (None, 7, 7, 512)         0         \n",
      "_________________________________________________________________\n",
      "flatten_1 (Flatten)          (None, 25088)             0         \n",
      "_________________________________________________________________\n",
      "dense_1 (Dense)              (None, 50)                1254450   \n",
      "=================================================================\n",
      "Total params: 21,278,834\n",
      "Trainable params: 1,254,450\n",
      "Non-trainable params: 20,024,384\n",
      "_________________________________________________________________\n"
     ]
    }
   ],
   "source": [
    "# Show a summary of the model.\n",
    "model.summary()"
   ]
  },
  {
   "cell_type": "code",
   "execution_count": 8,
   "metadata": {},
   "outputs": [],
   "source": [
    "# Set the paths of the train, validate, and test images.\n",
    "train_path = os.path.expanduser('~/p5/data/interim/train')\n",
    "test_path = os.path.expanduser('~/p5/data/interim/test')\n",
    "valid_path = os.path.expanduser('~/p5/data/interim/valid')"
   ]
  },
  {
   "cell_type": "code",
   "execution_count": 9,
   "metadata": {},
   "outputs": [
    {
     "name": "stdout",
     "output_type": "stream",
     "text": [
      "Found 2766 images belonging to 50 classes.\n",
      "Found 605 images belonging to 50 classes.\n",
      "Found 543 images belonging to 50 classes.\n"
     ]
    }
   ],
   "source": [
    "# Create ImageDataGenerators to feed images to the model.\n",
    "train_batches = ImageDataGenerator().flow_from_directory(train_path, \n",
    "                                                         target_size=(224,224), \n",
    "                                                         batch_size=6)\n",
    "valid_batches = ImageDataGenerator().flow_from_directory(valid_path, \n",
    "                                                         target_size=(224,224), \n",
    "                                                         batch_size=5)\n",
    "test_batches = ImageDataGenerator().flow_from_directory(test_path, \n",
    "                                                        target_size=(224,224),\n",
    "                                                        shuffle=False,\n",
    "                                                        batch_size=1)\n"
   ]
  },
  {
   "cell_type": "code",
   "execution_count": 10,
   "metadata": {},
   "outputs": [
    {
     "name": "stdout",
     "output_type": "stream",
     "text": [
      "WARNING:tensorflow:From /Applications/conda/anaconda3/envs/p5/lib/python3.7/site-packages/keras/optimizers.py:790: The name tf.train.Optimizer is deprecated. Please use tf.compat.v1.train.Optimizer instead.\n",
      "\n",
      "WARNING:tensorflow:From /Applications/conda/anaconda3/envs/p5/lib/python3.7/site-packages/keras/backend/tensorflow_backend.py:3295: The name tf.log is deprecated. Please use tf.math.log instead.\n",
      "\n"
     ]
    }
   ],
   "source": [
    "# Compile the model\n",
    "model.compile(Adam(lr=0.00002), loss='categorical_crossentropy', metrics=['accuracy'])"
   ]
  },
  {
   "cell_type": "code",
   "execution_count": 11,
   "metadata": {},
   "outputs": [
    {
     "name": "stdout",
     "output_type": "stream",
     "text": [
      "WARNING:tensorflow:From /Applications/conda/anaconda3/envs/p5/lib/python3.7/site-packages/tensorflow_core/python/ops/math_grad.py:1424: where (from tensorflow.python.ops.array_ops) is deprecated and will be removed in a future version.\n",
      "Instructions for updating:\n",
      "Use tf.where in 2.0, which has the same broadcast rule as np.where\n",
      "WARNING:tensorflow:From /Applications/conda/anaconda3/envs/p5/lib/python3.7/site-packages/keras/backend/tensorflow_backend.py:986: The name tf.assign_add is deprecated. Please use tf.compat.v1.assign_add instead.\n",
      "\n",
      "WARNING:tensorflow:From /Applications/conda/anaconda3/envs/p5/lib/python3.7/site-packages/keras/backend/tensorflow_backend.py:973: The name tf.assign is deprecated. Please use tf.compat.v1.assign instead.\n",
      "\n",
      "Epoch 1/1\n",
      " - 18s - loss: 13.8005 - acc: 0.0000e+00 - val_loss: 15.3256 - val_acc: 0.0000e+00\n",
      "\n",
      "Epoch 00001: val_acc improved from -inf to 0.00000, saving model to best_model.h5\n"
     ]
    }
   ],
   "source": [
    "# Train the model using early stopping, and checlpoints.\n",
    "es = EarlyStopping(monitor='val_loss', mode='min', verbose=1, patience=100)\n",
    "mc = ModelCheckpoint('best_model.h5', monitor='val_acc', mode='max', verbose=1, save_best_only=True)\n",
    "hist = model.fit_generator(train_batches, \n",
    "                    steps_per_epoch=4, \n",
    "                    validation_data=valid_batches, \n",
    "                    validation_steps=4,\n",
    "                    epochs=1,\n",
    "                    verbose=2, \n",
    "                    callbacks=[es, mc])"
   ]
  },
  {
   "cell_type": "code",
   "execution_count": 12,
   "metadata": {},
   "outputs": [],
   "source": [
    "# model.save('hieroglyphs_vgg19.h5')"
   ]
  },
  {
   "cell_type": "code",
   "execution_count": 13,
   "metadata": {},
   "outputs": [],
   "source": [
    "model = load_model('hieroglyphs_vgg19.h5')"
   ]
  },
  {
   "cell_type": "code",
   "execution_count": 14,
   "metadata": {},
   "outputs": [
    {
     "name": "stdout",
     "output_type": "stream",
     "text": [
      "543/543 [==============================] - 220s 405ms/step\n"
     ]
    }
   ],
   "source": [
    "# Run test batches through the model to see how it performs.\n",
    "STEP_SIZE_TEST=test_batches.n//test_batches.batch_size\n",
    "test_batches.reset()\n",
    "pred=model.predict_generator(test_batches,\n",
    "steps=STEP_SIZE_TEST,\n",
    "verbose=1)"
   ]
  },
  {
   "cell_type": "code",
   "execution_count": 15,
   "metadata": {},
   "outputs": [],
   "source": [
    "# Get an array of the top predictions\n",
    "predicted_class_indices = np.argmax(pred,axis=1)"
   ]
  },
  {
   "cell_type": "code",
   "execution_count": 16,
   "metadata": {},
   "outputs": [
    {
     "data": {
      "text/html": [
       "<div>\n",
       "<style scoped>\n",
       "    .dataframe tbody tr th:only-of-type {\n",
       "        vertical-align: middle;\n",
       "    }\n",
       "\n",
       "    .dataframe tbody tr th {\n",
       "        vertical-align: top;\n",
       "    }\n",
       "\n",
       "    .dataframe thead th {\n",
       "        text-align: right;\n",
       "    }\n",
       "</style>\n",
       "<table border=\"1\" class=\"dataframe\">\n",
       "  <thead>\n",
       "    <tr style=\"text-align: right;\">\n",
       "      <th></th>\n",
       "      <th>predictions</th>\n",
       "      <th>class_index</th>\n",
       "      <th>filename</th>\n",
       "      <th>glyph</th>\n",
       "      <th>match</th>\n",
       "      <th>file_class_index</th>\n",
       "    </tr>\n",
       "  </thead>\n",
       "  <tbody>\n",
       "    <tr>\n",
       "      <th>0</th>\n",
       "      <td>D2</td>\n",
       "      <td>0</td>\n",
       "      <td>D2/070242_D2.png</td>\n",
       "      <td>D2</td>\n",
       "      <td>True</td>\n",
       "      <td>0</td>\n",
       "    </tr>\n",
       "    <tr>\n",
       "      <th>1</th>\n",
       "      <td>D2</td>\n",
       "      <td>0</td>\n",
       "      <td>D2/220196_D2.png</td>\n",
       "      <td>D2</td>\n",
       "      <td>True</td>\n",
       "      <td>0</td>\n",
       "    </tr>\n",
       "    <tr>\n",
       "      <th>2</th>\n",
       "      <td>D21</td>\n",
       "      <td>1</td>\n",
       "      <td>D21/030269_D21.png</td>\n",
       "      <td>D21</td>\n",
       "      <td>True</td>\n",
       "      <td>1</td>\n",
       "    </tr>\n",
       "    <tr>\n",
       "      <th>3</th>\n",
       "      <td>D21</td>\n",
       "      <td>1</td>\n",
       "      <td>D21/030273_D21.png</td>\n",
       "      <td>D21</td>\n",
       "      <td>True</td>\n",
       "      <td>1</td>\n",
       "    </tr>\n",
       "    <tr>\n",
       "      <th>4</th>\n",
       "      <td>D21</td>\n",
       "      <td>1</td>\n",
       "      <td>D21/050286_D21.png</td>\n",
       "      <td>D21</td>\n",
       "      <td>True</td>\n",
       "      <td>1</td>\n",
       "    </tr>\n",
       "  </tbody>\n",
       "</table>\n",
       "</div>"
      ],
      "text/plain": [
       "  predictions  class_index            filename glyph  match  file_class_index\n",
       "0          D2            0    D2/070242_D2.png    D2   True                 0\n",
       "1          D2            0    D2/220196_D2.png    D2   True                 0\n",
       "2         D21            1  D21/030269_D21.png   D21   True                 1\n",
       "3         D21            1  D21/030273_D21.png   D21   True                 1\n",
       "4         D21            1  D21/050286_D21.png   D21   True                 1"
      ]
     },
     "execution_count": 16,
     "metadata": {},
     "output_type": "execute_result"
    }
   ],
   "source": [
    "# Use class indices to get the predicted classes. Compare them to their actual class\n",
    "# and create a dataframe from this imformation\n",
    "labels = (train_batches.class_indices)\n",
    "labels = dict((v,k) for k,v in labels.items())\n",
    "predictions = [labels[k] for k in predicted_class_indices]\n",
    "pred_dict = {'predictions': predictions,\n",
    "             'class_index': predicted_class_indices,\n",
    "             'filename': test_batches.filenames}\n",
    "df = pd.DataFrame(pred_dict)\n",
    "df['glyph'] = df.apply(lambda row: re.match(r'^([A-Z]{1}\\d+)/', row['filename']).group(1), axis=1)\n",
    "df['match'] = df['predictions'] == df['glyph']\n",
    "df['file_class_index'] = df.apply(lambda row: train_batches.class_indices[row['glyph']], axis=1)\n",
    "df.head()"
   ]
  },
  {
   "cell_type": "code",
   "execution_count": 17,
   "metadata": {},
   "outputs": [
    {
     "data": {
      "text/html": [
       "<div>\n",
       "<style scoped>\n",
       "    .dataframe tbody tr th:only-of-type {\n",
       "        vertical-align: middle;\n",
       "    }\n",
       "\n",
       "    .dataframe tbody tr th {\n",
       "        vertical-align: top;\n",
       "    }\n",
       "\n",
       "    .dataframe thead th {\n",
       "        text-align: right;\n",
       "    }\n",
       "</style>\n",
       "<table border=\"1\" class=\"dataframe\">\n",
       "  <thead>\n",
       "    <tr style=\"text-align: right;\">\n",
       "      <th></th>\n",
       "      <th>predictions</th>\n",
       "      <th>class_index</th>\n",
       "      <th>filename</th>\n",
       "      <th>glyph</th>\n",
       "      <th>match</th>\n",
       "      <th>file_class_index</th>\n",
       "    </tr>\n",
       "  </thead>\n",
       "  <tbody>\n",
       "    <tr>\n",
       "      <th>379</th>\n",
       "      <td>D28</td>\n",
       "      <td>2</td>\n",
       "      <td>Q3/200110_Q3.png</td>\n",
       "      <td>Q3</td>\n",
       "      <td>False</td>\n",
       "      <td>36</td>\n",
       "    </tr>\n",
       "    <tr>\n",
       "      <th>41</th>\n",
       "      <td>I9</td>\n",
       "      <td>18</td>\n",
       "      <td>D36/220005_D36.png</td>\n",
       "      <td>D36</td>\n",
       "      <td>False</td>\n",
       "      <td>4</td>\n",
       "    </tr>\n",
       "    <tr>\n",
       "      <th>339</th>\n",
       "      <td>O50</td>\n",
       "      <td>33</td>\n",
       "      <td>N5/070149_N5.png</td>\n",
       "      <td>N5</td>\n",
       "      <td>False</td>\n",
       "      <td>29</td>\n",
       "    </tr>\n",
       "    <tr>\n",
       "      <th>72</th>\n",
       "      <td>D35</td>\n",
       "      <td>3</td>\n",
       "      <td>E34/090216_E34.png</td>\n",
       "      <td>E34</td>\n",
       "      <td>False</td>\n",
       "      <td>9</td>\n",
       "    </tr>\n",
       "    <tr>\n",
       "      <th>15</th>\n",
       "      <td>E34</td>\n",
       "      <td>9</td>\n",
       "      <td>D21/220012_D21.png</td>\n",
       "      <td>D21</td>\n",
       "      <td>False</td>\n",
       "      <td>1</td>\n",
       "    </tr>\n",
       "    <tr>\n",
       "      <th>274</th>\n",
       "      <td>V31</td>\n",
       "      <td>44</td>\n",
       "      <td>N31/090182_N31.png</td>\n",
       "      <td>N31</td>\n",
       "      <td>False</td>\n",
       "      <td>26</td>\n",
       "    </tr>\n",
       "    <tr>\n",
       "      <th>275</th>\n",
       "      <td>V31</td>\n",
       "      <td>44</td>\n",
       "      <td>N31/220226_N31.png</td>\n",
       "      <td>N31</td>\n",
       "      <td>False</td>\n",
       "      <td>26</td>\n",
       "    </tr>\n",
       "    <tr>\n",
       "      <th>64</th>\n",
       "      <td>X1</td>\n",
       "      <td>48</td>\n",
       "      <td>E34/030164_E34.png</td>\n",
       "      <td>E34</td>\n",
       "      <td>False</td>\n",
       "      <td>9</td>\n",
       "    </tr>\n",
       "    <tr>\n",
       "      <th>327</th>\n",
       "      <td>X1</td>\n",
       "      <td>48</td>\n",
       "      <td>N35/410013_N35.png</td>\n",
       "      <td>N35</td>\n",
       "      <td>False</td>\n",
       "      <td>27</td>\n",
       "    </tr>\n",
       "    <tr>\n",
       "      <th>48</th>\n",
       "      <td>X1</td>\n",
       "      <td>48</td>\n",
       "      <td>D4/390007_D4.png</td>\n",
       "      <td>D4</td>\n",
       "      <td>False</td>\n",
       "      <td>5</td>\n",
       "    </tr>\n",
       "  </tbody>\n",
       "</table>\n",
       "</div>"
      ],
      "text/plain": [
       "    predictions  class_index            filename glyph  match  \\\n",
       "379         D28            2    Q3/200110_Q3.png    Q3  False   \n",
       "41           I9           18  D36/220005_D36.png   D36  False   \n",
       "339         O50           33    N5/070149_N5.png    N5  False   \n",
       "72          D35            3  E34/090216_E34.png   E34  False   \n",
       "15          E34            9  D21/220012_D21.png   D21  False   \n",
       "274         V31           44  N31/090182_N31.png   N31  False   \n",
       "275         V31           44  N31/220226_N31.png   N31  False   \n",
       "64           X1           48  E34/030164_E34.png   E34  False   \n",
       "327          X1           48  N35/410013_N35.png   N35  False   \n",
       "48           X1           48    D4/390007_D4.png    D4  False   \n",
       "\n",
       "     file_class_index  \n",
       "379                36  \n",
       "41                  4  \n",
       "339                29  \n",
       "72                  9  \n",
       "15                  1  \n",
       "274                26  \n",
       "275                26  \n",
       "64                  9  \n",
       "327                27  \n",
       "48                  5  "
      ]
     },
     "execution_count": 17,
     "metadata": {},
     "output_type": "execute_result"
    }
   ],
   "source": [
    "# View some of the incorrect predictions\n",
    "df[df['match'] == False].sample(10)"
   ]
  },
  {
   "cell_type": "code",
   "execution_count": 18,
   "metadata": {},
   "outputs": [
    {
     "data": {
      "text/plain": [
       "0.9208103130755064"
      ]
     },
     "execution_count": 18,
     "metadata": {},
     "output_type": "execute_result"
    }
   ],
   "source": [
    "# Calculate the accuracy of the predictions\n",
    "acc = df['match'].sum() / len(df)\n",
    "acc"
   ]
  },
  {
   "cell_type": "code",
   "execution_count": 19,
   "metadata": {},
   "outputs": [
    {
     "name": "stdout",
     "output_type": "stream",
     "text": [
      "F1 Score: 0.9057478153725173\n",
      "\n",
      "Recall Score: 0.9208103130755064\n",
      "\n",
      "Classification Report:\n",
      "               precision    recall  f1-score   support\n",
      "\n",
      "           0       1.00      1.00      1.00         2\n",
      "           1       0.95      0.95      0.95        22\n",
      "           2       0.75      1.00      0.86         3\n",
      "           3       0.67      1.00      0.80         8\n",
      "           4       1.00      0.88      0.93         8\n",
      "           5       1.00      0.83      0.91         6\n",
      "           6       0.83      0.71      0.77         7\n",
      "           7       0.00      0.00      0.00         2\n",
      "           8       1.00      1.00      1.00         6\n",
      "           9       0.88      0.78      0.82        18\n",
      "          10       0.71      0.83      0.77         6\n",
      "          11       0.94      0.97      0.95        32\n",
      "          12       1.00      1.00      1.00         3\n",
      "          13       0.80      1.00      0.89         8\n",
      "          14       1.00      1.00      1.00         2\n",
      "          15       0.95      0.97      0.96        36\n",
      "          16       0.00      0.00      0.00         6\n",
      "          17       1.00      1.00      1.00         5\n",
      "          18       0.90      1.00      0.95        19\n",
      "          19       0.96      0.94      0.95        54\n",
      "          20       0.50      0.50      0.50         2\n",
      "          21       1.00      1.00      1.00         6\n",
      "          22       1.00      1.00      1.00         4\n",
      "          23       1.00      1.00      1.00         2\n",
      "          24       1.00      1.00      1.00         2\n",
      "          25       1.00      1.00      1.00         4\n",
      "          26       0.00      0.00      0.00         4\n",
      "          27       1.00      0.96      0.98        56\n",
      "          28       0.80      0.80      0.80         5\n",
      "          29       0.00      0.00      0.00         4\n",
      "          30       1.00      1.00      1.00         4\n",
      "          31       1.00      0.50      0.67         2\n",
      "          32       0.00      0.00      0.00         2\n",
      "          33       0.76      1.00      0.86        19\n",
      "          34       1.00      1.00      1.00         2\n",
      "          35       1.00      1.00      1.00         2\n",
      "          36       1.00      0.93      0.96        14\n",
      "          37       0.80      0.80      0.80         5\n",
      "          38       0.96      1.00      0.98        45\n",
      "          39       1.00      0.75      0.86         4\n",
      "          40       1.00      1.00      1.00         1\n",
      "          41       1.00      1.00      1.00         4\n",
      "          42       0.91      1.00      0.95        10\n",
      "          43       1.00      1.00      1.00         6\n",
      "          44       0.88      1.00      0.93        21\n",
      "          45       1.00      1.00      1.00         2\n",
      "          46       0.86      0.86      0.86         7\n",
      "          47       1.00      1.00      1.00         2\n",
      "          48       0.89      1.00      0.94        41\n",
      "          49       0.88      0.88      0.88         8\n",
      "\n",
      "    accuracy                           0.92       543\n",
      "   macro avg       0.83      0.84      0.83       543\n",
      "weighted avg       0.90      0.92      0.91       543\n",
      "\n"
     ]
    },
    {
     "name": "stderr",
     "output_type": "stream",
     "text": [
      "/Applications/conda/anaconda3/envs/p5/lib/python3.7/site-packages/sklearn/metrics/classification.py:1437: UndefinedMetricWarning: F-score is ill-defined and being set to 0.0 in labels with no predicted samples.\n",
      "  'precision', 'predicted', average, warn_for)\n",
      "/Applications/conda/anaconda3/envs/p5/lib/python3.7/site-packages/sklearn/metrics/classification.py:1437: UndefinedMetricWarning: Precision and F-score are ill-defined and being set to 0.0 in labels with no predicted samples.\n",
      "  'precision', 'predicted', average, warn_for)\n"
     ]
    }
   ],
   "source": [
    "# Print the F1, and recall scores along with the classification report.\n",
    "print('F1 Score:' , f1_score(df['file_class_index'], df['class_index'], average='weighted'))\n",
    "print('\\nRecall Score:' , recall_score(df['file_class_index'], df['class_index'], average='weighted'))\n",
    "print('\\nClassification Report:\\n' , classification_report(df['file_class_index'], df['class_index']))"
   ]
  },
  {
   "cell_type": "code",
   "execution_count": 20,
   "metadata": {},
   "outputs": [
    {
     "data": {
      "image/png": "[encoded data removed]",
      "text/plain": [
       "<Figure size 1440x1440 with 2 Axes>"
      ]
     },
     "metadata": {
      "needs_background": "light"
     },
     "output_type": "display_data"
    }
   ],
   "source": [
    "# Plot a confusion matrix for the hieroglyph classifications\n",
    "glyph_confusion = confusion_matrix(df['file_class_index'], df['class_index'])\n",
    "plt.figure(figsize=(20,20))\n",
    "sns.heatmap(glyph_confusion, cmap=plt.cm.Blues, annot=False, square=True)#,\n",
    "\n",
    "plt.xlabel('Predicted glyph')\n",
    "plt.ylabel('Actual glyph')\n",
    "plt.title('Hieroglyph Confusion Matrix');"
   ]
  },
  {
   "cell_type": "code",
   "execution_count": 21,
   "metadata": {},
   "outputs": [
    {
     "data": {
      "text/plain": [
       "11"
      ]
     },
     "execution_count": 21,
     "metadata": {},
     "output_type": "execute_result"
    }
   ],
   "source": [
    "m_classes =  len(get_classes('/Users/scott/p5/data/processed/modeling_all/train'))\n",
    "m_classes"
   ]
  },
  {
   "cell_type": "code",
   "execution_count": 22,
   "metadata": {},
   "outputs": [],
   "source": [
    "# Create a new model that will classify a smaller number of hieroglyphs, but of images contaminated\n",
    "# with parts of surrounding glyphs.\n",
    "base_model = keras.applications.vgg19.VGG19(weights='imagenet', include_top=False, input_shape=(224,224, 3))\n",
    " \n",
    "# Freeze convolutional layers\n",
    "for layer in base_model.layers:\n",
    "    layer.trainable = False \n",
    "    \n",
    "x = base_model.output\n",
    "x = Flatten()(x) # flatten from convolution tensor output \n",
    "predictions = Dense(m_classes, activation='softmax')(x) # should match # of classes predicted\n",
    "\n",
    "# this is the model we will train\n",
    "model2 = Model(inputs=base_model.input, outputs=predictions)"
   ]
  },
  {
   "cell_type": "code",
   "execution_count": 23,
   "metadata": {},
   "outputs": [
    {
     "name": "stdout",
     "output_type": "stream",
     "text": [
      "_________________________________________________________________\n",
      "Layer (type)                 Output Shape              Param #   \n",
      "=================================================================\n",
      "input_2 (InputLayer)         (None, 224, 224, 3)       0         \n",
      "_________________________________________________________________\n",
      "block1_conv1 (Conv2D)        (None, 224, 224, 64)      1792      \n",
      "_________________________________________________________________\n",
      "block1_conv2 (Conv2D)        (None, 224, 224, 64)      36928     \n",
      "_________________________________________________________________\n",
      "block1_pool (MaxPooling2D)   (None, 112, 112, 64)      0         \n",
      "_________________________________________________________________\n",
      "block2_conv1 (Conv2D)        (None, 112, 112, 128)     73856     \n",
      "_________________________________________________________________\n",
      "block2_conv2 (Conv2D)        (None, 112, 112, 128)     147584    \n",
      "_________________________________________________________________\n",
      "block2_pool (MaxPooling2D)   (None, 56, 56, 128)       0         \n",
      "_________________________________________________________________\n",
      "block3_conv1 (Conv2D)        (None, 56, 56, 256)       295168    \n",
      "_________________________________________________________________\n",
      "block3_conv2 (Conv2D)        (None, 56, 56, 256)       590080    \n",
      "_________________________________________________________________\n",
      "block3_conv3 (Conv2D)        (None, 56, 56, 256)       590080    \n",
      "_________________________________________________________________\n",
      "block3_conv4 (Conv2D)        (None, 56, 56, 256)       590080    \n",
      "_________________________________________________________________\n",
      "block3_pool (MaxPooling2D)   (None, 28, 28, 256)       0         \n",
      "_________________________________________________________________\n",
      "block4_conv1 (Conv2D)        (None, 28, 28, 512)       1180160   \n",
      "_________________________________________________________________\n",
      "block4_conv2 (Conv2D)        (None, 28, 28, 512)       2359808   \n",
      "_________________________________________________________________\n",
      "block4_conv3 (Conv2D)        (None, 28, 28, 512)       2359808   \n",
      "_________________________________________________________________\n",
      "block4_conv4 (Conv2D)        (None, 28, 28, 512)       2359808   \n",
      "_________________________________________________________________\n",
      "block4_pool (MaxPooling2D)   (None, 14, 14, 512)       0         \n",
      "_________________________________________________________________\n",
      "block5_conv1 (Conv2D)        (None, 14, 14, 512)       2359808   \n",
      "_________________________________________________________________\n",
      "block5_conv2 (Conv2D)        (None, 14, 14, 512)       2359808   \n",
      "_________________________________________________________________\n",
      "block5_conv3 (Conv2D)        (None, 14, 14, 512)       2359808   \n",
      "_________________________________________________________________\n",
      "block5_conv4 (Conv2D)        (None, 14, 14, 512)       2359808   \n",
      "_________________________________________________________________\n",
      "block5_pool (MaxPooling2D)   (None, 7, 7, 512)         0         \n",
      "_________________________________________________________________\n",
      "flatten_2 (Flatten)          (None, 25088)             0         \n",
      "_________________________________________________________________\n",
      "dense_2 (Dense)              (None, 11)                275979    \n",
      "=================================================================\n",
      "Total params: 20,300,363\n",
      "Trainable params: 275,979\n",
      "Non-trainable params: 20,024,384\n",
      "_________________________________________________________________\n"
     ]
    }
   ],
   "source": [
    "# Print model2. summary\n",
    "model2.summary()"
   ]
  },
  {
   "cell_type": "code",
   "execution_count": 24,
   "metadata": {},
   "outputs": [],
   "source": [
    "# SEt path for the second model\n",
    "train_path2 = os.path.expanduser('/Users/scott/p5/data/processed/modeling_all/train/')\n",
    "test_path2 = os.path.expanduser('/Users/scott/p5/data/processed/modeling_all/test/')\n",
    "valid_path2 = os.path.expanduser('/Users/scott/p5/data/processed/modeling_all/valid/')"
   ]
  },
  {
   "cell_type": "code",
   "execution_count": 25,
   "metadata": {},
   "outputs": [
    {
     "name": "stdout",
     "output_type": "stream",
     "text": [
      "Found 3612 images belonging to 11 classes.\n",
      "Found 451 images belonging to 11 classes.\n",
      "Found 456 images belonging to 11 classes.\n"
     ]
    }
   ],
   "source": [
    "# Create ImageDataGenerators to feed images to the model.\n",
    "train_batches2 = ImageDataGenerator().flow_from_directory(train_path2, \n",
    "                                                         target_size=(224,224), \n",
    "                                                         batch_size=6)\n",
    "valid_batches2 = ImageDataGenerator().flow_from_directory(valid_path2, \n",
    "                                                         target_size=(224,224), \n",
    "                                                         batch_size=5)\n",
    "test_batches2 = ImageDataGenerator().flow_from_directory(test_path2, \n",
    "                                                        target_size=(224,224),\n",
    "                                                        shuffle=False,\n",
    "                                                        batch_size=1)"
   ]
  },
  {
   "cell_type": "code",
   "execution_count": 26,
   "metadata": {},
   "outputs": [],
   "source": [
    "# Compile the second model\n",
    "model2.compile(Adam(lr=0.00001), loss='categorical_crossentropy', metrics=['accuracy'])"
   ]
  },
  {
   "cell_type": "code",
   "execution_count": 27,
   "metadata": {},
   "outputs": [
    {
     "name": "stdout",
     "output_type": "stream",
     "text": [
      "Epoch 1/1\n",
      " - 17s - loss: 9.2408 - acc: 0.0000e+00 - val_loss: 8.7756 - val_acc: 0.1500\n",
      "\n",
      "Epoch 00001: val_acc improved from -inf to 0.15000, saving model to best_model2.h5\n"
     ]
    }
   ],
   "source": [
    "# Train the model\n",
    "es = EarlyStopping(monitor='val_loss', mode='min', verbose=1, patience=300)\n",
    "mc = ModelCheckpoint('best_model2.h5', monitor='val_acc', mode='max', verbose=1, save_best_only=True)\n",
    "hist = model2.fit_generator(train_batches2, \n",
    "                    steps_per_epoch=4, \n",
    "                    validation_data=valid_batches2, \n",
    "                    validation_steps=4,\n",
    "                    epochs=1,\n",
    "                    verbose=2, \n",
    "                    callbacks=[es, mc])"
   ]
  },
  {
   "cell_type": "code",
   "execution_count": 28,
   "metadata": {},
   "outputs": [],
   "source": [
    "# Save the model\n",
    "# model2.save('hieroglyphs_vgg19_custom_images_multiclass.h5')"
   ]
  },
  {
   "cell_type": "code",
   "execution_count": 29,
   "metadata": {},
   "outputs": [],
   "source": [
    "# Load the model from a saved file\n",
    "model2 = load_model('hieroglyphs_vgg19_N35_only_custom_images_multiclass.h5')"
   ]
  },
  {
   "cell_type": "code",
   "execution_count": 30,
   "metadata": {},
   "outputs": [
    {
     "name": "stdout",
     "output_type": "stream",
     "text": [
      "456/456 [==============================] - 182s 400ms/step\n"
     ]
    }
   ],
   "source": [
    "# Run the test batches to test model performance\n",
    "STEP_SIZE_TEST=test_batches2.n//test_batches2.batch_size\n",
    "test_batches2.reset()\n",
    "pred = model2.predict_generator(test_batches2,\n",
    "steps = STEP_SIZE_TEST,\n",
    "verbose=1)"
   ]
  },
  {
   "cell_type": "code",
   "execution_count": 31,
   "metadata": {},
   "outputs": [],
   "source": [
    "# Get predictions\n",
    "predicted_class_indices=np.argmax(pred,axis=1)"
   ]
  },
  {
   "cell_type": "code",
   "execution_count": 32,
   "metadata": {},
   "outputs": [
    {
     "name": "stdout",
     "output_type": "stream",
     "text": [
      "{'N35': 0, 'basket': 1, 'bird': 2, 'cloth': 3, 'cobra': 4, 'mouth': 5, 'reed': 6, 'sun': 7, 'tether': 8, 'viper': 9, 'wick': 10}\n",
      "{0: 'N35', 1: 'basket', 2: 'bird', 3: 'cloth', 4: 'cobra', 5: 'mouth', 6: 'reed', 7: 'sun', 8: 'tether', 9: 'viper', 10: 'wick'}\n"
     ]
    }
   ],
   "source": [
    "# Get the labels for the predictions\n",
    "labels = (train_batches2.class_indices)\n",
    "print(labels)\n",
    "labels = dict((v,k) for k,v in labels.items())\n",
    "print(labels)\n",
    "predictions = [labels[k] for k in predicted_class_indices]"
   ]
  },
  {
   "cell_type": "code",
   "execution_count": 33,
   "metadata": {},
   "outputs": [],
   "source": [
    "def get_glyph_name(series):\n",
    "    \"\"\"Returns the name of the for each element of the input series.\"\"\"\n",
    "    file = series['filename']\n",
    "    m = re.match(r'^([a-z]+)/', file)\n",
    "    n = re.match(r'^([A-Z]{1}\\d+)/', file)\n",
    "    if m:\n",
    "        return m.group(1)\n",
    "    elif n:\n",
    "        return n.group(1)\n",
    "    else:\n",
    "        return 'unknown'"
   ]
  },
  {
   "cell_type": "code",
   "execution_count": 34,
   "metadata": {},
   "outputs": [
    {
     "data": {
      "text/html": [
       "<div>\n",
       "<style scoped>\n",
       "    .dataframe tbody tr th:only-of-type {\n",
       "        vertical-align: middle;\n",
       "    }\n",
       "\n",
       "    .dataframe tbody tr th {\n",
       "        vertical-align: top;\n",
       "    }\n",
       "\n",
       "    .dataframe thead th {\n",
       "        text-align: right;\n",
       "    }\n",
       "</style>\n",
       "<table border=\"1\" class=\"dataframe\">\n",
       "  <thead>\n",
       "    <tr style=\"text-align: right;\">\n",
       "      <th></th>\n",
       "      <th>predicted</th>\n",
       "      <th>filename</th>\n",
       "      <th>glyph</th>\n",
       "      <th>match</th>\n",
       "    </tr>\n",
       "  </thead>\n",
       "  <tbody>\n",
       "    <tr>\n",
       "      <th>0</th>\n",
       "      <td>N35</td>\n",
       "      <td>N35/img_x_101_y_264.png</td>\n",
       "      <td>N35</td>\n",
       "      <td>True</td>\n",
       "    </tr>\n",
       "    <tr>\n",
       "      <th>1</th>\n",
       "      <td>N35</td>\n",
       "      <td>N35/img_x_106_y_15.png</td>\n",
       "      <td>N35</td>\n",
       "      <td>True</td>\n",
       "    </tr>\n",
       "    <tr>\n",
       "      <th>2</th>\n",
       "      <td>N35</td>\n",
       "      <td>N35/img_x_113_y_127.png</td>\n",
       "      <td>N35</td>\n",
       "      <td>True</td>\n",
       "    </tr>\n",
       "    <tr>\n",
       "      <th>3</th>\n",
       "      <td>N35</td>\n",
       "      <td>N35/img_x_121_y_102.png</td>\n",
       "      <td>N35</td>\n",
       "      <td>True</td>\n",
       "    </tr>\n",
       "    <tr>\n",
       "      <th>4</th>\n",
       "      <td>N35</td>\n",
       "      <td>N35/img_x_127_y_205.png</td>\n",
       "      <td>N35</td>\n",
       "      <td>True</td>\n",
       "    </tr>\n",
       "  </tbody>\n",
       "</table>\n",
       "</div>"
      ],
      "text/plain": [
       "  predicted                 filename glyph  match\n",
       "0       N35  N35/img_x_101_y_264.png   N35   True\n",
       "1       N35   N35/img_x_106_y_15.png   N35   True\n",
       "2       N35  N35/img_x_113_y_127.png   N35   True\n",
       "3       N35  N35/img_x_121_y_102.png   N35   True\n",
       "4       N35  N35/img_x_127_y_205.png   N35   True"
      ]
     },
     "execution_count": 34,
     "metadata": {},
     "output_type": "execute_result"
    }
   ],
   "source": [
    "# Create a dataframe fromthe predictions\n",
    "pred_df = pd.DataFrame(predictions, columns=['predicted'])\n",
    "pred_df = pred_df.merge(pd.DataFrame(test_batches2.filenames, columns=['filename']), left_index=True, right_index=True)\n",
    "pred_df['glyph'] = pred_df.apply(lambda row: get_glyph_name(row), axis=1)\n",
    "pred_df['match'] = pred_df['predicted'] == pred_df['glyph']\n",
    "pred_df.head()"
   ]
  },
  {
   "cell_type": "code",
   "execution_count": 35,
   "metadata": {},
   "outputs": [
    {
     "data": {
      "text/plain": [
       "0.7763157894736842"
      ]
     },
     "execution_count": 35,
     "metadata": {},
     "output_type": "execute_result"
    }
   ],
   "source": [
    "# Get accuracy\n",
    "acc = pred_df['match'].sum() / len(pred_df)\n",
    "acc"
   ]
  },
  {
   "cell_type": "code",
   "execution_count": 36,
   "metadata": {},
   "outputs": [],
   "source": [
    "def get_indices(series, idx_dict):\n",
    "    \"\"\"Returns a numpy array from indices for input series of class names.\"\"\"\n",
    "    indices = pd.Series(index=series.index)\n",
    "    for idx, val in series.iteritems():\n",
    "        indices[idx] = idx_dict[val]\n",
    "    return indices"
   ]
  },
  {
   "cell_type": "code",
   "execution_count": 37,
   "metadata": {},
   "outputs": [
    {
     "data": {
      "text/plain": [
       "0.7730609270159422"
      ]
     },
     "execution_count": 37,
     "metadata": {},
     "output_type": "execute_result"
    }
   ],
   "source": [
    "# Set y_true, and y_pred for f1_score, recall, and confusion matrixes\n",
    "y_pred = get_indices(pred_df.predicted, train_batches2.class_indices)\n",
    "y_true = get_indices(pred_df.glyph, train_batches2.class_indices)\n",
    "f1_score(y_true, y_pred, average='weighted')"
   ]
  },
  {
   "cell_type": "code",
   "execution_count": 38,
   "metadata": {},
   "outputs": [
    {
     "name": "stdout",
     "output_type": "stream",
     "text": [
      "F1 Score: 0.7730609270159422\n",
      "\n",
      "Recall Score: 0.7763157894736842\n",
      "\n",
      "Classification Report:\n",
      "               precision    recall  f1-score   support\n",
      "\n",
      "         0.0       0.85      0.89      0.87       118\n",
      "         1.0       0.64      0.70      0.67        33\n",
      "         2.0       0.91      0.95      0.93        44\n",
      "         3.0       0.84      0.79      0.81        33\n",
      "         4.0       0.67      0.63      0.65        19\n",
      "         5.0       0.64      0.47      0.54        49\n",
      "         6.0       0.85      0.79      0.82        58\n",
      "         7.0       0.83      0.92      0.87        37\n",
      "         8.0       0.62      0.56      0.59        18\n",
      "         9.0       0.54      0.67      0.60        30\n",
      "        10.0       0.76      0.76      0.76        17\n",
      "\n",
      "    accuracy                           0.78       456\n",
      "   macro avg       0.74      0.74      0.74       456\n",
      "weighted avg       0.77      0.78      0.77       456\n",
      "\n"
     ]
    }
   ],
   "source": [
    "# Print the F1, and recall scores along with the classification report.\n",
    "print('F1 Score:' , f1_score(y_true, y_pred, average='weighted'))\n",
    "print('\\nRecall Score:' , recall_score(y_true, y_pred, average='weighted'))\n",
    "print('\\nClassification Report:\\n' , classification_report(y_true, y_pred))"
   ]
  },
  {
   "cell_type": "code",
   "execution_count": 39,
   "metadata": {},
   "outputs": [
    {
     "data": {
      "image/png": "[encoded data removed]",
      "text/plain": [
       "<Figure size 720x720 with 1 Axes>"
      ]
     },
     "metadata": {
      "needs_background": "light"
     },
     "output_type": "display_data"
    }
   ],
   "source": [
    "# Plot a confusion matrix for the hieroglyph classifications\n",
    "glyph_confusion = confusion_matrix(y_pred, y_true)\n",
    "plt.figure(figsize=(10,10))\n",
    "sns.heatmap(glyph_confusion, cmap=plt.cm.Blues, annot=False, square=True, cbar=False)#,\n",
    "plt.cbar = False\n",
    "\n",
    "plt.xlabel('Predicted glyph')\n",
    "plt.ylabel('Actual glyph')\n",
    "plt.title('Hieroglyph Confusion Matrix');"
   ]
  },
  {
   "cell_type": "code",
   "execution_count": 40,
   "metadata": {},
   "outputs": [
    {
     "data": {
      "text/html": [
       "<div>\n",
       "<style scoped>\n",
       "    .dataframe tbody tr th:only-of-type {\n",
       "        vertical-align: middle;\n",
       "    }\n",
       "\n",
       "    .dataframe tbody tr th {\n",
       "        vertical-align: top;\n",
       "    }\n",
       "\n",
       "    .dataframe thead th {\n",
       "        text-align: right;\n",
       "    }\n",
       "</style>\n",
       "<table border=\"1\" class=\"dataframe\">\n",
       "  <thead>\n",
       "    <tr style=\"text-align: right;\">\n",
       "      <th></th>\n",
       "      <th>predicted</th>\n",
       "      <th>filename</th>\n",
       "      <th>glyph</th>\n",
       "      <th>match</th>\n",
       "    </tr>\n",
       "  </thead>\n",
       "  <tbody>\n",
       "    <tr>\n",
       "      <th>0</th>\n",
       "      <td>N35</td>\n",
       "      <td>N35/img_x_101_y_264.png</td>\n",
       "      <td>N35</td>\n",
       "      <td>True</td>\n",
       "    </tr>\n",
       "    <tr>\n",
       "      <th>1</th>\n",
       "      <td>N35</td>\n",
       "      <td>N35/img_x_106_y_15.png</td>\n",
       "      <td>N35</td>\n",
       "      <td>True</td>\n",
       "    </tr>\n",
       "    <tr>\n",
       "      <th>2</th>\n",
       "      <td>N35</td>\n",
       "      <td>N35/img_x_113_y_127.png</td>\n",
       "      <td>N35</td>\n",
       "      <td>True</td>\n",
       "    </tr>\n",
       "    <tr>\n",
       "      <th>3</th>\n",
       "      <td>N35</td>\n",
       "      <td>N35/img_x_121_y_102.png</td>\n",
       "      <td>N35</td>\n",
       "      <td>True</td>\n",
       "    </tr>\n",
       "    <tr>\n",
       "      <th>4</th>\n",
       "      <td>N35</td>\n",
       "      <td>N35/img_x_127_y_205.png</td>\n",
       "      <td>N35</td>\n",
       "      <td>True</td>\n",
       "    </tr>\n",
       "  </tbody>\n",
       "</table>\n",
       "</div>"
      ],
      "text/plain": [
       "  predicted                 filename glyph  match\n",
       "0       N35  N35/img_x_101_y_264.png   N35   True\n",
       "1       N35   N35/img_x_106_y_15.png   N35   True\n",
       "2       N35  N35/img_x_113_y_127.png   N35   True\n",
       "3       N35  N35/img_x_121_y_102.png   N35   True\n",
       "4       N35  N35/img_x_127_y_205.png   N35   True"
      ]
     },
     "execution_count": 40,
     "metadata": {},
     "output_type": "execute_result"
    }
   ],
   "source": [
    "# Create a thumbnail dataframe\n",
    "tdf = pred_df.copy()\n",
    "tdf.head()"
   ]
  },
  {
   "cell_type": "code",
   "execution_count": 41,
   "metadata": {},
   "outputs": [],
   "source": [
    "# Setup the thumbnail columns\n",
    "tdf['pred_img'] = tdf.apply(lambda row: get_thumbnail(os.path.join('/Users/scott/p5/data/processed/modeling_all/test', row['filename'])), axis=1)"
   ]
  },
  {
   "cell_type": "code",
   "execution_count": 43,
   "metadata": {},
   "outputs": [
    {
     "data": {
      "text/html": [
       "<table border=\"1\" class=\"dataframe\">\n",
       "  <thead>\n",
       "    <tr style=\"text-align: right;\">\n",
       "      <th></th>\n",
       "      <th>predicted</th>\n",
       "      <th>filename</th>\n",
       "      <th>glyph</th>\n",
       "      <th>match</th>\n",
       "      <th>pred_img</th>\n",
       "    </tr>\n",
       "  </thead>\n",
       "  <tbody>\n",
       "    <tr>\n",
       "      <th>401</th>\n",
       "      <td>mouth</td>\n",
       "      <td>tether/img_x_442_y_356.png</td>\n",
       "      <td>tether</td>\n",
       "      <td>False</td>\n",
       "      <td><img src=\"data:image/jpeg;base64,/9j/4AAQSkZJRgABAQAAAQABAAD/2wBDAAgGBgcGBQgHBwcJCQgKDBQNDAsLDBkSEw8UHRofHh0aHBwgJC4nICIsIxwcKDcpLDAxNDQ0Hyc5PTgyPC4zNDL/2wBDAQkJCQwLDBgNDRgyIRwhMjIyMjIyMjIyMjIyMjIyMjIyMjIyMjIyMjIyMjIyMjIyMjIyMjIyMjIyMjIyMjIyMjL/wAARCAAoACgDASIAAhEBAxEB/8QAHwAAAQUBAQEBAQEAAAAAAAAAAAECAwQFBgcICQoL/8QAtRAAAgEDAwIEAwUFBAQAAAF9AQIDAAQRBRIhMUEGE1FhByJxFDKBkaEII0KxwRVS0fAkM2JyggkKFhcYGRolJicoKSo0NTY3ODk6Q0RFRkdISUpTVFVWV1hZWmNkZWZnaGlqc3R1dnd4eXqDhIWGh4iJipKTlJWWl5iZmqKjpKWmp6ipqrKztLW2t7i5usLDxMXGx8jJytLT1NXW19jZ2uHi4+Tl5ufo6erx8vP09fb3+Pn6/8QAHwEAAwEBAQEBAQEBAQAAAAAAAAECAwQFBgcICQoL/8QAtREAAgECBAQDBAcFBAQAAQJ3AAECAxEEBSExBhJBUQdhcRMiMoEIFEKRobHBCSMzUvAVYnLRChYkNOEl8RcYGRomJygpKjU2Nzg5OkNERUZHSElKU1RVVldYWVpjZGVmZ2hpanN0dXZ3eHl6goOEhYaHiImKkpOUlZaXmJmaoqOkpaanqKmqsrO0tba3uLm6wsPExcbHyMnK0tPU1dbX2Nna4uPk5ebn6Onq8vP09fb3+Pn6/9oADAMBAAIRAxEAPwBfG+mvq/h/7Pb3UcZjfzN0hxgocf1reSdI7eIPcRrISBuD5BYKCf0Brndtrploukm5tmlC7ZhNGHkDSjcxOO4k2HnsBUF5O6wQ3dpKt8000bwxJF1bIWY7u+VBHtXMB1Bu7dIkYzQhCkZZz23n+fFYunxxaff6pcLfW0sd8TMY4+qCL5ePbnn3qjMgfS2v4ry7stQEO1oNQcKmd3yncTg46D2rVgnsprKR7DWSWht2kljiMb4dkJdeOSVwSD36UAaiXUVx8qyZYqsgH+yeKKpaXb3M8dveJeLc2VxZABCmCSDndnqDxyDRQBg+EoI9Ptrmw1Rha363MkjiZnjM6HOCMcNxWnPJoybI3soZVU5X5GfbU9t4ia8sob028cZkiEgQOSyc42nFR3viJxHAILm3s2lYDc6sxPPofXp+NAEUkum/L5enQ7fe1Zv0xWbePpE1wTNAllMID9ncWjWzB88ZkPUZrR1TXLqGSSM6gkTBR9y2yBz/AF6fjWhJcTXVtCqrdASRgMYxu3/8CoAXwtNPc2ixvNDMwT5ZY/4vXPr9aKt6VKtpG8CWc4QAr+8/g4ooAr67rX9j2USW1uLi/u3MVrGehOOSfYDJqXw9fPq+h293dNGZH3+aq9VkVypx/s0UUwNFlXaVXoeDXL2PieeXT/FErx+ZNpc0nkr6hRx/KiigDY0W8kv9FtL6WDy5J4BI6f3WIooopAf/2Q==\"></td>\n",
       "    </tr>\n",
       "    <tr>\n",
       "      <th>264</th>\n",
       "      <td>viper</td>\n",
       "      <td>mouth/img_x_28_y_535.png</td>\n",
       "      <td>mouth</td>\n",
       "      <td>False</td>\n",
       "      <td><img src=\"data:image/jpeg;base64,/9j/4AAQSkZJRgABAQAAAQABAAD/2wBDAAgGBgcGBQgHBwcJCQgKDBQNDAsLDBkSEw8UHRofHh0aHBwgJC4nICIsIxwcKDcpLDAxNDQ0Hyc5PTgyPC4zNDL/2wBDAQkJCQwLDBgNDRgyIRwhMjIyMjIyMjIyMjIyMjIyMjIyMjIyMjIyMjIyMjIyMjIyMjIyMjIyMjIyMjIyMjIyMjL/wAARCAAoACgDASIAAhEBAxEB/8QAHwAAAQUBAQEBAQEAAAAAAAAAAAECAwQFBgcICQoL/8QAtRAAAgEDAwIEAwUFBAQAAAF9AQIDAAQRBRIhMUEGE1FhByJxFDKBkaEII0KxwRVS0fAkM2JyggkKFhcYGRolJicoKSo0NTY3ODk6Q0RFRkdISUpTVFVWV1hZWmNkZWZnaGlqc3R1dnd4eXqDhIWGh4iJipKTlJWWl5iZmqKjpKWmp6ipqrKztLW2t7i5usLDxMXGx8jJytLT1NXW19jZ2uHi4+Tl5ufo6erx8vP09fb3+Pn6/8QAHwEAAwEBAQEBAQEBAQAAAAAAAAECAwQFBgcICQoL/8QAtREAAgECBAQDBAcFBAQAAQJ3AAECAxEEBSExBhJBUQdhcRMiMoEIFEKRobHBCSMzUvAVYnLRChYkNOEl8RcYGRomJygpKjU2Nzg5OkNERUZHSElKU1RVVldYWVpjZGVmZ2hpanN0dXZ3eHl6goOEhYaHiImKkpOUlZaXmJmaoqOkpaanqKmqsrO0tba3uLm6wsPExcbHyMnK0tPU1dbX2Nna4uPk5ebn6Onq8vP09fb3+Pn6/9oADAMBAAIRAxEAPwDfkiP+sdxtUDgms+/G+BkMU02T8sURHP1rAuteW615bNNXNikQ2sjwHk/XvUT6jpy6jJHd+I9W6c+XCwH4YFcxZoX8V7qOnrBJoq/umBQvd7Tx3yOlWNNk8SRqRPaWixHB3GQtxXK3VxoILFNR1eWVTlAdxcg9cenatfwze3cklzYymZw0DPCXU78Yzz9MU7AWtQ8PazN4oN+mpJHbb1cwIvXFFT23iCea3tW2ht1uoLDnJyQf5UUgKFp/wldzPKyW+nwASfJvQF8etWWtfEqX7s+sW1sSnzN9mBA9OtalxL/ZttLcHzGKAZURlievQCuJ1LxXcX1yxsdStrR1BJE8Z3fgDQBuSeG/EV5erK3iEklQS6W4U4HtWlo/hwaTdTX095cXN7KmEeYgAA8dKwhZQ3X2Pz/Fmoz38g8xjbsuxR6YHSpLy+fS44oP+Elu3mUg+TNB5m5c9OOR/wDXp3AxZPEFvYeTYTW139otHZZBHGRxuJH86K6i38R3V9qLJFoM0kBbAn2BM+pwRmikB1zafqaMXXSnYkAYZDiq0/hj7bGTcaAhkfg/uCAP0ooq+UVzOX4fxwSLLa6KbecZXfDvGR78fl+Na2n6TqdpDsXS5JOcF3DZP1yKKKOULkr2WrLKB/Y5Ct1Kqxx+lFFFHKFz/9k=\"></td>\n",
       "    </tr>\n",
       "    <tr>\n",
       "      <th>300</th>\n",
       "      <td>cloth</td>\n",
       "      <td>reed/img_x_146_y_171.png</td>\n",
       "      <td>reed</td>\n",
       "      <td>False</td>\n",
       "      <td><img src=\"data:image/jpeg;base64,/9j/4AAQSkZJRgABAQAAAQABAAD/2wBDAAgGBgcGBQgHBwcJCQgKDBQNDAsLDBkSEw8UHRofHh0aHBwgJC4nICIsIxwcKDcpLDAxNDQ0Hyc5PTgyPC4zNDL/2wBDAQkJCQwLDBgNDRgyIRwhMjIyMjIyMjIyMjIyMjIyMjIyMjIyMjIyMjIyMjIyMjIyMjIyMjIyMjIyMjIyMjIyMjL/wAARCAAoACgDASIAAhEBAxEB/8QAHwAAAQUBAQEBAQEAAAAAAAAAAAECAwQFBgcICQoL/8QAtRAAAgEDAwIEAwUFBAQAAAF9AQIDAAQRBRIhMUEGE1FhByJxFDKBkaEII0KxwRVS0fAkM2JyggkKFhcYGRolJicoKSo0NTY3ODk6Q0RFRkdISUpTVFVWV1hZWmNkZWZnaGlqc3R1dnd4eXqDhIWGh4iJipKTlJWWl5iZmqKjpKWmp6ipqrKztLW2t7i5usLDxMXGx8jJytLT1NXW19jZ2uHi4+Tl5ufo6erx8vP09fb3+Pn6/8QAHwEAAwEBAQEBAQEBAQAAAAAAAAECAwQFBgcICQoL/8QAtREAAgECBAQDBAcFBAQAAQJ3AAECAxEEBSExBhJBUQdhcRMiMoEIFEKRobHBCSMzUvAVYnLRChYkNOEl8RcYGRomJygpKjU2Nzg5OkNERUZHSElKU1RVVldYWVpjZGVmZ2hpanN0dXZ3eHl6goOEhYaHiImKkpOUlZaXmJmaoqOkpaanqKmqsrO0tba3uLm6wsPExcbHyMnK0tPU1dbX2Nna4uPk5ebn6Onq8vP09fb3+Pn6/9oADAMBAAIRAxEAPwDftb2G8sXuLadJImicnjkcU4ytFpETKnmFok+TOOwrl/DvlW8muiAhrVRK2ewbaePzrpJJEmt4ooxhvKG0n7o4rjLKl3qt5bwB3t7SCMsq75ZDkNjgZoit9Z+0od1hGuOVwx689e9ZnxLUp4e0+0JZY3uEZnUDrsb/AAH5V0aTSbEG/BwBhuvHAoAqTabdz7TdTW5eI7kZIicD6ls0VflkaIgTglSuMiigDLGj2Wl6PfW9mpXzYnZkLZZjg5Oepq4kOy3WJQG3AcelRXd99qGoSxwhDEjLFMOcjb61bT5PLZSG3dSBigDnPijB5nh+1K8+VNGwHrwR/wDW/L1Nblu0cggcKpyV5x7VkeNZjqH/ABKbKMzXSxCQgj5V57/gf1rT09GRLaOcgOqAybTwDQBo37AsFwODxRWVqOreXPlbaaVQ/VFyMYooAJLdLXSZYYcqio4APXoa0owqqBnGGHA+lFFAHPwTFvFeqLiRQ8a4cE4IAAI+law8iEqhXBkUtwOwOKKKAEjKq2E4HWiiigD/2Q==\"></td>\n",
       "    </tr>\n",
       "    <tr>\n",
       "      <th>285</th>\n",
       "      <td>N35</td>\n",
       "      <td>mouth/img_x_65_y_93.png</td>\n",
       "      <td>mouth</td>\n",
       "      <td>False</td>\n",
       "      <td><img src=\"data:image/jpeg;base64,/9j/4AAQSkZJRgABAQAAAQABAAD/2wBDAAgGBgcGBQgHBwcJCQgKDBQNDAsLDBkSEw8UHRofHh0aHBwgJC4nICIsIxwcKDcpLDAxNDQ0Hyc5PTgyPC4zNDL/2wBDAQkJCQwLDBgNDRgyIRwhMjIyMjIyMjIyMjIyMjIyMjIyMjIyMjIyMjIyMjIyMjIyMjIyMjIyMjIyMjIyMjIyMjL/wAARCAAoACgDASIAAhEBAxEB/8QAHwAAAQUBAQEBAQEAAAAAAAAAAAECAwQFBgcICQoL/8QAtRAAAgEDAwIEAwUFBAQAAAF9AQIDAAQRBRIhMUEGE1FhByJxFDKBkaEII0KxwRVS0fAkM2JyggkKFhcYGRolJicoKSo0NTY3ODk6Q0RFRkdISUpTVFVWV1hZWmNkZWZnaGlqc3R1dnd4eXqDhIWGh4iJipKTlJWWl5iZmqKjpKWmp6ipqrKztLW2t7i5usLDxMXGx8jJytLT1NXW19jZ2uHi4+Tl5ufo6erx8vP09fb3+Pn6/8QAHwEAAwEBAQEBAQEBAQAAAAAAAAECAwQFBgcICQoL/8QAtREAAgECBAQDBAcFBAQAAQJ3AAECAxEEBSExBhJBUQdhcRMiMoEIFEKRobHBCSMzUvAVYnLRChYkNOEl8RcYGRomJygpKjU2Nzg5OkNERUZHSElKU1RVVldYWVpjZGVmZ2hpanN0dXZ3eHl6goOEhYaHiImKkpOUlZaXmJmaoqOkpaanqKmqsrO0tba3uLm6wsPExcbHyMnK0tPU1dbX2Nna4uPk5ebn6Onq8vP09fb3+Pn6/9oADAMBAAIRAxEAPwCwysNWulByyrDlByR8oq/O6tbvEYisnY9/yqmvGq3qowZn8k5zyBsWpXkR3Vdzly3Kgc5riuWT6abi40q8tLmP7QIseSAuWJ9Mf561yNhpv2zUrmCfcgiyTHjG01t6m0kS+QLqK33NuGJQD/nik03TVsna4S3kk80fPMrBgT/OkMlsrDypR5eGAHfqKKsWl3byuB5vLEgBgVY/QNyfwoqkIqs8ieILsiFJeUBUtgD92uKg1b7VqMWyS1mjQHP+jsoOfTk/0q6y51nUWAPWEZ/4AtWEyztnhR98noB/jSsBgpLHZ22z7JcxA4BeVlPPfOB9KvT3dwuoWyadpyTMgz9pEnyL746Gr95q2kQQ4l8ptg+U43E/WuWnurb+14NQ0pJ1JAW4hQEqRk8gf56UWC50Uulz6lc21zqcwkmtmLosQ2AH1P8AhRWrE4cKQCPl5z1/GimBSHzate7VOU2blxznYtZ2vPOftQtWMB0wwmZgM+cHJ+XHpjHPvRRQBpRxw+ZHJbWoeR+GQEcGljS8+1vm2nTBI2koUI7c9aKKAOOudZ1a21mW2kkMXlPnES7lYe5bv7fSiiigD//Z\"></td>\n",
       "    </tr>\n",
       "    <tr>\n",
       "      <th>210</th>\n",
       "      <td>N35</td>\n",
       "      <td>cloth/img_x_442_y_516.png</td>\n",
       "      <td>cloth</td>\n",
       "      <td>False</td>\n",
       "      <td><img src=\"data:image/jpeg;base64,/9j/4AAQSkZJRgABAQAAAQABAAD/2wBDAAgGBgcGBQgHBwcJCQgKDBQNDAsLDBkSEw8UHRofHh0aHBwgJC4nICIsIxwcKDcpLDAxNDQ0Hyc5PTgyPC4zNDL/2wBDAQkJCQwLDBgNDRgyIRwhMjIyMjIyMjIyMjIyMjIyMjIyMjIyMjIyMjIyMjIyMjIyMjIyMjIyMjIyMjIyMjIyMjL/wAARCAAoACgDASIAAhEBAxEB/8QAHwAAAQUBAQEBAQEAAAAAAAAAAAECAwQFBgcICQoL/8QAtRAAAgEDAwIEAwUFBAQAAAF9AQIDAAQRBRIhMUEGE1FhByJxFDKBkaEII0KxwRVS0fAkM2JyggkKFhcYGRolJicoKSo0NTY3ODk6Q0RFRkdISUpTVFVWV1hZWmNkZWZnaGlqc3R1dnd4eXqDhIWGh4iJipKTlJWWl5iZmqKjpKWmp6ipqrKztLW2t7i5usLDxMXGx8jJytLT1NXW19jZ2uHi4+Tl5ufo6erx8vP09fb3+Pn6/8QAHwEAAwEBAQEBAQEBAQAAAAAAAAECAwQFBgcICQoL/8QAtREAAgECBAQDBAcFBAQAAQJ3AAECAxEEBSExBhJBUQdhcRMiMoEIFEKRobHBCSMzUvAVYnLRChYkNOEl8RcYGRomJygpKjU2Nzg5OkNERUZHSElKU1RVVldYWVpjZGVmZ2hpanN0dXZ3eHl6goOEhYaHiImKkpOUlZaXmJmaoqOkpaanqKmqsrO0tba3uLm6wsPExcbHyMnK0tPU1dbX2Nna4uPk5ebn6Onq8vP09fb3+Pn6/9oADAMBAAIRAxEAPwChZX8052TW7xXEIVXDdGb1H86y7eyjbXNVkWV4YfLtpJGTq7YNa9676fH5t997/Vj8SMfrisWNZbnX9YtoyAvlQByem4jH9a50WSX11o1neLFIsbXlwQ00sX3Qp4G78ccVdOmWcF00YgjSQKPmHU1xNxcRrZ67byF5J5riGNFXodqn/CvQIIAbS3VXBZIIt6nqMooFNgULqzt1hcylA2MKX6A9qKi0u/l1TWtQ0+eOKKKyXdn+I4oqQNrUVW5jaJsxR7icj7wHt71m6GktrfazatGksht4GjmP3mQt/H71qEq14zs2CP4az7GJ/wDhI9UdG277OHn/AIGOKAMNLSG2/wCEzDxRmOBBKuPUjj9TW9Y+aukQ3sa7ri6jg3R/7OxefwHP4Vm3FywTx4jR7T9nhXy/TK4zWzbt5dvbpuxttYV2/wDAKqWyAxNOi+x/EHWIYpNytZ5J9eBRS2LmL4l3Mdvjc9mCc9OOT+lFJgbGmWjabYCzLT3QY5+0T/eHOcfSkgONe1IYz/ocB/8AHxRRSAi12GGHw7rV1BB880BWQ/8APTkfy61ZSWKR/IilwYoYjL7ZUUUUAYPkX48fTX5tRIiQBY3Y4H5/nRRRQB//2Q==\"></td>\n",
       "    </tr>\n",
       "    <tr>\n",
       "      <th>426</th>\n",
       "      <td>mouth</td>\n",
       "      <td>viper/img_x_584_y_506.png</td>\n",
       "      <td>viper</td>\n",
       "      <td>False</td>\n",
       "      <td><img src=\"data:image/jpeg;base64,/9j/4AAQSkZJRgABAQAAAQABAAD/2wBDAAgGBgcGBQgHBwcJCQgKDBQNDAsLDBkSEw8UHRofHh0aHBwgJC4nICIsIxwcKDcpLDAxNDQ0Hyc5PTgyPC4zNDL/2wBDAQkJCQwLDBgNDRgyIRwhMjIyMjIyMjIyMjIyMjIyMjIyMjIyMjIyMjIyMjIyMjIyMjIyMjIyMjIyMjIyMjIyMjL/wAARCAAoACgDASIAAhEBAxEB/8QAHwAAAQUBAQEBAQEAAAAAAAAAAAECAwQFBgcICQoL/8QAtRAAAgEDAwIEAwUFBAQAAAF9AQIDAAQRBRIhMUEGE1FhByJxFDKBkaEII0KxwRVS0fAkM2JyggkKFhcYGRolJicoKSo0NTY3ODk6Q0RFRkdISUpTVFVWV1hZWmNkZWZnaGlqc3R1dnd4eXqDhIWGh4iJipKTlJWWl5iZmqKjpKWmp6ipqrKztLW2t7i5usLDxMXGx8jJytLT1NXW19jZ2uHi4+Tl5ufo6erx8vP09fb3+Pn6/8QAHwEAAwEBAQEBAQEBAQAAAAAAAAECAwQFBgcICQoL/8QAtREAAgECBAQDBAcFBAQAAQJ3AAECAxEEBSExBhJBUQdhcRMiMoEIFEKRobHBCSMzUvAVYnLRChYkNOEl8RcYGRomJygpKjU2Nzg5OkNERUZHSElKU1RVVldYWVpjZGVmZ2hpanN0dXZ3eHl6goOEhYaHiImKkpOUlZaXmJmaoqOkpaanqKmqsrO0tba3uLm6wsPExcbHyMnK0tPU1dbX2Nna4uPk5ebn6Onq8vP09fb3+Pn6/9oADAMBAAIRAxEAPwCK6t4tH8d6TDbstva3yvJKgfCiRAQGXPQnJ6da7D/lvnAz9Kgn0ux1C5iuLm2jmmi/1bOM7fpVjad+7tXMBz3ie2WXRbi8izFfWitNb3MYxIjDspHI+lWfDl9Nqnh2wvHjImdCZQRgliME1r+Wm4k7SpJJBGRzUElxb2JZJ2WBG+5xjPsAOp+lADrlMx22e9xFkf8AAqKa8rutrNKPKbzYjhvXdRQBVvteGmwobaxmvZH+55Ywjf8AAj/hUFlLq0kYnvZyN3S3tbfKL/wNuW/DFbmBlTgZX7p9KoX98mnWsl3Io3lwiL/eYnCrntk0ABlKptMF0T/uiqdto6S3AnupJriQ/wCqMowI/oBwPwpk3iC5s3+0TIslqu5pWhY5RFOHZc/fwQ5wMHArayfU/nQBBeM7eTuOcTxAZGeN1FF2wRYmb5h9oi/9CooAtKwPWsbXZ9PuLOazmM0shUlo7UbnVgdwb2AP/wCqiiqApCzu9cj2XUK2sUv+uYAea2RhtsfRN4J65x2xXR5Hm/7PpRRUgVr0AQxDt9oi/wDQqKKKAP/Z\"></td>\n",
       "    </tr>\n",
       "    <tr>\n",
       "      <th>337</th>\n",
       "      <td>wick</td>\n",
       "      <td>reed/img_x_692_y_358.png</td>\n",
       "      <td>reed</td>\n",
       "      <td>False</td>\n",
       "      <td><img src=\"data:image/jpeg;base64,/9j/4AAQSkZJRgABAQAAAQABAAD/2wBDAAgGBgcGBQgHBwcJCQgKDBQNDAsLDBkSEw8UHRofHh0aHBwgJC4nICIsIxwcKDcpLDAxNDQ0Hyc5PTgyPC4zNDL/2wBDAQkJCQwLDBgNDRgyIRwhMjIyMjIyMjIyMjIyMjIyMjIyMjIyMjIyMjIyMjIyMjIyMjIyMjIyMjIyMjIyMjIyMjL/wAARCAAoACgDASIAAhEBAxEB/8QAHwAAAQUBAQEBAQEAAAAAAAAAAAECAwQFBgcICQoL/8QAtRAAAgEDAwIEAwUFBAQAAAF9AQIDAAQRBRIhMUEGE1FhByJxFDKBkaEII0KxwRVS0fAkM2JyggkKFhcYGRolJicoKSo0NTY3ODk6Q0RFRkdISUpTVFVWV1hZWmNkZWZnaGlqc3R1dnd4eXqDhIWGh4iJipKTlJWWl5iZmqKjpKWmp6ipqrKztLW2t7i5usLDxMXGx8jJytLT1NXW19jZ2uHi4+Tl5ufo6erx8vP09fb3+Pn6/8QAHwEAAwEBAQEBAQEBAQAAAAAAAAECAwQFBgcICQoL/8QAtREAAgECBAQDBAcFBAQAAQJ3AAECAxEEBSExBhJBUQdhcRMiMoEIFEKRobHBCSMzUvAVYnLRChYkNOEl8RcYGRomJygpKjU2Nzg5OkNERUZHSElKU1RVVldYWVpjZGVmZ2hpanN0dXZ3eHl6goOEhYaHiImKkpOUlZaXmJmaoqOkpaanqKmqsrO0tba3uLm6wsPExcbHyMnK0tPU1dbX2Nna4uPk5ebn6Onq8vP09fb3+Pn6/9oADAMBAAIRAxEAPwCa31TwPYSQM2t2zmzlYxBHKgMW+ZsD72e/NX9PvPCOs3ckFlepcS3kp/dCQ7pWAycj0/pXL+Hbn+0db0/+0dG0p7LVfP8AsqQWqhrdo2PU9/umvRW8M6QWiY6XapJEwaN4kEZUk4PK89KwsBDHdaHD4gj0ZPmvxG0vlkF9qgAggngdR0NN1bUbTQdHkmkTMKsVjiUAl3LZAGepNcTp5e3+M5MqMTcfaI05z8gRSP5Gul8VQX99b2cWm2aTXvnny534jt8fxkHqfTGaAOa1vx54bmhdH0BrmVi8cRVdhcc4IxjHQ+tFXI28XqjXB0iBz54mWLfHvMYwPKJ6DklgRxRTAyvDCKt34RWO7RAt1eAITzhWk/nmvWlQt1NeTx6fP4P13wnBcXEbXHn3B/duT8suFI5HuTXrjDbn260wPG5Llbf42WcBSf8AdXbICe6tGB/UV6VqOtWWiWqz3jzLE7sYwqM5IP8Aug1z2kxK/wASvFF1NGGmSG3eCR1yB8pBI/IV1Gn26w2EKBULR/xD5f8AGpA47UfG+ryRSNovhrUZC33HuIiM0V3WCqxqigAdeDRQB5hqmuaT4t1TTr+NtStbjSn8yJWtzic7s43YwPur1P8AFW9qHxO06xv7q3k0q6lfDFAqk5A+4fo1FFAF7SvHGiarfRW9qk8c91O0COYSMgLuQZI6kdBW9YTJc2SzLEdzZwueeDg8e1FFAFHVtbtdMWPd5kk8n3Ywevv9PeiiigD/2Q==\"></td>\n",
       "    </tr>\n",
       "    <tr>\n",
       "      <th>424</th>\n",
       "      <td>basket</td>\n",
       "      <td>viper/img_x_466_y_419.png</td>\n",
       "      <td>viper</td>\n",
       "      <td>False</td>\n",
       "      <td><img src=\"data:image/jpeg;base64,/9j/4AAQSkZJRgABAQAAAQABAAD/2wBDAAgGBgcGBQgHBwcJCQgKDBQNDAsLDBkSEw8UHRofHh0aHBwgJC4nICIsIxwcKDcpLDAxNDQ0Hyc5PTgyPC4zNDL/2wBDAQkJCQwLDBgNDRgyIRwhMjIyMjIyMjIyMjIyMjIyMjIyMjIyMjIyMjIyMjIyMjIyMjIyMjIyMjIyMjIyMjIyMjL/wAARCAAoACgDASIAAhEBAxEB/8QAHwAAAQUBAQEBAQEAAAAAAAAAAAECAwQFBgcICQoL/8QAtRAAAgEDAwIEAwUFBAQAAAF9AQIDAAQRBRIhMUEGE1FhByJxFDKBkaEII0KxwRVS0fAkM2JyggkKFhcYGRolJicoKSo0NTY3ODk6Q0RFRkdISUpTVFVWV1hZWmNkZWZnaGlqc3R1dnd4eXqDhIWGh4iJipKTlJWWl5iZmqKjpKWmp6ipqrKztLW2t7i5usLDxMXGx8jJytLT1NXW19jZ2uHi4+Tl5ufo6erx8vP09fb3+Pn6/8QAHwEAAwEBAQEBAQEBAQAAAAAAAAECAwQFBgcICQoL/8QAtREAAgECBAQDBAcFBAQAAQJ3AAECAxEEBSExBhJBUQdhcRMiMoEIFEKRobHBCSMzUvAVYnLRChYkNOEl8RcYGRomJygpKjU2Nzg5OkNERUZHSElKU1RVVldYWVpjZGVmZ2hpanN0dXZ3eHl6goOEhYaHiImKkpOUlZaXmJmaoqOkpaanqKmqsrO0tba3uLm6wsPExcbHyMnK0tPU1dbX2Nna4uPk5ebn6Onq8vP09fb3+Pn6/9oADAMBAAIRAxEAPwCxq3wwbVtWv9U/tKMrdOJdkkW7bhcY5qlb+BJNKdblNRtbVQC7mOzRSoHOST0qzceHtVm13Vrl70yWtyFFvGJWXywOT/hUY8MpJIMWdu7KoC/aLiR9577lHBFc7YC2Fi2reZPF4qnvoWJLNBGm1AP5VZHh1RGyXPiO9dH4AeZFYZ6AVBqHhma7SCCVrPy4m8xY44iFyOdpAxlarWPga3sxkyWMymcSpMICCCTkru3Hp0FIDrYIhbXUuC0ixQnljncFI6+tFNib/iftFGMA2r5BH+2o4opoCS4vLezQzXMvlIOpPB/AHrWNbeI7LU5gbKKZ4I2KidiEBbHI5wc1rJYRpGg2sz55Zmycd8//AFq5qHVrEWl3dWmgLOsN40DxxYVnZThmAOc9fUGjcC5feL7TTyvnWd4jFsJ5ckb7m/A5pmm2Gp38q3lw4tLOabe9jHli3o7N3OccDim6fqOm316tndaQLO5O6S2SWMBnA4OCBxjPrXUIZPIG58Y/u/wigCoizReJDuU7FtGIOOxkXFFMtp3l1ho3kcgWeAT3/eCihAaOCP5V5g5x4F8VPFN5csOpzFWV9pB3p3/OiimB0WsRf8Vp4SUyqd0N1k5ySNgI5+tdUwEdu3OQQRn3xRRSYGfZ7Rqxb+9aNjj/AKaLRRRQgP/Z\"></td>\n",
       "    </tr>\n",
       "    <tr>\n",
       "      <th>394</th>\n",
       "      <td>basket</td>\n",
       "      <td>tether/img_x_235_y_119.png</td>\n",
       "      <td>tether</td>\n",
       "      <td>False</td>\n",
       "      <td><img src=\"data:image/jpeg;base64,/9j/4AAQSkZJRgABAQAAAQABAAD/2wBDAAgGBgcGBQgHBwcJCQgKDBQNDAsLDBkSEw8UHRofHh0aHBwgJC4nICIsIxwcKDcpLDAxNDQ0Hyc5PTgyPC4zNDL/2wBDAQkJCQwLDBgNDRgyIRwhMjIyMjIyMjIyMjIyMjIyMjIyMjIyMjIyMjIyMjIyMjIyMjIyMjIyMjIyMjIyMjIyMjL/wAARCAAoACgDASIAAhEBAxEB/8QAHwAAAQUBAQEBAQEAAAAAAAAAAAECAwQFBgcICQoL/8QAtRAAAgEDAwIEAwUFBAQAAAF9AQIDAAQRBRIhMUEGE1FhByJxFDKBkaEII0KxwRVS0fAkM2JyggkKFhcYGRolJicoKSo0NTY3ODk6Q0RFRkdISUpTVFVWV1hZWmNkZWZnaGlqc3R1dnd4eXqDhIWGh4iJipKTlJWWl5iZmqKjpKWmp6ipqrKztLW2t7i5usLDxMXGx8jJytLT1NXW19jZ2uHi4+Tl5ufo6erx8vP09fb3+Pn6/8QAHwEAAwEBAQEBAQEBAQAAAAAAAAECAwQFBgcICQoL/8QAtREAAgECBAQDBAcFBAQAAQJ3AAECAxEEBSExBhJBUQdhcRMiMoEIFEKRobHBCSMzUvAVYnLRChYkNOEl8RcYGRomJygpKjU2Nzg5OkNERUZHSElKU1RVVldYWVpjZGVmZ2hpanN0dXZ3eHl6goOEhYaHiImKkpOUlZaXmJmaoqOkpaanqKmqsrO0tba3uLm6wsPExcbHyMnK0tPU1dbX2Nna4uPk5ebn6Onq8vP09fb3+Pn6/9oADAMBAAIRAxEAPwDtwC+cg49a5CVQfi7HI6NhNGZQAOCdx/xFaZ8W2A+0b2kitbeQwy3Dp8m8cEZGTkEelTrpVhqV9b+IYZGdntlWJlkwHjIyDg4IyMcVybFmVp52+OPEHKriCFiucknHOBUZsLmfx3cSrJIsH9nJ8/lnBPmElRxXQNplrHfNqKxGO4lUK5juMZHb+Kq82pJbHCyM5JAJku4woAOWGd2c0rgaUYGOck+pFFMsJotQhMlm6S7V3MiyqzoPfB60UXA5G2vdIOoa6RbzxWNpPuvpGyyO+ecIM988966W3ksbizintSslsyBlbaR8pHGQcHp7UkmnWgu3vViK3LqFZ422BwOzDocetRX99pul2xu76ZY0XAYnJOT04A5zQwIZr/SxcBDHAR3Jx/jS/wBo6a7PHay2ZcH/AFbvhf5Vdsbi51GHzY7BooCMo02F3L2IGfSrRhcHeUH3cDaKmwHN2WnRzeJk1BZYLWODJCWSFZJgeokbGCPp+dFdGmQ+5wcgYG2iiwDX+X73P0ri9Rt7u78fWF3dW0h0u0Q48vu3bI70UVYHXjUQI8m0u2Y84WMH+ZFSx3okhAMFypPHzKox+tFFIB58xRjbmiiigD//2Q==\"></td>\n",
       "    </tr>\n",
       "    <tr>\n",
       "      <th>247</th>\n",
       "      <td>viper</td>\n",
       "      <td>mouth/img_x_129_y_205.png</td>\n",
       "      <td>mouth</td>\n",
       "      <td>False</td>\n",
       "      <td><img src=\"data:image/jpeg;base64,/9j/4AAQSkZJRgABAQAAAQABAAD/2wBDAAgGBgcGBQgHBwcJCQgKDBQNDAsLDBkSEw8UHRofHh0aHBwgJC4nICIsIxwcKDcpLDAxNDQ0Hyc5PTgyPC4zNDL/2wBDAQkJCQwLDBgNDRgyIRwhMjIyMjIyMjIyMjIyMjIyMjIyMjIyMjIyMjIyMjIyMjIyMjIyMjIyMjIyMjIyMjIyMjL/wAARCAAoACgDASIAAhEBAxEB/8QAHwAAAQUBAQEBAQEAAAAAAAAAAAECAwQFBgcICQoL/8QAtRAAAgEDAwIEAwUFBAQAAAF9AQIDAAQRBRIhMUEGE1FhByJxFDKBkaEII0KxwRVS0fAkM2JyggkKFhcYGRolJicoKSo0NTY3ODk6Q0RFRkdISUpTVFVWV1hZWmNkZWZnaGlqc3R1dnd4eXqDhIWGh4iJipKTlJWWl5iZmqKjpKWmp6ipqrKztLW2t7i5usLDxMXGx8jJytLT1NXW19jZ2uHi4+Tl5ufo6erx8vP09fb3+Pn6/8QAHwEAAwEBAQEBAQEBAQAAAAAAAAECAwQFBgcICQoL/8QAtREAAgECBAQDBAcFBAQAAQJ3AAECAxEEBSExBhJBUQdhcRMiMoEIFEKRobHBCSMzUvAVYnLRChYkNOEl8RcYGRomJygpKjU2Nzg5OkNERUZHSElKU1RVVldYWVpjZGVmZ2hpanN0dXZ3eHl6goOEhYaHiImKkpOUlZaXmJmaoqOkpaanqKmqsrO0tba3uLm6wsPExcbHyMnK0tPU1dbX2Nna4uPk5ebn6Onq8vP09fb3+Pn6/9oADAMBAAIRAxEAPwCXxEY28T+H4pBuLR3Py9wNg5roLaBVtAqAqgHP0rmvFMN1LrWh3trYSTiBpUlMXLBCME1s6ddTTDa8NxGE5d54gN/p9MVzAX1QOu1S/wDsnHeom2lDh2Hqx6VHcapZ2gLT3Yx2AHGa5XVNW126vYo/Dl5ZC3ntwiSNMq4kDfMRnqfamgL/AMP54m0C0jGDJD5kTAdR8xIBop3hLRtT0S1Nte/ZlyWbdA2WkJ+8WP8ASimBa1jW001lH2SdxIN3mrGSkeP7xHSqFhewahP9qfUklk6BXlUFB7JnP510piQ7dwyDyD6GormytpwGns7eRumGjDFh+lSBkgoxIGoXTfN92KZFx+FcDrqvFc272d/eT3rMQltM6ylA3JICdDx3r0Wx0XRkvg8WlWe92xkwDA/Wuf06+dg1xY3Vvp9r9taOCOOJCXiB2ksTz6n6UwL3habXjLaQXNniAJ85fO5R6f1orpNHup7hIrmZl85tyllHDL64ooAkyNgGRmmXsgTk/dVCWOcAAdcntRRQBwN14jt9V1M2yyGPT3GTJkq91zj5e6x/qaeBHHewCxtYkLfJa268AerHPWiihgeg2MQt7eKHA3YBYj1PYUUUUID/2Q==\"></td>\n",
       "    </tr>\n",
       "    <tr>\n",
       "      <th>312</th>\n",
       "      <td>cloth</td>\n",
       "      <td>reed/img_x_354_y_18.png</td>\n",
       "      <td>reed</td>\n",
       "      <td>False</td>\n",
       "      <td><img src=\"data:image/jpeg;base64,/9j/4AAQSkZJRgABAQAAAQABAAD/2wBDAAgGBgcGBQgHBwcJCQgKDBQNDAsLDBkSEw8UHRofHh0aHBwgJC4nICIsIxwcKDcpLDAxNDQ0Hyc5PTgyPC4zNDL/2wBDAQkJCQwLDBgNDRgyIRwhMjIyMjIyMjIyMjIyMjIyMjIyMjIyMjIyMjIyMjIyMjIyMjIyMjIyMjIyMjIyMjIyMjL/wAARCAAoACgDASIAAhEBAxEB/8QAHwAAAQUBAQEBAQEAAAAAAAAAAAECAwQFBgcICQoL/8QAtRAAAgEDAwIEAwUFBAQAAAF9AQIDAAQRBRIhMUEGE1FhByJxFDKBkaEII0KxwRVS0fAkM2JyggkKFhcYGRolJicoKSo0NTY3ODk6Q0RFRkdISUpTVFVWV1hZWmNkZWZnaGlqc3R1dnd4eXqDhIWGh4iJipKTlJWWl5iZmqKjpKWmp6ipqrKztLW2t7i5usLDxMXGx8jJytLT1NXW19jZ2uHi4+Tl5ufo6erx8vP09fb3+Pn6/8QAHwEAAwEBAQEBAQEBAQAAAAAAAAECAwQFBgcICQoL/8QAtREAAgECBAQDBAcFBAQAAQJ3AAECAxEEBSExBhJBUQdhcRMiMoEIFEKRobHBCSMzUvAVYnLRChYkNOEl8RcYGRomJygpKjU2Nzg5OkNERUZHSElKU1RVVldYWVpjZGVmZ2hpanN0dXZ3eHl6goOEhYaHiImKkpOUlZaXmJmaoqOkpaanqKmqsrO0tba3uLm6wsPExcbHyMnK0tPU1dbX2Nna4uPk5ebn6Onq8vP09fb3+Pn6/9oADAMBAAIRAxEAPwCz4x1uHR9GnJufKvp49kEYPJz3xXJ/DK3RJ9Tnu/Oa8iaMZd8j5hnkfjXneoahNfatLe3bG4c5+8SVUnkAV634D0v+x9BSW6U/aryQTSgj+HHyj+RrGWwFvxBqMtpq/h5YJNsQ1BYbgnjLlc7T+BFdBCg/4SKfHX7HEMfSV81xHiYrFa6hJvydP1S2ucseRvVMn6c12cUw/wCEgY9C1mD+HmvzS6AT3MUcqYkG4ejYIFFUdZ1zS9BWNtQuWSSYnZHFGXZsdTgelFBR4zpGnvfarpUUlqY4muVjVTz5m3LMc9/SvZEcBEIQhT91cfdHavO01ezsTY3ouI2udJmaznjjIIkgLHEiY6nnkiu30/UbHVf+PWYuicg55x2py2Gc5r9hqmsa5e6TZGJLeVYZ7uYn5lH3QuO5+XNdZbJs1vAfzP8AiWRqD3J81qz7WzuIvEur3ZizZXNvCEYvz5iHHA64rStVC68UCgFbIA4GBxKwNIDn/E89xpHiLStYjgF/KiywCyxudlwWLIvt3opPF94/h7xBpPiAoLny4Z4Vg68lepHoAxJPpiimQy74eu4tR0ks2nW1pcxMYp4EjG5DkgZz3PX8a14y2yRUJUg7SEUZ49cUUUizB8XaneRWradakDdZy3XmKctvTBA49smtPT53m1SxmA3LNpYZ3HI3GQE8/jRRQBm+NobiO2g1mFBKdNRi8Ei/KyuNrZ/DH5UUUVcUmQz/2Q==\"></td>\n",
       "    </tr>\n",
       "    <tr>\n",
       "      <th>259</th>\n",
       "      <td>viper</td>\n",
       "      <td>mouth/img_x_268_y_400.png</td>\n",
       "      <td>mouth</td>\n",
       "      <td>False</td>\n",
       "      <td><img src=\"data:image/jpeg;base64,/9j/4AAQSkZJRgABAQAAAQABAAD/2wBDAAgGBgcGBQgHBwcJCQgKDBQNDAsLDBkSEw8UHRofHh0aHBwgJC4nICIsIxwcKDcpLDAxNDQ0Hyc5PTgyPC4zNDL/2wBDAQkJCQwLDBgNDRgyIRwhMjIyMjIyMjIyMjIyMjIyMjIyMjIyMjIyMjIyMjIyMjIyMjIyMjIyMjIyMjIyMjIyMjL/wAARCAAoACgDASIAAhEBAxEB/8QAHwAAAQUBAQEBAQEAAAAAAAAAAAECAwQFBgcICQoL/8QAtRAAAgEDAwIEAwUFBAQAAAF9AQIDAAQRBRIhMUEGE1FhByJxFDKBkaEII0KxwRVS0fAkM2JyggkKFhcYGRolJicoKSo0NTY3ODk6Q0RFRkdISUpTVFVWV1hZWmNkZWZnaGlqc3R1dnd4eXqDhIWGh4iJipKTlJWWl5iZmqKjpKWmp6ipqrKztLW2t7i5usLDxMXGx8jJytLT1NXW19jZ2uHi4+Tl5ufo6erx8vP09fb3+Pn6/8QAHwEAAwEBAQEBAQEBAQAAAAAAAAECAwQFBgcICQoL/8QAtREAAgECBAQDBAcFBAQAAQJ3AAECAxEEBSExBhJBUQdhcRMiMoEIFEKRobHBCSMzUvAVYnLRChYkNOEl8RcYGRomJygpKjU2Nzg5OkNERUZHSElKU1RVVldYWVpjZGVmZ2hpanN0dXZ3eHl6goOEhYaHiImKkpOUlZaXmJmaoqOkpaanqKmqsrO0tba3uLm6wsPExcbHyMnK0tPU1dbX2Nna4uPk5ebn6Onq8vP09fb3+Pn6/9oADAMBAAIRAxEAPwCv8SZVXxB4XKbvM+0Pzk/7NdjaxyKOvIAy7DOevauW+Iel6pf6jod5ptnJd/ZJHeRY1GRnbjqfY0/RLrxLLqvl3+l3FvaHJMkjKMY9gawA7NSgI3Odx7gYqG7JbT7osGKmGRCeuFKnP07flTmlidNiSp82OQQfrXF6v/wkdxrV3Ha2k8+nNEEi8uVEAP8AFnJ+lACfCyZB4WWE9Mklu5J5/oKKseDfD2paHBdwzW6xQO0Yj/eq54Ug9OnaigCXxP49j0bWG0qztl+1bcefdt5ca8A5A/i6+v8AOsuF7zXVVb7VvNgf7xGTCfbYhH/jxPt3r0m6s4b5WF1bxSowHDqDngVzF34G8KzSmQ6RFG38RjJTH024oAx4dGSwhKWHiBrYM2VSOBAn4Kcn8jVTUPF1/oMqPNf2Wp+WceSoaGRh9PmB/CtePwNosUiCFLp1ycb7qQhfpzxWFZ6x4P0y+1BWsYY5bSTaZ9m8vjg8+xoA6fRdafU7MTC2mjOAyq/GTzmit61FrLBHPbFPLlRWVgvUHpRQBoSY3Ick7VHH4Cq1zDJOU7BjjGKKKbQHD+JPG6WFx/Y2hRpc6gVKyyl8RwZ9eDk57e1edanoNzYw29uhaeS83I8kbZDMxUk4oopAe36daNpelW9oTI4t4VQbj1IH6UUUUAf/2Q==\"></td>\n",
       "    </tr>\n",
       "    <tr>\n",
       "      <th>404</th>\n",
       "      <td>basket</td>\n",
       "      <td>tether/img_x_56_y_119.png</td>\n",
       "      <td>tether</td>\n",
       "      <td>False</td>\n",
       "      <td><img src=\"data:image/jpeg;base64,/9j/4AAQSkZJRgABAQAAAQABAAD/2wBDAAgGBgcGBQgHBwcJCQgKDBQNDAsLDBkSEw8UHRofHh0aHBwgJC4nICIsIxwcKDcpLDAxNDQ0Hyc5PTgyPC4zNDL/2wBDAQkJCQwLDBgNDRgyIRwhMjIyMjIyMjIyMjIyMjIyMjIyMjIyMjIyMjIyMjIyMjIyMjIyMjIyMjIyMjIyMjIyMjL/wAARCAAoACgDASIAAhEBAxEB/8QAHwAAAQUBAQEBAQEAAAAAAAAAAAECAwQFBgcICQoL/8QAtRAAAgEDAwIEAwUFBAQAAAF9AQIDAAQRBRIhMUEGE1FhByJxFDKBkaEII0KxwRVS0fAkM2JyggkKFhcYGRolJicoKSo0NTY3ODk6Q0RFRkdISUpTVFVWV1hZWmNkZWZnaGlqc3R1dnd4eXqDhIWGh4iJipKTlJWWl5iZmqKjpKWmp6ipqrKztLW2t7i5usLDxMXGx8jJytLT1NXW19jZ2uHi4+Tl5ufo6erx8vP09fb3+Pn6/8QAHwEAAwEBAQEBAQEBAQAAAAAAAAECAwQFBgcICQoL/8QAtREAAgECBAQDBAcFBAQAAQJ3AAECAxEEBSExBhJBUQdhcRMiMoEIFEKRobHBCSMzUvAVYnLRChYkNOEl8RcYGRomJygpKjU2Nzg5OkNERUZHSElKU1RVVldYWVpjZGVmZ2hpanN0dXZ3eHl6goOEhYaHiImKkpOUlZaXmJmaoqOkpaanqKmqsrO0tba3uLm6wsPExcbHyMnK0tPU1dbX2Nna4uPk5ebn6Onq8vP09fb3+Pn6/9oADAMBAAIRAxEAPwDoktmECBzgBug6KPXHTpxXL2BgtPinqFrHIkcLaXl1dsBnyPTA6Gujl1Ewz3NqLeWVo4FlZ1GF2tJ5a4P94t27etYM7+HtV1GJreEzalKuwpArebjAHTGe3pXHcux1DfLdrJCzeVLFlARjYysQ3HbcRkZpJoBPEYGUMpGCDnnJyazrMpYvIsWl3/mSY3zEDnGT/E3qa1BG84a4Voo18vcqNOM5/KpAq2OnQWNlHZ26lII87UB4GW3H9aKuxbZbeSaK5tpBHw/kyb9p9+hx74oqrgZspt5NVuJwF3WcarPIHJZgxJCBehAIyePyqU3X25pXntrgunU3ERTH09veq095oK6yhuykmrSwbohGCzbOeCF4P8X6VZe6W2tZb3EnlL94SPgn/vsipHcp2t7DcWfmLp8aru24d8HP4Yp81xczOs0NtD8v8JDf/E1Vu7lDbRXMJs1eU+SsDXEe0Nz8xbdtPToCajuPF9tYQwpdWWopPJkbFtfmDdl+v6e9OwiQ6Ct7qdlqOoXEUUlnIZY47VTyR6v6ewxRVi31+O6ubS2i028iNxuySsYEX+/83y479aKQWLsmn2V5qC3s0KteLH5aykfMB/n+Zp0mn28kah4IpIn6q65BoooAyl8N+HrvQDZxQRy6f9o8w7Lh2JkGc5bOT19as2d3batYx6zDuu45cbZZWKkAPtwB6Y7UUVfQC1EkMq58pQ7Z3MF5GeuPrRRRUDP/2Q==\"></td>\n",
       "    </tr>\n",
       "    <tr>\n",
       "      <th>199</th>\n",
       "      <td>reed</td>\n",
       "      <td>cloth/img_x_141_y_198.png</td>\n",
       "      <td>cloth</td>\n",
       "      <td>False</td>\n",
       "      <td><img src=\"data:image/jpeg;base64,/9j/4AAQSkZJRgABAQAAAQABAAD/2wBDAAgGBgcGBQgHBwcJCQgKDBQNDAsLDBkSEw8UHRofHh0aHBwgJC4nICIsIxwcKDcpLDAxNDQ0Hyc5PTgyPC4zNDL/2wBDAQkJCQwLDBgNDRgyIRwhMjIyMjIyMjIyMjIyMjIyMjIyMjIyMjIyMjIyMjIyMjIyMjIyMjIyMjIyMjIyMjIyMjL/wAARCAAoACgDASIAAhEBAxEB/8QAHwAAAQUBAQEBAQEAAAAAAAAAAAECAwQFBgcICQoL/8QAtRAAAgEDAwIEAwUFBAQAAAF9AQIDAAQRBRIhMUEGE1FhByJxFDKBkaEII0KxwRVS0fAkM2JyggkKFhcYGRolJicoKSo0NTY3ODk6Q0RFRkdISUpTVFVWV1hZWmNkZWZnaGlqc3R1dnd4eXqDhIWGh4iJipKTlJWWl5iZmqKjpKWmp6ipqrKztLW2t7i5usLDxMXGx8jJytLT1NXW19jZ2uHi4+Tl5ufo6erx8vP09fb3+Pn6/8QAHwEAAwEBAQEBAQEBAQAAAAAAAAECAwQFBgcICQoL/8QAtREAAgECBAQDBAcFBAQAAQJ3AAECAxEEBSExBhJBUQdhcRMiMoEIFEKRobHBCSMzUvAVYnLRChYkNOEl8RcYGRomJygpKjU2Nzg5OkNERUZHSElKU1RVVldYWVpjZGVmZ2hpanN0dXZ3eHl6goOEhYaHiImKkpOUlZaXmJmaoqOkpaanqKmqsrO0tba3uLm6wsPExcbHyMnK0tPU1dbX2Nna4uPk5ebn6Onq8vP09fb3+Pn6/9oADAMBAAIRAxEAPwDdvNcs9Mtp57hS/kRhwEQFipPXrVyC6tri3W4RZcNEJMsgBXOeOBntXIa95z6TrDlEzDFHslUgEgsSFya37crHp8jPIwzAhO05x8tcxZC3iezt9Yi01oJ1M0P2gS8AYyR/StpZ/Mk2lgWAGMenUVwFzZF/EsDKzs8emnIZhx1NdxYbHEUgZTujXkfQU0A/UdQh02ymubiZIUjTIdzgbvSirBt0ud0MsaPG/DAgZx+NFMDzvXjcS2OtQYK4ihx/cLZOR9RW/bW0sEctoCZF+zp8w6Zx/wDXrM13Sr3UYXaxkh+yzQ/vI2Db2PUbeMdK3raDzIJVifYwt49uVBYHaMZ59c1IGJDfRL42MaeVIv8AZfOeoIyCP0rr7CMC1hbAGUB+Ue1cZ/Yt1b3D3V3cR3F/JBIiyRReWCPQj16811Vgsy28YM33UUYx/simgNAIwl35x2xRRksQWfnHHFFMDntI0/VYdKWDUHtnkSMpG0asNo5xu461PoNrqdt9qW+gtwx2KjQbvnGOpzznr+lFFSBR8UaZreotappVxHBFGzGZ25JGemR24rft0JuGBAGY13AEEA4wf5UUU0BZ2MWjGcKOo9aKKKYH/9k=\"></td>\n",
       "    </tr>\n",
       "    <tr>\n",
       "      <th>421</th>\n",
       "      <td>N35</td>\n",
       "      <td>viper/img_x_327_y_228.png</td>\n",
       "      <td>viper</td>\n",
       "      <td>False</td>\n",
       "      <td><img src=\"data:image/jpeg;base64,/9j/4AAQSkZJRgABAQAAAQABAAD/2wBDAAgGBgcGBQgHBwcJCQgKDBQNDAsLDBkSEw8UHRofHh0aHBwgJC4nICIsIxwcKDcpLDAxNDQ0Hyc5PTgyPC4zNDL/2wBDAQkJCQwLDBgNDRgyIRwhMjIyMjIyMjIyMjIyMjIyMjIyMjIyMjIyMjIyMjIyMjIyMjIyMjIyMjIyMjIyMjIyMjL/wAARCAAoACgDASIAAhEBAxEB/8QAHwAAAQUBAQEBAQEAAAAAAAAAAAECAwQFBgcICQoL/8QAtRAAAgEDAwIEAwUFBAQAAAF9AQIDAAQRBRIhMUEGE1FhByJxFDKBkaEII0KxwRVS0fAkM2JyggkKFhcYGRolJicoKSo0NTY3ODk6Q0RFRkdISUpTVFVWV1hZWmNkZWZnaGlqc3R1dnd4eXqDhIWGh4iJipKTlJWWl5iZmqKjpKWmp6ipqrKztLW2t7i5usLDxMXGx8jJytLT1NXW19jZ2uHi4+Tl5ufo6erx8vP09fb3+Pn6/8QAHwEAAwEBAQEBAQEBAQAAAAAAAAECAwQFBgcICQoL/8QAtREAAgECBAQDBAcFBAQAAQJ3AAECAxEEBSExBhJBUQdhcRMiMoEIFEKRobHBCSMzUvAVYnLRChYkNOEl8RcYGRomJygpKjU2Nzg5OkNERUZHSElKU1RVVldYWVpjZGVmZ2hpanN0dXZ3eHl6goOEhYaHiImKkpOUlZaXmJmaoqOkpaanqKmqsrO0tba3uLm6wsPExcbHyMnK0tPU1dbX2Nna4uPk5ebn6Onq8vP09fb3+Pn6/9oADAMBAAIRAxEAPwDYl3LJub7z5J+lc54uWP8A4RfUWjj8vEJO/wBfaunUq88bDdnr8vvWXqsH2+B7SdXaGVCrbjjuK5iyjrGlvqejXNtENszATRyejIAw/MjH41PZXzatoenakgwt0jsV/usCAw/MGi0mRYGs4X/dIPJkXdnOBgVXt9Ot7C3jkghWJInALRH5hlh8xHcDqfYd+lAE+owyNpN3CG2h4XUn8KKspeQz3ZGxpYyok84D5JN2ejdyNvP1H4FAE9/bXccqyxXMSlcq8bxiQp0w24/y96yJIJbS7uZ76c6jJJgKt2WMAB/6ZZAPat6Vfs8gd+I93Lf3feub8W2y33hbVIwiJ5MZlWV/4wOePemtwNqA30MEUT22lZ6GBLEKuTyCMNgDH1NQ3E32m6EdzpFupUEYF0xhuOP4oiArD29cU6ycXGmaUzIBnTLbke8Sf4UNmNwnape4FcL5VjbKhkEWCfKds+WcjgL/AAj2HFFS3SExyFeuxv5UUwNqQRlJA6qTgLhvYYz+lYniOI/8I5qapGigWMxyv+4aKKa3Ak0GSP8AsDQ4n6vYwj/yEtKI5JDvH3ckCiipluAXlwtnYyTThTHGpc7uwUFj+gNFFFaRjcR//9k=\"></td>\n",
       "    </tr>\n",
       "    <tr>\n",
       "      <th>425</th>\n",
       "      <td>basket</td>\n",
       "      <td>viper/img_x_47_y_267.png</td>\n",
       "      <td>viper</td>\n",
       "      <td>False</td>\n",
       "      <td><img src=\"data:image/jpeg;base64,/9j/4AAQSkZJRgABAQAAAQABAAD/2wBDAAgGBgcGBQgHBwcJCQgKDBQNDAsLDBkSEw8UHRofHh0aHBwgJC4nICIsIxwcKDcpLDAxNDQ0Hyc5PTgyPC4zNDL/2wBDAQkJCQwLDBgNDRgyIRwhMjIyMjIyMjIyMjIyMjIyMjIyMjIyMjIyMjIyMjIyMjIyMjIyMjIyMjIyMjIyMjIyMjL/wAARCAAoACgDASIAAhEBAxEB/8QAHwAAAQUBAQEBAQEAAAAAAAAAAAECAwQFBgcICQoL/8QAtRAAAgEDAwIEAwUFBAQAAAF9AQIDAAQRBRIhMUEGE1FhByJxFDKBkaEII0KxwRVS0fAkM2JyggkKFhcYGRolJicoKSo0NTY3ODk6Q0RFRkdISUpTVFVWV1hZWmNkZWZnaGlqc3R1dnd4eXqDhIWGh4iJipKTlJWWl5iZmqKjpKWmp6ipqrKztLW2t7i5usLDxMXGx8jJytLT1NXW19jZ2uHi4+Tl5ufo6erx8vP09fb3+Pn6/8QAHwEAAwEBAQEBAQEBAQAAAAAAAAECAwQFBgcICQoL/8QAtREAAgECBAQDBAcFBAQAAQJ3AAECAxEEBSExBhJBUQdhcRMiMoEIFEKRobHBCSMzUvAVYnLRChYkNOEl8RcYGRomJygpKjU2Nzg5OkNERUZHSElKU1RVVldYWVpjZGVmZ2hpanN0dXZ3eHl6goOEhYaHiImKkpOUlZaXmJmaoqOkpaanqKmqsrO0tba3uLm6wsPExcbHyMnK0tPU1dbX2Nna4uPk5ebn6Onq8vP09fb3+Pn6/9oADAMBAAIRAxEAPwDIHhTUn1P7QupeZHKD9sndssyn+FfQH2rrLext0097OOBVhCBQC54wO1UrGGeNZp7oFNmOSc5Bqx9vjikLgTS/wgIp2j8K4bXLMe38M6TFdAGz81ixkLyfNgnk8mtb7JpkO4R6fAhVcnbEo/pTTLeSXigWLCErkt5bcU+8F9JDJ9mEFpBHETNdTYI2/Q85ptWAyLqSC3iZrO2CiQqWwuBRVD+0LPUmig0/UL2e3RiGdYAodh0wfSikFi7d+J2t9PaK2029vrmY4RpYWhiX0GTy2PyrlZdV8bW1zIS7W7HIMKuQFP0zXoLa+skLs3hrWCgPCmRCF9vQfjXK6hr1zK8hHhUjc+IWe8Xdgf3sdCatICPSD4wvRlvEJQ/xK4Jx7e9WtR0u/jjjm1PUzenO1AEwqn6DqKt2vim6tpIxD4RO0Jlt10O5q/c69rs0x+y+DrWNMZ3SXRx9afLcCHTrcRWYDpGH3E7kXAyepFFRJreuB4EufDtjtkYglZj1+tFRYdzennj+aNMYzgEVkTWcHnhzEA55ODjJooqExFiSYWcE1xLIXUJnYTk9a5/XPEutapfXFrbGG0sEhVl3oAznHTJ5/KiirTAl0/U7920ZbiNUTaE24wCQh7fhRRRWbeoH/9k=\"></td>\n",
       "    </tr>\n",
       "    <tr>\n",
       "      <th>308</th>\n",
       "      <td>sun</td>\n",
       "      <td>reed/img_x_280_y_85.png</td>\n",
       "      <td>reed</td>\n",
       "      <td>False</td>\n",
       "      <td><img src=\"data:image/jpeg;base64,/9j/4AAQSkZJRgABAQAAAQABAAD/2wBDAAgGBgcGBQgHBwcJCQgKDBQNDAsLDBkSEw8UHRofHh0aHBwgJC4nICIsIxwcKDcpLDAxNDQ0Hyc5PTgyPC4zNDL/2wBDAQkJCQwLDBgNDRgyIRwhMjIyMjIyMjIyMjIyMjIyMjIyMjIyMjIyMjIyMjIyMjIyMjIyMjIyMjIyMjIyMjIyMjL/wAARCAAoACgDASIAAhEBAxEB/8QAHwAAAQUBAQEBAQEAAAAAAAAAAAECAwQFBgcICQoL/8QAtRAAAgEDAwIEAwUFBAQAAAF9AQIDAAQRBRIhMUEGE1FhByJxFDKBkaEII0KxwRVS0fAkM2JyggkKFhcYGRolJicoKSo0NTY3ODk6Q0RFRkdISUpTVFVWV1hZWmNkZWZnaGlqc3R1dnd4eXqDhIWGh4iJipKTlJWWl5iZmqKjpKWmp6ipqrKztLW2t7i5usLDxMXGx8jJytLT1NXW19jZ2uHi4+Tl5ufo6erx8vP09fb3+Pn6/8QAHwEAAwEBAQEBAQEBAQAAAAAAAAECAwQFBgcICQoL/8QAtREAAgECBAQDBAcFBAQAAQJ3AAECAxEEBSExBhJBUQdhcRMiMoEIFEKRobHBCSMzUvAVYnLRChYkNOEl8RcYGRomJygpKjU2Nzg5OkNERUZHSElKU1RVVldYWVpjZGVmZ2hpanN0dXZ3eHl6goOEhYaHiImKkpOUlZaXmJmaoqOkpaanqKmqsrO0tba3uLm6wsPExcbHyMnK0tPU1dbX2Nna4uPk5ebn6Onq8vP09fb3+Pn6/9oADAMBAAIRAxEAPwDdt9G8P+HtV+1QfaY5W3eWhlZkj3ff259auXNgl7uR5nltHj+VJAGB/MVqNCZoyrEMB90OozVY+YLZgkZJCYX61gVYwYB4ettbbSrdIXvwu5R8p4/75rW1XTUudNmh8qOMCMbWC4PH+7614n4UvzaeIbO6urhziQAowG5vbHf869vR/s0UkUEc0bk7gMhvw5oloSYUtnfPcxSyERJt3bQwLY/CitQRXv2m5P7kw7doYkbgKKCy81/a7grXKoT0zwPzqaUymNRE4JbpVeOFZraNXVJFHUMgzVgOsO7Bzj7tAHz/AKVLCdRjebyYlhuR5pUbnTBwcele8W0sk8CMHVg6hlYc5Brybw/p0ninVb3T5hHbWcTMbmSKMCWQbvu57GvWNNgi0/T4LOFSYoVVQSfnIHvQ9SCprc01rpt1PtjVcZz7UVB4pZn0G624ZfL6g5ooLNBZTHKI+eelSwfvWwfc57ce9FFAHPeFLG+hvb0zafbQQ+YxiO075TuzubHaukk2sQFI5zjHPTrRRQKxma3dC00m8lnSJbdY/mTG0j8DRRRQK5//2Q==\"></td>\n",
       "    </tr>\n",
       "    <tr>\n",
       "      <th>97</th>\n",
       "      <td>tether</td>\n",
       "      <td>N35/img_x_713_y_346.png</td>\n",
       "      <td>N35</td>\n",
       "      <td>False</td>\n",
       "      <td><img src=\"data:image/jpeg;base64,/9j/4AAQSkZJRgABAQAAAQABAAD/2wBDAAgGBgcGBQgHBwcJCQgKDBQNDAsLDBkSEw8UHRofHh0aHBwgJC4nICIsIxwcKDcpLDAxNDQ0Hyc5PTgyPC4zNDL/2wBDAQkJCQwLDBgNDRgyIRwhMjIyMjIyMjIyMjIyMjIyMjIyMjIyMjIyMjIyMjIyMjIyMjIyMjIyMjIyMjIyMjIyMjL/wAARCAAoACgDASIAAhEBAxEB/8QAHwAAAQUBAQEBAQEAAAAAAAAAAAECAwQFBgcICQoL/8QAtRAAAgEDAwIEAwUFBAQAAAF9AQIDAAQRBRIhMUEGE1FhByJxFDKBkaEII0KxwRVS0fAkM2JyggkKFhcYGRolJicoKSo0NTY3ODk6Q0RFRkdISUpTVFVWV1hZWmNkZWZnaGlqc3R1dnd4eXqDhIWGh4iJipKTlJWWl5iZmqKjpKWmp6ipqrKztLW2t7i5usLDxMXGx8jJytLT1NXW19jZ2uHi4+Tl5ufo6erx8vP09fb3+Pn6/8QAHwEAAwEBAQEBAQEBAQAAAAAAAAECAwQFBgcICQoL/8QAtREAAgECBAQDBAcFBAQAAQJ3AAECAxEEBSExBhJBUQdhcRMiMoEIFEKRobHBCSMzUvAVYnLRChYkNOEl8RcYGRomJygpKjU2Nzg5OkNERUZHSElKU1RVVldYWVpjZGVmZ2hpanN0dXZ3eHl6goOEhYaHiImKkpOUlZaXmJmaoqOkpaanqKmqsrO0tba3uLm6wsPExcbHyMnK0tPU1dbX2Nna4uPk5ebn6Onq8vP09fb3+Pn6/9oADAMBAAIRAxEAPwDuZAP7WjlDNlbfADDHc9qsBSyYJ5PPNZ0VvdR6hBcXJhVUtijCIHaSGyMZ571X1C1165ZxY3tmERiWiaIhmXuN3bjvWAGT4qsbq4v9HmiuLaOC1vFmcyvjGM5A46kGultb+0vgwtbq3crk/u5VYjnuASa47U7HUmtLm3s9FaG+Lrsu4Z4514Ged7AjPPTFV/Dnhi+sNMgVdMKaiJTK91LIkchBGcYTcGUk9+fT3APRFLbVZAGIz8wPBNFVrU3csUa3cUcM7YDeU2VzwCeg96KAGxzPLp1tKcyyNbK4Xcdz5UHj8a80aG51S5An8UiC9kuZUaJMskchALANnsgHHrmu50Bft3hPRi5lRJ9OVSw65KAHB6j8Krf8IL4ehjhLWHyrF5YZncYzkls5+9z97r70AcJZ6C0ds8kfjO8w8S3XmIjbSd/lhm74GCCD3I4qVNAtXneCLxfdrPMXjIlj2srwkMvPqBu+ua61bPwlYzuIL62hmMxdk+1EbnYY+7uxj04680640Dw/Es107I8MQDO73JIUqOQTuzg5GT1PfNAFnwtd2Qu7qGHW47uCVUuUSdsOC+MnI9SAcDp+NFU/CK6Y2oyT2OlQ24t7dQbxdzeZl2bCk9gNv5Y6UUAaeiWM+k6baaEZ1kuLS0CiYP8AdYk/w9Dxis2bwXdalIW1TxDqMqgZCRlYVHtgDn60UUAVovhn4fgifaL2WSRg7P8AaADkdOlU9U8LeGNGaG71S8vrqJnGYDKGI9CQBuK+2cdaKKAO7iaG60oPaMPL2jy9gKgAA/w9u3FFFFAH/9k=\"></td>\n",
       "    </tr>\n",
       "    <tr>\n",
       "      <th>275</th>\n",
       "      <td>N35</td>\n",
       "      <td>mouth/img_x_491_y_293.png</td>\n",
       "      <td>mouth</td>\n",
       "      <td>False</td>\n",
       "      <td><img src=\"data:image/jpeg;base64,/9j/4AAQSkZJRgABAQAAAQABAAD/2wBDAAgGBgcGBQgHBwcJCQgKDBQNDAsLDBkSEw8UHRofHh0aHBwgJC4nICIsIxwcKDcpLDAxNDQ0Hyc5PTgyPC4zNDL/2wBDAQkJCQwLDBgNDRgyIRwhMjIyMjIyMjIyMjIyMjIyMjIyMjIyMjIyMjIyMjIyMjIyMjIyMjIyMjIyMjIyMjIyMjL/wAARCAAoACgDASIAAhEBAxEB/8QAHwAAAQUBAQEBAQEAAAAAAAAAAAECAwQFBgcICQoL/8QAtRAAAgEDAwIEAwUFBAQAAAF9AQIDAAQRBRIhMUEGE1FhByJxFDKBkaEII0KxwRVS0fAkM2JyggkKFhcYGRolJicoKSo0NTY3ODk6Q0RFRkdISUpTVFVWV1hZWmNkZWZnaGlqc3R1dnd4eXqDhIWGh4iJipKTlJWWl5iZmqKjpKWmp6ipqrKztLW2t7i5usLDxMXGx8jJytLT1NXW19jZ2uHi4+Tl5ufo6erx8vP09fb3+Pn6/8QAHwEAAwEBAQEBAQEBAQAAAAAAAAECAwQFBgcICQoL/8QAtREAAgECBAQDBAcFBAQAAQJ3AAECAxEEBSExBhJBUQdhcRMiMoEIFEKRobHBCSMzUvAVYnLRChYkNOEl8RcYGRomJygpKjU2Nzg5OkNERUZHSElKU1RVVldYWVpjZGVmZ2hpanN0dXZ3eHl6goOEhYaHiImKkpOUlZaXmJmaoqOkpaanqKmqsrO0tba3uLm6wsPExcbHyMnK0tPU1dbX2Nna4uPk5ebn6Onq8vP09fb3+Pn6/9oADAMBAAIRAxEAPwDskJaHOQTjkr0rA16NLm60bTWP/H1eozA9CiZkI/MAVuKxaLao5I5IFYt5Z6hqe+LTr/TV8l3EjtEzSQttBxw3BxWAEd8r23irRJbpRGz/AGmPI7BlUj9Vq3FGbDxDHuY+ReQlNx4BdfmX8SrNx/s1QtPDWoS3TS6p4gNyqndEsNqEA9Rv/wAasR6BY3eqmZ57wi2nJijmlyhYqBkDrxkjPTigDoGX94Cxz9KKCQWzjbnnB6iigCpeSXMcUywRmX5dyqj4J/A8GuSuFuruzuFvbTVoUn8vzIo8AkDhlymeCP8ACtXVNdl0+8Ea6Te3SYz5sEYdfpkVQHiO6ljDzaRf2sbFiC8DA47Z4pMBYovD9rZxwpoF55YG5RLHMOP72SOatRapcThV0zQ7pvLDLuuZRBGOeODkkenFVNL1u9e3iuJ49RWz/eZY2eD14IIOTx09etWF1vUJNOE9ro9+8gYiBHKKdnZnB5HHrQgNXSoNbjn8/Ury0VDuK2kSZEZP+2cfpRWS174rleBF0mKPdJtmN1dKymPOPlAPWimBRvrjxPp01rbT6rpcrTFme48oh8Zxwv3cZIGfU1TvvEGu20UlpY6jBJdxrlYzbpnk8A84z9KKKAJLTX/GTQA3MWnwTBQfMcklj6bRwKhn1/xK0fz6TcTSn78tvKGQDqcqOcUUUAXfCPjKS4sjPfNe315NKxW3giBSKLsCW4FFFFAH/9k=\"></td>\n",
       "    </tr>\n",
       "    <tr>\n",
       "      <th>331</th>\n",
       "      <td>cloth</td>\n",
       "      <td>reed/img_x_596_y_196.png</td>\n",
       "      <td>reed</td>\n",
       "      <td>False</td>\n",
       "      <td><img src=\"data:image/jpeg;base64,/9j/4AAQSkZJRgABAQAAAQABAAD/2wBDAAgGBgcGBQgHBwcJCQgKDBQNDAsLDBkSEw8UHRofHh0aHBwgJC4nICIsIxwcKDcpLDAxNDQ0Hyc5PTgyPC4zNDL/2wBDAQkJCQwLDBgNDRgyIRwhMjIyMjIyMjIyMjIyMjIyMjIyMjIyMjIyMjIyMjIyMjIyMjIyMjIyMjIyMjIyMjIyMjL/wAARCAAoACgDASIAAhEBAxEB/8QAHwAAAQUBAQEBAQEAAAAAAAAAAAECAwQFBgcICQoL/8QAtRAAAgEDAwIEAwUFBAQAAAF9AQIDAAQRBRIhMUEGE1FhByJxFDKBkaEII0KxwRVS0fAkM2JyggkKFhcYGRolJicoKSo0NTY3ODk6Q0RFRkdISUpTVFVWV1hZWmNkZWZnaGlqc3R1dnd4eXqDhIWGh4iJipKTlJWWl5iZmqKjpKWmp6ipqrKztLW2t7i5usLDxMXGx8jJytLT1NXW19jZ2uHi4+Tl5ufo6erx8vP09fb3+Pn6/8QAHwEAAwEBAQEBAQEBAQAAAAAAAAECAwQFBgcICQoL/8QAtREAAgECBAQDBAcFBAQAAQJ3AAECAxEEBSExBhJBUQdhcRMiMoEIFEKRobHBCSMzUvAVYnLRChYkNOEl8RcYGRomJygpKjU2Nzg5OkNERUZHSElKU1RVVldYWVpjZGVmZ2hpanN0dXZ3eHl6goOEhYaHiImKkpOUlZaXmJmaoqOkpaanqKmqsrO0tba3uLm6wsPExcbHyMnK0tPU1dbX2Nna4uPk5ebn6Onq8vP09fb3+Pn6/9oADAMBAAIRAxEAPwDptKvINR0+G5tpkmicZVl/l+eal1G4hsLOS8uGK29ujSSleu0dh7k4rL0dorCwtYVDlTBuDr/EG+b/ANmpniuRX8Eauq79xsnYbv8AZwawQEOj6peT2d5f6sRDDJF5yRq2BGhyFX645P1FT6BdwXbandW1x5sV1ceYBuzt+VV/pVTw3ciSZQzJvNnD8rd8hTn9ak8KwG2t/ECmRJAdblwy/ReKQGrGQI9h6sSBRSyR48xN2Nhzj1z/APqoqWBz/hGSX/hGkt5/9bZyPbt9VOP5YqTxFFL/AMIvqzxOqk2cgO7vwKrW7ppvji5s5n2QapH50Lf9NVyGH/oNa2rsE0HVd8DLF9gmBI7MFPP40wM3w2tsqadPNKhnm05Ldgv+6K1tDjEceoyBcA6rcgH1xsqv4Ys7S38MaWTEvmPZxuWHf5ARVrw+0cmm3cwlwJr6WXH+8qN/WgDQxuZm9aKhMscZK+d96imgOc/4V9pl1ptrBdXN47RPvDm5wx+tX7u3tfDXhrVSlxezRyxeUqyTeYQW+UbfT738qKKYGtpmlWunadZ6egyLeBY3SXqDxzUPhiMM2pN50c0bXQUMvUYReP1oooA53XPFk1hNdWfly2JN0RBczW52lOMYI6d+e3oaKKKAP//Z\"></td>\n",
       "    </tr>\n",
       "    <tr>\n",
       "      <th>430</th>\n",
       "      <td>cobra</td>\n",
       "      <td>viper/img_x_632_y_176.png</td>\n",
       "      <td>viper</td>\n",
       "      <td>False</td>\n",
       "      <td><img src=\"data:image/jpeg;base64,/9j/4AAQSkZJRgABAQAAAQABAAD/2wBDAAgGBgcGBQgHBwcJCQgKDBQNDAsLDBkSEw8UHRofHh0aHBwgJC4nICIsIxwcKDcpLDAxNDQ0Hyc5PTgyPC4zNDL/2wBDAQkJCQwLDBgNDRgyIRwhMjIyMjIyMjIyMjIyMjIyMjIyMjIyMjIyMjIyMjIyMjIyMjIyMjIyMjIyMjIyMjIyMjL/wAARCAAoACgDASIAAhEBAxEB/8QAHwAAAQUBAQEBAQEAAAAAAAAAAAECAwQFBgcICQoL/8QAtRAAAgEDAwIEAwUFBAQAAAF9AQIDAAQRBRIhMUEGE1FhByJxFDKBkaEII0KxwRVS0fAkM2JyggkKFhcYGRolJicoKSo0NTY3ODk6Q0RFRkdISUpTVFVWV1hZWmNkZWZnaGlqc3R1dnd4eXqDhIWGh4iJipKTlJWWl5iZmqKjpKWmp6ipqrKztLW2t7i5usLDxMXGx8jJytLT1NXW19jZ2uHi4+Tl5ufo6erx8vP09fb3+Pn6/8QAHwEAAwEBAQEBAQEBAQAAAAAAAAECAwQFBgcICQoL/8QAtREAAgECBAQDBAcFBAQAAQJ3AAECAxEEBSExBhJBUQdhcRMiMoEIFEKRobHBCSMzUvAVYnLRChYkNOEl8RcYGRomJygpKjU2Nzg5OkNERUZHSElKU1RVVldYWVpjZGVmZ2hpanN0dXZ3eHl6goOEhYaHiImKkpOUlZaXmJmaoqOkpaanqKmqsrO0tba3uLm6wsPExcbHyMnK0tPU1dbX2Nna4uPk5ebn6Onq8vP09fb3+Pn6/9oADAMBAAIRAxEAPwDt5IvNlV/lAU9di7vbJxmmSFbaVnSTZIRuZgvLY75A/nRKkvlhVIKjGDnBPrmsnxB4ftddkgkna7AhBGYbhkRs4znaPasCmWhraeUGZ5QjEjezDg+vIFOhM97a+bpuoxtLk4kIDq2OxFc23gPRlWITaDJcx7sBob6RyPUsGbgfStSLS5NB0RrXwxFBbuJS/lz7mV/bOePr09aBJGlPHeTQiR5gLlVy/kqqK5Hrx/nNFZJ8QDUbuCxtdTs0n2s91ZRAyPuGOPMHy4GT9aKChbjxba2+YtLgvtYuOcpbQEIv1kYYx9M9O1Yd7Y+L9YR559StdLiIytpbx+ay5/vHOM/Su2mv0kgmig37lXB/ukH0rjfFTa59osU0zUZ7GF3RHEZxkE9aLgJb+G/EkVvC9t4oCvkAK+nAZ9Rnd0qyvhvxNKZoNU8WlrGQbZbe3tyrsvdQew+lZup6Te2lnLPB4p1i6mgIkKNNgA5PXjkYFdH4WuhqugQalGzs05b5nPzcHHOPpQBejtrHTdOaLT4xbW/keUFWIISB7gZJ96KlltoI7eREyWClizknJopXAdNsuYCyl0+UnC4rB1W6tP7S0zztStomEikrJMowo6nr9KKKEBia1rAv4NetIL2KfyrJpRJA6kAbvUd+asfDu4e38E24DrIu9l75HP8A9eiimwOtuJCLIqrAKUbk9SeKKKKkD//Z\"></td>\n",
       "    </tr>\n",
       "    <tr>\n",
       "      <th>270</th>\n",
       "      <td>basket</td>\n",
       "      <td>mouth/img_x_403_y_666.png</td>\n",
       "      <td>mouth</td>\n",
       "      <td>False</td>\n",
       "      <td><img src=\"data:image/jpeg;base64,/9j/4AAQSkZJRgABAQAAAQABAAD/2wBDAAgGBgcGBQgHBwcJCQgKDBQNDAsLDBkSEw8UHRofHh0aHBwgJC4nICIsIxwcKDcpLDAxNDQ0Hyc5PTgyPC4zNDL/2wBDAQkJCQwLDBgNDRgyIRwhMjIyMjIyMjIyMjIyMjIyMjIyMjIyMjIyMjIyMjIyMjIyMjIyMjIyMjIyMjIyMjIyMjL/wAARCAAoACgDASIAAhEBAxEB/8QAHwAAAQUBAQEBAQEAAAAAAAAAAAECAwQFBgcICQoL/8QAtRAAAgEDAwIEAwUFBAQAAAF9AQIDAAQRBRIhMUEGE1FhByJxFDKBkaEII0KxwRVS0fAkM2JyggkKFhcYGRolJicoKSo0NTY3ODk6Q0RFRkdISUpTVFVWV1hZWmNkZWZnaGlqc3R1dnd4eXqDhIWGh4iJipKTlJWWl5iZmqKjpKWmp6ipqrKztLW2t7i5usLDxMXGx8jJytLT1NXW19jZ2uHi4+Tl5ufo6erx8vP09fb3+Pn6/8QAHwEAAwEBAQEBAQEBAQAAAAAAAAECAwQFBgcICQoL/8QAtREAAgECBAQDBAcFBAQAAQJ3AAECAxEEBSExBhJBUQdhcRMiMoEIFEKRobHBCSMzUvAVYnLRChYkNOEl8RcYGRomJygpKjU2Nzg5OkNERUZHSElKU1RVVldYWVpjZGVmZ2hpanN0dXZ3eHl6goOEhYaHiImKkpOUlZaXmJmaoqOkpaanqKmqsrO0tba3uLm6wsPExcbHyMnK0tPU1dbX2Nna4uPk5ebn6Onq8vP09fb3+Pn6/9oADAMBAAIRAxEAPwDFntdcvoQkmqwxQFsFYohv256EkdfpTLvSn0nzrlnu7u3kTIkjYO8bnpuTjjOcY/GtwTxW0UbzyoAWEQAOdzHpx254rP164keGXSwhUlldJkyyhl7Edua5gMDVvF1tfWR0u00+6he6CxLJd9OT82fXmtRfDljpl3bXMz/aLmBFxuzsVgADtXpj8Kx5NLu9Z1W102Z4Le1LI8lw7ABSB9xeeDXdyKAsm4L5iKMLweBwaqWwFX7QHgiKjBkCgAHjqaKSVJI5lTbgo24Adj1xRUlGLq2grf2bf2cXS6LCUkyYGQOGFcjdrqUbPHrUmqzJu4eAgqfevQYmUjggOeuR2qC81PTLVhG13bxvn5g0gI/LNESTiPtumyRrF58whAG9GsVZyQOu7HB96WOzlmJOiHU2DfLsucqhX69cV2UWp2Uqk29xaOpbH7qQKPxFJemdFhvLKU74GxJEzAJKmOR7H09RVAW7Ce7jtLYX0ahxjzNpzt5wMHqaKzNC1KXVb+S+VWjsNvlwxuB87DqTRUgN1M6ndELEIrXJ2sT8xX2qCPSJ5m8u4uTKQuxZEiUYx+HPHrRRQBHf+FrGaExwxEyFjtlQANn1PcmrNhokmnPH/aE8k7RqDGrqADx1Pr+NFFO4GmjrGY1aJUjYKQsY6ZNFFFID/9k=\"></td>\n",
       "    </tr>\n",
       "    <tr>\n",
       "      <th>142</th>\n",
       "      <td>mouth</td>\n",
       "      <td>basket/img_x_749_y_328.png</td>\n",
       "      <td>basket</td>\n",
       "      <td>False</td>\n",
       "      <td><img src=\"data:image/jpeg;base64,/9j/4AAQSkZJRgABAQAAAQABAAD/2wBDAAgGBgcGBQgHBwcJCQgKDBQNDAsLDBkSEw8UHRofHh0aHBwgJC4nICIsIxwcKDcpLDAxNDQ0Hyc5PTgyPC4zNDL/2wBDAQkJCQwLDBgNDRgyIRwhMjIyMjIyMjIyMjIyMjIyMjIyMjIyMjIyMjIyMjIyMjIyMjIyMjIyMjIyMjIyMjIyMjL/wAARCAAoACgDASIAAhEBAxEB/8QAHwAAAQUBAQEBAQEAAAAAAAAAAAECAwQFBgcICQoL/8QAtRAAAgEDAwIEAwUFBAQAAAF9AQIDAAQRBRIhMUEGE1FhByJxFDKBkaEII0KxwRVS0fAkM2JyggkKFhcYGRolJicoKSo0NTY3ODk6Q0RFRkdISUpTVFVWV1hZWmNkZWZnaGlqc3R1dnd4eXqDhIWGh4iJipKTlJWWl5iZmqKjpKWmp6ipqrKztLW2t7i5usLDxMXGx8jJytLT1NXW19jZ2uHi4+Tl5ufo6erx8vP09fb3+Pn6/8QAHwEAAwEBAQEBAQEBAQAAAAAAAAECAwQFBgcICQoL/8QAtREAAgECBAQDBAcFBAQAAQJ3AAECAxEEBSExBhJBUQdhcRMiMoEIFEKRobHBCSMzUvAVYnLRChYkNOEl8RcYGRomJygpKjU2Nzg5OkNERUZHSElKU1RVVldYWVpjZGVmZ2hpanN0dXZ3eHl6goOEhYaHiImKkpOUlZaXmJmaoqOkpaanqKmqsrO0tba3uLm6wsPExcbHyMnK0tPU1dbX2Nna4uPk5ebn6Onq8vP09fb3+Pn6/9oADAMBAAIRAxEAPwCfxYsjeA7zZvLnT1yQe2xSfzpdIikl0i0v7ORDPLYrGgc/IrKoxkDnv9K2bryYrForrYbURhZVc8bNo4I6YqhpV7o9vaLLZtFHauvysiErt6Y4GO3SuYDmby216SBJNSsbma97tA8c0RHoEyAPXpnmiHw9p88Zj/4Re7Z35Z5ZAoLf3sBsD/61dL/b2kzuCtzja+Ayx7QD75AOKSLxLosly1qt9GZF68YWgCnoPhW50u4eRZywkxtjeQOE5HHUiit201S01AyJZyvN5PLEcYOR0ooAzfFV68TyWh2mMIryoFz5oYhVUfkc15vrnh3VdEvTbx3Nw2jOcxOgLCPJ5XaOmDnnpXstxawyuJJIY3kQkKzKCR9DUhGUIbkMOc96aA8ds47W2haKDfPcMuA0nO73B/oK0z4ah1exieKTF2sgyvl4AJ6g+orq9YutF0a6s4Tp9vJe3kuyGNIlBz3Y8cV0gto4ZSiKuVABZVwGPXj86GBjaDYDRbTyIyskwG13Vcbuv6UVrxIFlzj2/Uf40UgJJDmV8dNx/nSclTjk0UU0B5l4mW5PxO0ZguVWAMfYBmzXp7SLJJ5kbMVbB5PtRRTATIDY+n86KKKAP//Z\"></td>\n",
       "    </tr>\n",
       "    <tr>\n",
       "      <th>412</th>\n",
       "      <td>N35</td>\n",
       "      <td>viper/img_x_186_y_436.png</td>\n",
       "      <td>viper</td>\n",
       "      <td>False</td>\n",
       "      <td><img src=\"data:image/jpeg;base64,/9j/4AAQSkZJRgABAQAAAQABAAD/2wBDAAgGBgcGBQgHBwcJCQgKDBQNDAsLDBkSEw8UHRofHh0aHBwgJC4nICIsIxwcKDcpLDAxNDQ0Hyc5PTgyPC4zNDL/2wBDAQkJCQwLDBgNDRgyIRwhMjIyMjIyMjIyMjIyMjIyMjIyMjIyMjIyMjIyMjIyMjIyMjIyMjIyMjIyMjIyMjIyMjL/wAARCAAoACgDASIAAhEBAxEB/8QAHwAAAQUBAQEBAQEAAAAAAAAAAAECAwQFBgcICQoL/8QAtRAAAgEDAwIEAwUFBAQAAAF9AQIDAAQRBRIhMUEGE1FhByJxFDKBkaEII0KxwRVS0fAkM2JyggkKFhcYGRolJicoKSo0NTY3ODk6Q0RFRkdISUpTVFVWV1hZWmNkZWZnaGlqc3R1dnd4eXqDhIWGh4iJipKTlJWWl5iZmqKjpKWmp6ipqrKztLW2t7i5usLDxMXGx8jJytLT1NXW19jZ2uHi4+Tl5ufo6erx8vP09fb3+Pn6/8QAHwEAAwEBAQEBAQEBAQAAAAAAAAECAwQFBgcICQoL/8QAtREAAgECBAQDBAcFBAQAAQJ3AAECAxEEBSExBhJBUQdhcRMiMoEIFEKRobHBCSMzUvAVYnLRChYkNOEl8RcYGRomJygpKjU2Nzg5OkNERUZHSElKU1RVVldYWVpjZGVmZ2hpanN0dXZ3eHl6goOEhYaHiImKkpOUlZaXmJmaoqOkpaanqKmqsrO0tba3uLm6wsPExcbHyMnK0tPU1dbX2Nna4uPk5ebn6Onq8vP09fb3+Pn6/9oADAMBAAIRAxEAPwDtLaXe2oyc83jpx1+6lLEvJUNIpb+IgkD34ptnsd9Sx1+2t/6Liqy6dKwA86TwRqS2scD6layeQGRWkRhkMSxHPtXfaahstNt7e7Iknij2v5f3c9v0odP9rbz1qteXI02zWeXIiEv76Qfwg8Z+gzQA7UnT+1NIUR4U3svP/bB6KzdR1FftujXUvmxRJczu24ZziBzk/UZI9qKALQvbfSrS7nvSYw16yLhdxPyr2qtNrV9dEDS7N44W4M06D9Aa0rONy16xkyPtsnH/AAFKnnZYbeSVhlY1LkeoAzigDGMOvhlBaGQLzt81Y8/khqS1069u5ZW1gQyRj/Vw+Zv2foP5Vk+H9V1GbULF72881NUtWuYo/wDnkRtIX/vljXXYBK5+9kfzoAyr+3CaxoapGQBNPhR0/wBRJRVjUBGdS0p/4lu2x/34kooAi33xuNRjs7fcUn+9vB58uP1qvLD4iuLXyLiXTYxJlH8vO/aeD046UUUAUrXQRBbada22q7JdNMiLLjKkEFdv4Yq7JZar9lmgj1KKR3XAIjP9GoooArWdjqtrPpUWpXMcwWbMTDcZB+5fOSeG/IUUUUAf/9k=\"></td>\n",
       "    </tr>\n",
       "    <tr>\n",
       "      <th>240</th>\n",
       "      <td>bird</td>\n",
       "      <td>cobra/img_x_494_y_23.png</td>\n",
       "      <td>cobra</td>\n",
       "      <td>False</td>\n",
       "      <td><img src=\"data:image/jpeg;base64,/9j/4AAQSkZJRgABAQAAAQABAAD/2wBDAAgGBgcGBQgHBwcJCQgKDBQNDAsLDBkSEw8UHRofHh0aHBwgJC4nICIsIxwcKDcpLDAxNDQ0Hyc5PTgyPC4zNDL/2wBDAQkJCQwLDBgNDRgyIRwhMjIyMjIyMjIyMjIyMjIyMjIyMjIyMjIyMjIyMjIyMjIyMjIyMjIyMjIyMjIyMjIyMjL/wAARCAAoACgDASIAAhEBAxEB/8QAHwAAAQUBAQEBAQEAAAAAAAAAAAECAwQFBgcICQoL/8QAtRAAAgEDAwIEAwUFBAQAAAF9AQIDAAQRBRIhMUEGE1FhByJxFDKBkaEII0KxwRVS0fAkM2JyggkKFhcYGRolJicoKSo0NTY3ODk6Q0RFRkdISUpTVFVWV1hZWmNkZWZnaGlqc3R1dnd4eXqDhIWGh4iJipKTlJWWl5iZmqKjpKWmp6ipqrKztLW2t7i5usLDxMXGx8jJytLT1NXW19jZ2uHi4+Tl5ufo6erx8vP09fb3+Pn6/8QAHwEAAwEBAQEBAQEBAQAAAAAAAAECAwQFBgcICQoL/8QAtREAAgECBAQDBAcFBAQAAQJ3AAECAxEEBSExBhJBUQdhcRMiMoEIFEKRobHBCSMzUvAVYnLRChYkNOEl8RcYGRomJygpKjU2Nzg5OkNERUZHSElKU1RVVldYWVpjZGVmZ2hpanN0dXZ3eHl6goOEhYaHiImKkpOUlZaXmJmaoqOkpaanqKmqsrO0tba3uLm6wsPExcbHyMnK0tPU1dbX2Nna4uPk5ebn6Onq8vP09fb3+Pn6/9oADAMBAAIRAxEAPwC1pmrWt1bTPJHHElp88ZI3KqDglfQimX1nczazFcrOWltpIpQQoaOWJgQR78EHPY1Qsntb7ULyJrkyo0Zjnm8oIFHQZwccfrWr4amazsksppGlS23Q29w5GDGTxu5rnaKON8ZeC9RuEtrnT2S7t7dXyAMSBuo3HPPQc8H2rhbqW7ti0N7ayrDcfPOHUjJ9Vz0I6V7nfS2enveo1tdzC4GX+xwlvlIx24PsRjFea+LvtKyWlrdWctzBHbyS2zXkTRyY44Yg/NgD8sVUJCaPP7q3ETK6HdC/3TjBH196K3L+1AlhvLeycWl2hkeCP5lU56A8/WitOYR6brfh2PTLS8u31BYUddrumSjBOACPUgDvXE6Bf6lO0psrNZZTGXzcudjDPGPU/lXZfEBbu6vbbQ0uJBaXF4qvHxt29c56j6Vd1e7k0LT7S30m0tJlf5YwcfIeo5/OsimY2l3Hja5luHtbbTklhhDTWzOyP5Z9MEdfrTLt7y7uxBfeGr6K8FtJDCZL4yRxhhlnG4E0yHWUEs19LfxTXk8RjVJJQg4PIb+77dc1ox+KtNv7fY0pgukj2IkcgcOxGTtOOnc+hNK9ybnJWutT+F5bSxidLu2BLxKSI2GeGVyw+XByehzRXVjUNDGkWVvq9ray72DTHcJWRdpwxOAcZ79qKYGRrGsXJ+JbvLA5+yGT7NGq58xguA3vj0rhWvWc+bNdXgu1Znbc2VLDuP14ooqolMtw/ZpIYZbuaxLuRmMnDY6jd8p//VW3Y2OlOn2g67plq0e6RY1RnKnOMKAB6Z/GiinJaEmhqr6JeQixgsdl47LNHfeSy5PTD5+8renHNFFFQB//2Q==\"></td>\n",
       "    </tr>\n",
       "    <tr>\n",
       "      <th>126</th>\n",
       "      <td>cobra</td>\n",
       "      <td>basket/img_x_225_y_35.png</td>\n",
       "      <td>basket</td>\n",
       "      <td>False</td>\n",
       "      <td><img src=\"data:image/jpeg;base64,/9j/4AAQSkZJRgABAQAAAQABAAD/2wBDAAgGBgcGBQgHBwcJCQgKDBQNDAsLDBkSEw8UHRofHh0aHBwgJC4nICIsIxwcKDcpLDAxNDQ0Hyc5PTgyPC4zNDL/2wBDAQkJCQwLDBgNDRgyIRwhMjIyMjIyMjIyMjIyMjIyMjIyMjIyMjIyMjIyMjIyMjIyMjIyMjIyMjIyMjIyMjIyMjL/wAARCAAoACgDASIAAhEBAxEB/8QAHwAAAQUBAQEBAQEAAAAAAAAAAAECAwQFBgcICQoL/8QAtRAAAgEDAwIEAwUFBAQAAAF9AQIDAAQRBRIhMUEGE1FhByJxFDKBkaEII0KxwRVS0fAkM2JyggkKFhcYGRolJicoKSo0NTY3ODk6Q0RFRkdISUpTVFVWV1hZWmNkZWZnaGlqc3R1dnd4eXqDhIWGh4iJipKTlJWWl5iZmqKjpKWmp6ipqrKztLW2t7i5usLDxMXGx8jJytLT1NXW19jZ2uHi4+Tl5ufo6erx8vP09fb3+Pn6/8QAHwEAAwEBAQEBAQEBAQAAAAAAAAECAwQFBgcICQoL/8QAtREAAgECBAQDBAcFBAQAAQJ3AAECAxEEBSExBhJBUQdhcRMiMoEIFEKRobHBCSMzUvAVYnLRChYkNOEl8RcYGRomJygpKjU2Nzg5OkNERUZHSElKU1RVVldYWVpjZGVmZ2hpanN0dXZ3eHl6goOEhYaHiImKkpOUlZaXmJmaoqOkpaanqKmqsrO0tba3uLm6wsPExcbHyMnK0tPU1dbX2Nna4uPk5ebn6Onq8vP09fb3+Pn6/9oADAMBAAIRAxEAPwDXvJ2tLuK3ypLgBsP7VQn/AHVpNG7FIZI3gl2YJkRgcqPfvx6VV8Tahp+jW9tfXdjLciU4Z4AP3Z9+R17Vlp4i02W8UpaXEUaklSTzjb7E+p/Wucs4LUtOurW6fRbhpTArDyblwVXygThiPdex6V7boKW0ei28Fs4mtlhVUfHVcccfSuefW9K1a1WC4RnhHLK5IyM/41s2t7ZWmkXE9q5WCNSwSQnjv1P4/pTvfQRuF1XymDDI9Vz1BH9KK5jwp4utvEB5ha1myf8AR2ckuvGGX8yPqDRRa2gzRn0uC9iuLS5iMlvclQY04b5XyGHbIya4fVdGk0y5laLMtm6jyZd21/fK9j9K9KkVzAkLj7rnP1z/APqrE8U6jLoGlW9+3+rkvo7VVwCBuViW5PYAH6gCgDj0k0dNORr3UWjmBBES7i5B6AKAc8g9s+9a9zb6l4piFn9gm07QZdpkklG24lUAjCKc4UnGc1nav4p8Q/202l2FmHlkQSJtQY2fwPxnhhz+NdX4U1yfWtD097qJFuWMiSKvQMHI/pQBjSeGb2K6gn0lIrWKCGKJQjsGBR9xYnaclgSCCRnv2orrDKElVZG+ZMgA/UUUmA8zyNsRmyFbLMTyTXOeOTa3lroenXRJFxqvmsrtx5ccRz17fPRRSQDZLuOx+L1rZ27IltcaNGquHyBtRnHI6Zxj8apaTaNpeu65DY7pTaXh2RxzNjZLh1IXp3PNFFUB0EoYnzJXLXBQlgex5PH6UUUVIH//2Q==\"></td>\n",
       "    </tr>\n",
       "    <tr>\n",
       "      <th>282</th>\n",
       "      <td>viper</td>\n",
       "      <td>mouth/img_x_625_y_302.png</td>\n",
       "      <td>mouth</td>\n",
       "      <td>False</td>\n",
       "      <td><img src=\"data:image/jpeg;base64,/9j/4AAQSkZJRgABAQAAAQABAAD/2wBDAAgGBgcGBQgHBwcJCQgKDBQNDAsLDBkSEw8UHRofHh0aHBwgJC4nICIsIxwcKDcpLDAxNDQ0Hyc5PTgyPC4zNDL/2wBDAQkJCQwLDBgNDRgyIRwhMjIyMjIyMjIyMjIyMjIyMjIyMjIyMjIyMjIyMjIyMjIyMjIyMjIyMjIyMjIyMjIyMjL/wAARCAAoACgDASIAAhEBAxEB/8QAHwAAAQUBAQEBAQEAAAAAAAAAAAECAwQFBgcICQoL/8QAtRAAAgEDAwIEAwUFBAQAAAF9AQIDAAQRBRIhMUEGE1FhByJxFDKBkaEII0KxwRVS0fAkM2JyggkKFhcYGRolJicoKSo0NTY3ODk6Q0RFRkdISUpTVFVWV1hZWmNkZWZnaGlqc3R1dnd4eXqDhIWGh4iJipKTlJWWl5iZmqKjpKWmp6ipqrKztLW2t7i5usLDxMXGx8jJytLT1NXW19jZ2uHi4+Tl5ufo6erx8vP09fb3+Pn6/8QAHwEAAwEBAQEBAQEBAQAAAAAAAAECAwQFBgcICQoL/8QAtREAAgECBAQDBAcFBAQAAQJ3AAECAxEEBSExBhJBUQdhcRMiMoEIFEKRobHBCSMzUvAVYnLRChYkNOEl8RcYGRomJygpKjU2Nzg5OkNERUZHSElKU1RVVldYWVpjZGVmZ2hpanN0dXZ3eHl6goOEhYaHiImKkpOUlZaXmJmaoqOkpaanqKmqsrO0tba3uLm6wsPExcbHyMnK0tPU1dbX2Nna4uPk5ebn6Onq8vP09fb3+Pn6/9oADAMBAAIRAxEAPwDXsIMafbEsf9Uhz/wEVdijOSeoHesO7vo7DRdOnurqSC2aCMPt2cnaCBggkk+gx9adHdatq0XnR2sNjasMRvermQn/AK5rjaMY4Y5/DFcxZoTT+XIFRlO7PQjt1rD1i/mEzaNpGJ9WnGx2b/V2yMCGZj06dBnNR6hYX8Umm2+oay8dtd3DJPJbRJDgBcqnBzyc/NkkDI71d8NQxadDdW07RDUTIXvGBysqn7hX/YwAAOTkHPrQBag02PTND0vTI2LrbzQrubqxG7J/M0VPqu8GylU9b6HI9Fw3+FFAENvFaSaZpl1dRwuttAkiNOOIzsHzL2B+tLe65ZwWEV4BLe+ccRpZKZCzZ7kZA/E1YtYom0a2SRVMDWyLJkcFdg4OeMVzfl+HLJEfTrO+uZI5NjQ6U7gZPYncFHX0oAui41C/kSV/DUSD7q+bMjPnPuSB1PerWoa3Z6DHjUIIxLuCLbxMvmtz0Cj73bpWFHo91KVjl0GSIKzbYRqrFz3BbGBnn+92qddQ03w6Y2vtESxnlfaxt9kk49CcMWI/HtQB0F+yPHpzxxMA17C21l2lRhuCPWirNwdq2TBWYvdRMdwA67ug7fjzRQAyyyumWqkEH7PGDkcfcHaqV3o+m30Lwz20MSOcyMmImIHfeDkUUUAYMWn6Y8oj064ZrU5Zd+oyP83T+FuOn/1q1fDb6aVubW3sbezvbU/vYz+8cj++GblgTnrzxRRTsBtai2BaszDeb6EHJ6kg0UUUWA//2Q==\"></td>\n",
       "    </tr>\n",
       "    <tr>\n",
       "      <th>39</th>\n",
       "      <td>viper</td>\n",
       "      <td>N35/img_x_309_y_248.png</td>\n",
       "      <td>N35</td>\n",
       "      <td>False</td>\n",
       "      <td><img src=\"data:image/jpeg;base64,/9j/4AAQSkZJRgABAQAAAQABAAD/2wBDAAgGBgcGBQgHBwcJCQgKDBQNDAsLDBkSEw8UHRofHh0aHBwgJC4nICIsIxwcKDcpLDAxNDQ0Hyc5PTgyPC4zNDL/2wBDAQkJCQwLDBgNDRgyIRwhMjIyMjIyMjIyMjIyMjIyMjIyMjIyMjIyMjIyMjIyMjIyMjIyMjIyMjIyMjIyMjIyMjL/wAARCAAoACgDASIAAhEBAxEB/8QAHwAAAQUBAQEBAQEAAAAAAAAAAAECAwQFBgcICQoL/8QAtRAAAgEDAwIEAwUFBAQAAAF9AQIDAAQRBRIhMUEGE1FhByJxFDKBkaEII0KxwRVS0fAkM2JyggkKFhcYGRolJicoKSo0NTY3ODk6Q0RFRkdISUpTVFVWV1hZWmNkZWZnaGlqc3R1dnd4eXqDhIWGh4iJipKTlJWWl5iZmqKjpKWmp6ipqrKztLW2t7i5usLDxMXGx8jJytLT1NXW19jZ2uHi4+Tl5ufo6erx8vP09fb3+Pn6/8QAHwEAAwEBAQEBAQEBAQAAAAAAAAECAwQFBgcICQoL/8QAtREAAgECBAQDBAcFBAQAAQJ3AAECAxEEBSExBhJBUQdhcRMiMoEIFEKRobHBCSMzUvAVYnLRChYkNOEl8RcYGRomJygpKjU2Nzg5OkNERUZHSElKU1RVVldYWVpjZGVmZ2hpanN0dXZ3eHl6goOEhYaHiImKkpOUlZaXmJmaoqOkpaanqKmqsrO0tba3uLm6wsPExcbHyMnK0tPU1dbX2Nna4uPk5ebn6Onq8vP09fb3+Pn6/9oADAMBAAIRAxEAPwDL8Srd6p43W3u7EvaW1sTbpKD5UjdzkDvwPbFaOgeGLkX/APaOpJFGoXbFBETsRCMEEdz710cuowRss0h2Qpkn5ScjuQAeT7Cs628RNe4m06OBbfn9/d3AU49RGASB9cH2rnuwKkXhm50fxHPqHhyG0FvJbeSbZztAPduc9vpWdpOh+LNHlh06HWrG0glkd4LWTJ4zubB9Bmtm78W2tlJGh1DTL4bv34ilVJI1xnIB6/TisSS61jxzNG2lPBYadZy7opZTvkd8A9F6DnGMmmBteMpzL4P1WwlkjkvIlhWUxnI5kX/9f4iiszxXaWej+E9RmiZUmllhlm+ctuO4Z6+6n86KAK8OoWsJeZGtbTY5V4zKRiLaBuI/iy/y9f5UL4lj0y2VbddHhjJj3Ik2DksRL0AzjAGfaqdrrN7qTpPpeg2otJlKp5lt5rMoP3uwxnPHqKiu73xJBGsB0KxijIOxhbjdgnk43dzmgB7eNlj1Ke7j060uJ5kZBFuyA4PB4HOVAqxN8Q9Tnt08izt4ZRlXRo2BDP8Ac2gdV4PNV0uvEpuhNDp1r5hKDznt0GMeg356fzovr7xDLbu97dzafMrnyRDFGqOB0yc5B6UAZWr65c61pd1a3RTzpXhaNDEy4+bGOepzk/jRXVav/aT+DrObUEja8nuoFllxzguOQSOKKVwGx+EvEWl262+n6zCttHkRqwaNlBOccZBHPWs2703xRAAt3fw3IVflYXBUgZPHAH50UUXA1NNfVzbCJIYVYoQZGvnJ/LbimP4XuLpJVubWzIbkl7o4ZvU5Xt1ooouBW15bbTvAZtrbUHvmsryAyTby2W3gkZ9qKKKAP//Z\"></td>\n",
       "    </tr>\n",
       "    <tr>\n",
       "      <th>231</th>\n",
       "      <td>N35</td>\n",
       "      <td>cobra/img_x_201_y_541.png</td>\n",
       "      <td>cobra</td>\n",
       "      <td>False</td>\n",
       "      <td><img src=\"data:image/jpeg;base64,/9j/4AAQSkZJRgABAQAAAQABAAD/2wBDAAgGBgcGBQgHBwcJCQgKDBQNDAsLDBkSEw8UHRofHh0aHBwgJC4nICIsIxwcKDcpLDAxNDQ0Hyc5PTgyPC4zNDL/2wBDAQkJCQwLDBgNDRgyIRwhMjIyMjIyMjIyMjIyMjIyMjIyMjIyMjIyMjIyMjIyMjIyMjIyMjIyMjIyMjIyMjIyMjL/wAARCAAoACgDASIAAhEBAxEB/8QAHwAAAQUBAQEBAQEAAAAAAAAAAAECAwQFBgcICQoL/8QAtRAAAgEDAwIEAwUFBAQAAAF9AQIDAAQRBRIhMUEGE1FhByJxFDKBkaEII0KxwRVS0fAkM2JyggkKFhcYGRolJicoKSo0NTY3ODk6Q0RFRkdISUpTVFVWV1hZWmNkZWZnaGlqc3R1dnd4eXqDhIWGh4iJipKTlJWWl5iZmqKjpKWmp6ipqrKztLW2t7i5usLDxMXGx8jJytLT1NXW19jZ2uHi4+Tl5ufo6erx8vP09fb3+Pn6/8QAHwEAAwEBAQEBAQEBAQAAAAAAAAECAwQFBgcICQoL/8QAtREAAgECBAQDBAcFBAQAAQJ3AAECAxEEBSExBhJBUQdhcRMiMoEIFEKRobHBCSMzUvAVYnLRChYkNOEl8RcYGRomJygpKjU2Nzg5OkNERUZHSElKU1RVVldYWVpjZGVmZ2hpanN0dXZ3eHl6goOEhYaHiImKkpOUlZaXmJmaoqOkpaanqKmqsrO0tba3uLm6wsPExcbHyMnK0tPU1dbX2Nna4uPk5ebn6Onq8vP09fb3+Pn6/9oADAMBAAIRAxEAPwDsBIN2NyFcncw7ntzVPUdSstNjV725WAOcKGOGY/7I6k1Bc2d/cTyt/a8lpEx4W3iVWx7s2ait/Dem2l619i4uLxk2tcTyGRzntznA+mMVgWOttchnVZo4b6SDqHFuxB/Sqd/rSxNZPZm8vbj5h9ijiKmYH+IkgBQPfFaSafas7RSxR+WEG3cScn8/51j32sR6HeR6RYafcXlxKgmEYfKRKTgNk8gfSgCS2+1/2l4fmv8A93cTajLIUxxEDC42D2/rRV6VlfV/DKlArPcSuVXLYIhY4/8AHh+dFAFjUdRt9L0y61C6cpDbDLkdc8cD35Fc9pk/im7mu9VWSC3S8A8mymTzTEvQNnP3zUvjeN7vRdJt8ZFzqUELxY5PzEkY78KK0vE+sQaNp8l1NFulZtsMCZHnscBVGORQBmxSeI/tuz7dalCCdwsshWHGDhjjn2qxZabqia9e6pqjWuZLSO2iS3BGVU53HP8AKpfC9vq9kk2p6xdefd3QVmgCYWFCM446n3roNS2SiGWPo47Urgc7dr5/ijSV3lMWt4Vxn5T5YXPHtRUrqP8AhLdIb+H7LeD/AMcFFMBsijVfGO5+LbSYd6+huZMD/wAdQYz70zU9DttS1DTruWSZTYBvKjBBBY9zmiilcCZbN/MlkN1cgyjGX4Uf4/hWtayJ/Zrxsfmzkoe2O+aKKQGM0mzxdoWXCgxXK7j2Plj/AAooop3A/9k=\"></td>\n",
       "    </tr>\n",
       "    <tr>\n",
       "      <th>298</th>\n",
       "      <td>viper</td>\n",
       "      <td>reed/img_x_132_y_247.png</td>\n",
       "      <td>reed</td>\n",
       "      <td>False</td>\n",
       "      <td><img src=\"data:image/jpeg;base64,/9j/4AAQSkZJRgABAQAAAQABAAD/2wBDAAgGBgcGBQgHBwcJCQgKDBQNDAsLDBkSEw8UHRofHh0aHBwgJC4nICIsIxwcKDcpLDAxNDQ0Hyc5PTgyPC4zNDL/2wBDAQkJCQwLDBgNDRgyIRwhMjIyMjIyMjIyMjIyMjIyMjIyMjIyMjIyMjIyMjIyMjIyMjIyMjIyMjIyMjIyMjIyMjL/wAARCAAoACgDASIAAhEBAxEB/8QAHwAAAQUBAQEBAQEAAAAAAAAAAAECAwQFBgcICQoL/8QAtRAAAgEDAwIEAwUFBAQAAAF9AQIDAAQRBRIhMUEGE1FhByJxFDKBkaEII0KxwRVS0fAkM2JyggkKFhcYGRolJicoKSo0NTY3ODk6Q0RFRkdISUpTVFVWV1hZWmNkZWZnaGlqc3R1dnd4eXqDhIWGh4iJipKTlJWWl5iZmqKjpKWmp6ipqrKztLW2t7i5usLDxMXGx8jJytLT1NXW19jZ2uHi4+Tl5ufo6erx8vP09fb3+Pn6/8QAHwEAAwEBAQEBAQEBAQAAAAAAAAECAwQFBgcICQoL/8QAtREAAgECBAQDBAcFBAQAAQJ3AAECAxEEBSExBhJBUQdhcRMiMoEIFEKRobHBCSMzUvAVYnLRChYkNOEl8RcYGRomJygpKjU2Nzg5OkNERUZHSElKU1RVVldYWVpjZGVmZ2hpanN0dXZ3eHl6goOEhYaHiImKkpOUlZaXmJmaoqOkpaanqKmqsrO0tba3uLm6wsPExcbHyMnK0tPU1dbX2Nna4uPk5ebn6Onq8vP09fb3+Pn6/9oADAMBAAIRAxEAPwDrpS/mOrBQUJBA9sVzOu3l3pWneJL22k2TRWlnsZRkj5rgV0kU8LQlAWeUlySerZ+YfkCK5jxU5/sPxXkbR9gsyQ3XmSbH8641uWbdlFJP4a0bWJSszXNtC0u47WJZQRx0qxIEe4ZtojUddrDcMd+cDFUbC6lX4Y2KwHEy6VbGNc4JbaF44PciszRLuzuLV49eku4r1BtkWVzsY9tpXtz3oluBo2+s2t3NJLFIGjXA371VR165PtRT57Tw3JGvmxxyBDuCqjng9Ov0oqQLUW83amOIYaMNuH8PBGPrxXJeOllg0DxWGlVne305RjP9+XNdO7SKINszktluBx2yKzW0geJ7rXtMm3mCUWfmMrYPyeccf59KpOzA19GSM+BdN+UErp9tlD97jbTRarNNum27lPzKB0rF0/V7zRtVn8I3jJcItqWtrhl2usYYALx1xiuhG7hdwcZPI65yR/SlLcCKSQx28skgKlclQpxnAJGfyNFSXcMs8HlyAKXDAE9Pun/GilYCu+yW9t1yVIG0KO+Ov8xUOi3GzU9cTZtkVo1POOz4/nRRQwMVLJn+KsF/Ig+yRWDLK7NwSd2MZ68kV1u2TyfOEexDyM8dzzk8frRRQBT1DULXTrcXF/deXFnapcHkkHp60UUVS2A//9k=\"></td>\n",
       "    </tr>\n",
       "  </tbody>\n",
       "</table>"
      ],
      "text/plain": [
       "<IPython.core.display.HTML object>"
      ]
     },
     "execution_count": 43,
     "metadata": {},
     "output_type": "execute_result"
    }
   ],
   "source": [
    "# Show some sample mismatches\n",
    "HTML(tdf[tdf['match'] == False].sample(30).to_html(formatters={'pred_img': image_formatter}, escape=False))"
   ]
  },
  {
   "cell_type": "code",
   "execution_count": null,
   "metadata": {},
   "outputs": [],
   "source": []
  }
 ],
 "metadata": {
  "kernelspec": {
   "display_name": "Python [conda env:p5] *",
   "language": "python",
   "name": "conda-env-p5-py"
  },
  "language_info": {
   "codemirror_mode": {
    "name": "ipython",
    "version": 3
   },
   "file_extension": ".py",
   "mimetype": "text/x-python",
   "name": "python",
   "nbconvert_exporter": "python",
   "pygments_lexer": "ipython3",
   "version": "3.7.5"
  }
 },
 "nbformat": 4,
 "nbformat_minor": 2
}
