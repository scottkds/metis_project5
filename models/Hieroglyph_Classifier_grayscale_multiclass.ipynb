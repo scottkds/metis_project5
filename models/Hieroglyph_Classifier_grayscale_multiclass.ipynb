{
 "cells": [
  {
   "cell_type": "code",
   "execution_count": 1,
   "metadata": {},
   "outputs": [],
   "source": [
    "# Data directory /Users/scott/p5/data/interim/n35_train_valid_test\n",
    "\n",
    "# python src/click_select2.py -i ~/hieroglyphs/Texts/AnteSouthWall.jpg -p data/water600/ -q 4\n"
   ]
  },
  {
   "cell_type": "code",
   "execution_count": 48,
   "metadata": {},
   "outputs": [],
   "source": [
    "import numpy as np\n",
    "import pandas as pd\n",
    "import keras\n",
    "from keras import backend as K\n",
    "from keras.preprocessing import image\n",
    "from keras.applications.vgg19 import decode_predictions\n",
    "from keras.models import Sequential, Model\n",
    "from keras.layers import Activation\n",
    "from keras.layers.core import Dense, Flatten\n",
    "from keras.optimizers import Adam, SGD\n",
    "from keras.metrics import categorical_crossentropy\n",
    "from keras.preprocessing.image import ImageDataGenerator\n",
    "from keras.layers.normalization import BatchNormalization\n",
    "from keras.layers.convolutional import *\n",
    "from keras.callbacks import EarlyStopping\n",
    "from keras.callbacks import ModelCheckpoint\n",
    "from keras.models import load_model\n",
    "import matplotlib.pyplot as plt\n",
    "from sklearn.metrics import confusion_matrix\n",
    "import itertools\n",
    "from glob import glob\n",
    "import os.path\n",
    "import PIL\n",
    "import cv2\n",
    "import re\n",
    "from collections import defaultdict, namedtuple\n",
    "import pickle\n",
    "\n",
    "from sklearn.metrics import f1_score, recall_score\n",
    "\n",
    "from PIL import Image\n",
    "from io import BytesIO\n",
    "from IPython.display import HTML"
   ]
  },
  {
   "cell_type": "code",
   "execution_count": 2,
   "metadata": {},
   "outputs": [],
   "source": [
    "pd.set_option('display.max_colwidth', -1)\n",
    "\n",
    "def get_thumbnail(path):\n",
    "    i = Image.open(path)\n",
    "    i.thumbnail((150, 150), Image.LANCZOS)\n",
    "    return i\n",
    "\n",
    "def image_base64(im):\n",
    "    if isinstance(im, str):\n",
    "        im = get_thumbnail(im)\n",
    "    with BytesIO() as buffer:\n",
    "        im.save(buffer, 'jpeg')\n",
    "        return base64.b64encode(buffer.getvalue()).decode()\n",
    "\n",
    "def image_formatter(im):\n",
    "    return f'<img src=\"data:image/jpeg;base64,{image_base64(im)}\">'"
   ]
  },
  {
   "cell_type": "code",
   "execution_count": 3,
   "metadata": {},
   "outputs": [],
   "source": [
    "pd.set_option('display.max_columns', None)"
   ]
  },
  {
   "cell_type": "code",
   "execution_count": 4,
   "metadata": {},
   "outputs": [
    {
     "data": {
      "text/plain": [
       "11"
      ]
     },
     "execution_count": 4,
     "metadata": {},
     "output_type": "execute_result"
    }
   ],
   "source": [
    "def get_classes(path):\n",
    "    directories = glob(os.path.expanduser(path) + '/*')\n",
    "    return [dir.split('/')[-1] for dir in directories]\n",
    "n_classes =  len(get_classes('/home/scott/p5/data/modeling_all/train'))\n",
    "n_classes"
   ]
  },
  {
   "cell_type": "code",
   "execution_count": 5,
   "metadata": {},
   "outputs": [],
   "source": [
    "def to_gray_scale(image):\n",
    "    image = cv2.cvtColor(image, cv2.COLOR_BGR2GRAY)\n",
    "    gray_image = cv2.cvtColor(image,cv2.COLOR_GRAY2BGR)\n",
    "    return np.array(gray_image)"
   ]
  },
  {
   "cell_type": "code",
   "execution_count": 6,
   "metadata": {},
   "outputs": [],
   "source": [
    "def gray_and_scale(image):\n",
    "    return cv2.resize(to_gray_scale(image), (224, 224))"
   ]
  },
  {
   "cell_type": "code",
   "execution_count": 7,
   "metadata": {},
   "outputs": [],
   "source": [
    "def get_heat_value(img_segment, model, labels):\n",
    "    resized_and_grayscaled_image = cv2.resize(to_gray_scale(img_segment), (224, 224))\n",
    "    pred_array = model.predict(np.expand_dims(resized_and_grayscaled_image, axis=0))\n",
    "    return pred_array\n",
    "#     if labels[np.argmax(pred_array)] == 'N35':\n",
    "#         return 1\n",
    "#     elif labels[np.argmax(pred_array)] == 'N35_part':\n",
    "#         return 0.5\n",
    "#     else:\n",
    "#         return 0\n",
    "    \n",
    "# get_heat_value(img_part, model, labels)"
   ]
  },
  {
   "cell_type": "code",
   "execution_count": 8,
   "metadata": {},
   "outputs": [
    {
     "name": "stdout",
     "output_type": "stream",
     "text": [
      "WARNING:tensorflow:From /py/conda/envs/p5/lib/python3.7/site-packages/keras/backend/tensorflow_backend.py:74: The name tf.get_default_graph is deprecated. Please use tf.compat.v1.get_default_graph instead.\n",
      "\n",
      "WARNING:tensorflow:From /py/conda/envs/p5/lib/python3.7/site-packages/keras/backend/tensorflow_backend.py:517: The name tf.placeholder is deprecated. Please use tf.compat.v1.placeholder instead.\n",
      "\n",
      "WARNING:tensorflow:From /py/conda/envs/p5/lib/python3.7/site-packages/keras/backend/tensorflow_backend.py:4138: The name tf.random_uniform is deprecated. Please use tf.random.uniform instead.\n",
      "\n",
      "WARNING:tensorflow:From /py/conda/envs/p5/lib/python3.7/site-packages/keras/backend/tensorflow_backend.py:3976: The name tf.nn.max_pool is deprecated. Please use tf.nn.max_pool2d instead.\n",
      "\n",
      "WARNING:tensorflow:From /py/conda/envs/p5/lib/python3.7/site-packages/keras/backend/tensorflow_backend.py:174: The name tf.get_default_session is deprecated. Please use tf.compat.v1.get_default_session instead.\n",
      "\n",
      "WARNING:tensorflow:From /py/conda/envs/p5/lib/python3.7/site-packages/keras/backend/tensorflow_backend.py:181: The name tf.ConfigProto is deprecated. Please use tf.compat.v1.ConfigProto instead.\n",
      "\n",
      "WARNING:tensorflow:From /py/conda/envs/p5/lib/python3.7/site-packages/keras/backend/tensorflow_backend.py:186: The name tf.Session is deprecated. Please use tf.compat.v1.Session instead.\n",
      "\n",
      "WARNING:tensorflow:From /py/conda/envs/p5/lib/python3.7/site-packages/keras/backend/tensorflow_backend.py:190: The name tf.global_variables is deprecated. Please use tf.compat.v1.global_variables instead.\n",
      "\n",
      "WARNING:tensorflow:From /py/conda/envs/p5/lib/python3.7/site-packages/keras/backend/tensorflow_backend.py:199: The name tf.is_variable_initialized is deprecated. Please use tf.compat.v1.is_variable_initialized instead.\n",
      "\n",
      "WARNING:tensorflow:From /py/conda/envs/p5/lib/python3.7/site-packages/keras/backend/tensorflow_backend.py:206: The name tf.variables_initializer is deprecated. Please use tf.compat.v1.variables_initializer instead.\n",
      "\n"
     ]
    }
   ],
   "source": [
    " vgg19 = keras.applications.vgg19.VGG19(weights='imagenet', include_top=False, input_shape=(224,224, 3))"
   ]
  },
  {
   "cell_type": "code",
   "execution_count": 9,
   "metadata": {},
   "outputs": [],
   "source": [
    "# note we exclude the final dense layers and add one back below, we would retrain it ourselves\n",
    "base_model = vgg19\n",
    " \n",
    "# Freeze convolutional layers\n",
    "for layer in base_model.layers:\n",
    "    layer.trainable = False \n",
    "    \n",
    "x = base_model.output\n",
    "x = Flatten()(x) # flatten from convolution tensor output \n",
    "predictions = Dense(n_classes, activation='softmax')(x) # should match # of classes predicted\n",
    "\n",
    "# this is the model we will train\n",
    "model = Model(inputs=base_model.input, outputs=predictions)"
   ]
  },
  {
   "cell_type": "code",
   "execution_count": 10,
   "metadata": {},
   "outputs": [
    {
     "name": "stdout",
     "output_type": "stream",
     "text": [
      "_________________________________________________________________\n",
      "Layer (type)                 Output Shape              Param #   \n",
      "=================================================================\n",
      "input_1 (InputLayer)         (None, 224, 224, 3)       0         \n",
      "_________________________________________________________________\n",
      "block1_conv1 (Conv2D)        (None, 224, 224, 64)      1792      \n",
      "_________________________________________________________________\n",
      "block1_conv2 (Conv2D)        (None, 224, 224, 64)      36928     \n",
      "_________________________________________________________________\n",
      "block1_pool (MaxPooling2D)   (None, 112, 112, 64)      0         \n",
      "_________________________________________________________________\n",
      "block2_conv1 (Conv2D)        (None, 112, 112, 128)     73856     \n",
      "_________________________________________________________________\n",
      "block2_conv2 (Conv2D)        (None, 112, 112, 128)     147584    \n",
      "_________________________________________________________________\n",
      "block2_pool (MaxPooling2D)   (None, 56, 56, 128)       0         \n",
      "_________________________________________________________________\n",
      "block3_conv1 (Conv2D)        (None, 56, 56, 256)       295168    \n",
      "_________________________________________________________________\n",
      "block3_conv2 (Conv2D)        (None, 56, 56, 256)       590080    \n",
      "_________________________________________________________________\n",
      "block3_conv3 (Conv2D)        (None, 56, 56, 256)       590080    \n",
      "_________________________________________________________________\n",
      "block3_conv4 (Conv2D)        (None, 56, 56, 256)       590080    \n",
      "_________________________________________________________________\n",
      "block3_pool (MaxPooling2D)   (None, 28, 28, 256)       0         \n",
      "_________________________________________________________________\n",
      "block4_conv1 (Conv2D)        (None, 28, 28, 512)       1180160   \n",
      "_________________________________________________________________\n",
      "block4_conv2 (Conv2D)        (None, 28, 28, 512)       2359808   \n",
      "_________________________________________________________________\n",
      "block4_conv3 (Conv2D)        (None, 28, 28, 512)       2359808   \n",
      "_________________________________________________________________\n",
      "block4_conv4 (Conv2D)        (None, 28, 28, 512)       2359808   \n",
      "_________________________________________________________________\n",
      "block4_pool (MaxPooling2D)   (None, 14, 14, 512)       0         \n",
      "_________________________________________________________________\n",
      "block5_conv1 (Conv2D)        (None, 14, 14, 512)       2359808   \n",
      "_________________________________________________________________\n",
      "block5_conv2 (Conv2D)        (None, 14, 14, 512)       2359808   \n",
      "_________________________________________________________________\n",
      "block5_conv3 (Conv2D)        (None, 14, 14, 512)       2359808   \n",
      "_________________________________________________________________\n",
      "block5_conv4 (Conv2D)        (None, 14, 14, 512)       2359808   \n",
      "_________________________________________________________________\n",
      "block5_pool (MaxPooling2D)   (None, 7, 7, 512)         0         \n",
      "_________________________________________________________________\n",
      "flatten_1 (Flatten)          (None, 25088)             0         \n",
      "_________________________________________________________________\n",
      "dense_1 (Dense)              (None, 11)                275979    \n",
      "=================================================================\n",
      "Total params: 20,300,363\n",
      "Trainable params: 275,979\n",
      "Non-trainable params: 20,024,384\n",
      "_________________________________________________________________\n"
     ]
    }
   ],
   "source": [
    "model.summary()"
   ]
  },
  {
   "cell_type": "code",
   "execution_count": 11,
   "metadata": {},
   "outputs": [],
   "source": [
    "train_path = os.path.expanduser('/home/scott/p5/data/modeling_all/train/')\n",
    "test_path = os.path.expanduser('/home/scott/p5/data/modeling_all/test/')\n",
    "valid_path = os.path.expanduser('/home/scott/p5/data/modeling_all/valid/')"
   ]
  },
  {
   "cell_type": "code",
   "execution_count": 12,
   "metadata": {},
   "outputs": [
    {
     "name": "stdout",
     "output_type": "stream",
     "text": [
      "Found 3612 images belonging to 11 classes.\n",
      "Found 451 images belonging to 11 classes.\n",
      "Found 456 images belonging to 11 classes.\n"
     ]
    }
   ],
   "source": [
    "train_batches = ImageDataGenerator(preprocessing_function=to_gray_scale).flow_from_directory(train_path,\n",
    "                                                         target_size=(224,224), \n",
    "                                                         batch_size=6)\n",
    "valid_batches = ImageDataGenerator(preprocessing_function=to_gray_scale).flow_from_directory(valid_path, \n",
    "                                                         target_size=(224,224), \n",
    "                                                         batch_size=5)\n",
    "test_batches = ImageDataGenerator(preprocessing_function=to_gray_scale).flow_from_directory(test_path, \n",
    "                                                        target_size=(224,224),\n",
    "                                                        shuffle=False,\n",
    "                                                        batch_size=1)\n"
   ]
  },
  {
   "cell_type": "code",
   "execution_count": 13,
   "metadata": {},
   "outputs": [
    {
     "name": "stdout",
     "output_type": "stream",
     "text": [
      "WARNING:tensorflow:From /py/conda/envs/p5/lib/python3.7/site-packages/keras/optimizers.py:790: The name tf.train.Optimizer is deprecated. Please use tf.compat.v1.train.Optimizer instead.\n",
      "\n",
      "WARNING:tensorflow:From /py/conda/envs/p5/lib/python3.7/site-packages/keras/backend/tensorflow_backend.py:3295: The name tf.log is deprecated. Please use tf.math.log instead.\n",
      "\n"
     ]
    }
   ],
   "source": [
    "# sgd = SGD(lr=1e-3, decay=1e-6, momentum=0.9, nesterov=True)\n",
    "# model.compile(Adam(lr=0.00002), loss='categorical_crossentropy', metrics=['accuracy'])\n",
    "model.compile(Adam(lr=0.00001), loss='categorical_crossentropy', metrics=['accuracy'])"
   ]
  },
  {
   "cell_type": "code",
   "execution_count": 53,
   "metadata": {},
   "outputs": [
    {
     "name": "stdout",
     "output_type": "stream",
     "text": [
      "Epoch 1/1\n",
      " - 6s - loss: 0.5699 - acc: 0.9583 - val_loss: 0.5830 - val_acc: 0.8500\n"
     ]
    }
   ],
   "source": [
    "# patient early stopping\n",
    "# es = EarlyStopping(monitor='val_loss', mode='min', verbose=1, patience=300)\n",
    "# mc = ModelCheckpoint('best_model.h5', monitor='val_acc', mode='max', verbose=1, save_best_only=True)\n",
    "hist = model.fit_generator(train_batches, \n",
    "                    steps_per_epoch=4, \n",
    "                    validation_data=valid_batches, \n",
    "                    validation_steps=4,\n",
    "                    epochs=1,\n",
    "                    verbose=2)#, \n",
    "#                     callbacks=[es, mc])"
   ]
  },
  {
   "cell_type": "code",
   "execution_count": 31,
   "metadata": {},
   "outputs": [],
   "source": [
    "model.save('hieroglyphs_vgg19_N35_only_custom_images_multiclass.h5')"
   ]
  },
  {
   "cell_type": "code",
   "execution_count": 64,
   "metadata": {},
   "outputs": [],
   "source": [
    "model = load_model(os.path.expanduser('hieroglyphs_vgg19_N35_only_custom_images_multiclass.h5'))"
   ]
  },
  {
   "cell_type": "code",
   "execution_count": 65,
   "metadata": {},
   "outputs": [],
   "source": [
    "# predictions = model.predict_generator(test_batches, steps=1, verbose=1)"
   ]
  },
  {
   "cell_type": "code",
   "execution_count": 66,
   "metadata": {},
   "outputs": [
    {
     "name": "stdout",
     "output_type": "stream",
     "text": [
      "456/456 [==============================] - 77s 170ms/step\n"
     ]
    }
   ],
   "source": [
    "STEP_SIZE_TEST=test_batches.n//test_batches.batch_size\n",
    "test_batches.reset()\n",
    "pred=model.predict_generator(test_batches,\n",
    "steps=STEP_SIZE_TEST,\n",
    "verbose=1)\n",
    "# print(pred)"
   ]
  },
  {
   "cell_type": "code",
   "execution_count": 67,
   "metadata": {},
   "outputs": [
    {
     "data": {
      "text/plain": [
       "array([ 1,  0,  0,  0,  0,  0,  0,  0,  0,  0,  0,  0,  0,  0,  9,  0,  0,\n",
       "        0,  0,  0,  0,  0,  0,  0,  0,  0,  0,  0,  0,  0,  0,  0,  0,  7,\n",
       "        0,  0,  0,  0,  0,  9,  0,  0,  9,  0,  0,  0,  0,  0,  0,  0,  0,\n",
       "        0,  0,  0,  0,  5,  0,  0,  0,  0,  0,  0,  0,  0,  0,  0,  0,  0,\n",
       "        0,  4,  0,  0,  0,  0,  0,  0,  0,  0,  0,  0,  0,  0,  0,  0,  4,\n",
       "        0,  0,  0,  0,  0,  0,  5,  0,  0,  0,  0,  0,  8,  0,  0,  0,  0,\n",
       "        0,  0,  0,  0,  0,  0,  0,  0,  7,  0,  1,  0,  0,  0,  0,  0,  1,\n",
       "        1,  0,  9,  8,  9,  1,  1,  4,  1,  1,  1,  1,  1,  1,  1,  1,  1,\n",
       "        1,  0,  1,  7,  1,  7,  5,  1,  1,  5,  1,  1,  1,  1,  0,  2,  2,\n",
       "        2,  2,  2,  2,  2,  2,  2,  9,  2,  2,  2,  2,  2,  2,  2,  2,  2,\n",
       "        2,  2,  2,  2,  2,  2,  2,  7,  2,  2,  2,  2,  2,  2,  2,  2,  2,\n",
       "        2,  2,  2,  2,  2,  2,  2,  2,  3,  3,  3,  3,  6,  3,  3,  3,  3,\n",
       "        6,  6,  3,  3,  3,  3,  0,  3,  3,  3,  6,  3,  6,  3,  3,  3,  3,\n",
       "        3,  3,  3,  3,  3,  3,  3,  4,  4,  5,  0,  4,  4,  4,  4,  4,  4,\n",
       "        7,  9,  2,  4,  4,  4,  4,  4,  4,  5,  5,  8,  5,  1,  5,  4,  0,\n",
       "        8,  8,  0,  5,  8,  0,  0,  5,  8,  9,  5,  1,  5,  5,  5,  1,  4,\n",
       "        0,  5,  1,  0,  2,  5,  9,  5,  5,  5,  9,  5,  5,  0,  5,  5,  5,\n",
       "        5,  5,  5,  0,  5,  5,  5,  6,  6,  6,  6,  3,  6,  6,  6,  6,  6,\n",
       "        6,  6,  7,  6, 10,  6,  3,  6,  6,  3,  6,  6,  6,  6, 10, 10,  6,\n",
       "        6,  6,  6,  6,  6,  6,  6,  6,  3,  6,  6,  6,  6,  6, 10,  6,  6,\n",
       "        6,  6,  6,  6,  6,  6,  6,  6,  6,  6,  6,  6,  6,  6,  7,  7,  6,\n",
       "        7,  1,  7,  7,  7,  7,  7,  7,  7,  7,  1,  7,  7,  7,  7,  7,  1,\n",
       "        2,  7,  7,  7,  7,  7,  7,  7,  7,  7,  7,  7,  7,  5,  7,  7,  7,\n",
       "        0,  8,  8,  1,  8,  8,  8,  5,  8,  8,  5,  4,  5,  8,  9,  9,  8,\n",
       "        8,  9,  9,  9,  0,  9,  9,  9,  9,  9,  1,  9,  0,  8,  9,  9,  1,\n",
       "        1,  5,  9,  5,  9,  4,  9,  9,  5,  9,  9,  9,  9,  9, 10,  6, 10,\n",
       "       10, 10,  2, 10, 10, 10, 10, 10, 10, 10,  0, 10, 10, 10])"
      ]
     },
     "execution_count": 67,
     "metadata": {},
     "output_type": "execute_result"
    }
   ],
   "source": [
    "predicted_class_indices=np.argmax(pred,axis=1)\n",
    "predicted_class_indices"
   ]
  },
  {
   "cell_type": "code",
   "execution_count": 68,
   "metadata": {},
   "outputs": [
    {
     "name": "stdout",
     "output_type": "stream",
     "text": [
      "{'N35': 0, 'basket': 1, 'bird': 2, 'cloth': 3, 'cobra': 4, 'mouth': 5, 'reed': 6, 'sun': 7, 'tether': 8, 'viper': 9, 'wick': 10}\n",
      "{0: 'N35', 1: 'basket', 2: 'bird', 3: 'cloth', 4: 'cobra', 5: 'mouth', 6: 'reed', 7: 'sun', 8: 'tether', 9: 'viper', 10: 'wick'}\n"
     ]
    }
   ],
   "source": [
    "labels = (train_batches.class_indices)\n",
    "print(labels)\n",
    "labels = dict((v,k) for k,v in labels.items())\n",
    "print(labels)\n",
    "predictions = [labels[k] for k in predicted_class_indices]"
   ]
  },
  {
   "cell_type": "code",
   "execution_count": 69,
   "metadata": {},
   "outputs": [
    {
     "data": {
      "text/plain": [
       "['basket',\n",
       " 'N35',\n",
       " 'N35',\n",
       " 'N35',\n",
       " 'N35',\n",
       " 'N35',\n",
       " 'N35',\n",
       " 'N35',\n",
       " 'N35',\n",
       " 'N35',\n",
       " 'N35']"
      ]
     },
     "execution_count": 69,
     "metadata": {},
     "output_type": "execute_result"
    }
   ],
   "source": [
    "predictions[:11]"
   ]
  },
  {
   "cell_type": "code",
   "execution_count": 70,
   "metadata": {},
   "outputs": [],
   "source": [
    "# def get_glyph_name(series):\n",
    "#     file = series['filename']\n",
    "#     m = re.search(r'non_glyphs', file)\n",
    "#     if m:\n",
    "#         return 'non_glyphs'\n",
    "#     else:\n",
    "#         return 'glyphs'\n",
    "\n",
    "# def get_glyph_name(series):\n",
    "#     file = series['filename']\n",
    "#     m = re.match(r'^([A-Z]{1}\\d+)/', file)\n",
    "#     if m:\n",
    "#         return m.group(1)\n",
    "#     else:\n",
    "#         return 'unknown'\n",
    "\n",
    "\n",
    "def get_glyph_name(series):\n",
    "    file = series['filename']\n",
    "    m = re.match(r'^([a-z]+)/', file)\n",
    "    n = re.match(r'^([A-Z]{1}\\d+)/', file)\n",
    "    if m:\n",
    "        return m.group(1)\n",
    "    elif n:\n",
    "        return n.group(1)\n",
    "    else:\n",
    "        return 'unknown'"
   ]
  },
  {
   "cell_type": "code",
   "execution_count": 71,
   "metadata": {},
   "outputs": [
    {
     "data": {
      "text/html": [
       "<div>\n",
       "<style scoped>\n",
       "    .dataframe tbody tr th:only-of-type {\n",
       "        vertical-align: middle;\n",
       "    }\n",
       "\n",
       "    .dataframe tbody tr th {\n",
       "        vertical-align: top;\n",
       "    }\n",
       "\n",
       "    .dataframe thead th {\n",
       "        text-align: right;\n",
       "    }\n",
       "</style>\n",
       "<table border=\"1\" class=\"dataframe\">\n",
       "  <thead>\n",
       "    <tr style=\"text-align: right;\">\n",
       "      <th></th>\n",
       "      <th>predicted</th>\n",
       "      <th>filename</th>\n",
       "      <th>glyph</th>\n",
       "      <th>match</th>\n",
       "    </tr>\n",
       "  </thead>\n",
       "  <tbody>\n",
       "    <tr>\n",
       "      <th>0</th>\n",
       "      <td>basket</td>\n",
       "      <td>N35/img_x_101_y_264.png</td>\n",
       "      <td>N35</td>\n",
       "      <td>False</td>\n",
       "    </tr>\n",
       "    <tr>\n",
       "      <th>1</th>\n",
       "      <td>N35</td>\n",
       "      <td>N35/img_x_106_y_15.png</td>\n",
       "      <td>N35</td>\n",
       "      <td>True</td>\n",
       "    </tr>\n",
       "    <tr>\n",
       "      <th>2</th>\n",
       "      <td>N35</td>\n",
       "      <td>N35/img_x_113_y_127.png</td>\n",
       "      <td>N35</td>\n",
       "      <td>True</td>\n",
       "    </tr>\n",
       "    <tr>\n",
       "      <th>3</th>\n",
       "      <td>N35</td>\n",
       "      <td>N35/img_x_121_y_102.png</td>\n",
       "      <td>N35</td>\n",
       "      <td>True</td>\n",
       "    </tr>\n",
       "    <tr>\n",
       "      <th>4</th>\n",
       "      <td>N35</td>\n",
       "      <td>N35/img_x_127_y_205.png</td>\n",
       "      <td>N35</td>\n",
       "      <td>True</td>\n",
       "    </tr>\n",
       "  </tbody>\n",
       "</table>\n",
       "</div>"
      ],
      "text/plain": [
       "  predicted                 filename glyph  match\n",
       "0  basket    N35/img_x_101_y_264.png  N35   False\n",
       "1  N35       N35/img_x_106_y_15.png   N35   True \n",
       "2  N35       N35/img_x_113_y_127.png  N35   True \n",
       "3  N35       N35/img_x_121_y_102.png  N35   True \n",
       "4  N35       N35/img_x_127_y_205.png  N35   True "
      ]
     },
     "execution_count": 71,
     "metadata": {},
     "output_type": "execute_result"
    }
   ],
   "source": [
    "pred_df = pd.DataFrame(predictions, columns=['predicted'])\n",
    "pred_df = pred_df.merge(pd.DataFrame(test_batches.filenames, columns=['filename']), left_index=True, right_index=True)\n",
    "pred_df['glyph'] = pred_df.apply(lambda row: get_glyph_name(row), axis=1)\n",
    "pred_df['match'] = pred_df['predicted'] == pred_df['glyph']\n",
    "pred_df.head()\n",
    "# pred_df.to_csv('/Users/scott/p5/N35_predictions_custom_images.csv', index=False)"
   ]
  },
  {
   "cell_type": "code",
   "execution_count": 72,
   "metadata": {},
   "outputs": [
    {
     "data": {
      "text/plain": [
       "0.7916666666666666"
      ]
     },
     "execution_count": 72,
     "metadata": {},
     "output_type": "execute_result"
    }
   ],
   "source": [
    "acc = pred_df['match'].sum() / len(pred_df)\n",
    "acc"
   ]
  },
  {
   "cell_type": "code",
   "execution_count": 73,
   "metadata": {},
   "outputs": [],
   "source": [
    "def get_indices(series, idx_dict):\n",
    "    \"\"\"Returns a numpy array from indices for input series of class names.\"\"\"\n",
    "    indices = pd.Series(index=series.index)\n",
    "    for idx, val in series.iteritems():\n",
    "        indices[idx] = idx_dict[val]\n",
    "    return indices"
   ]
  },
  {
   "cell_type": "code",
   "execution_count": 74,
   "metadata": {},
   "outputs": [
    {
     "data": {
      "text/plain": [
       "0.7895892511834345"
      ]
     },
     "execution_count": 74,
     "metadata": {},
     "output_type": "execute_result"
    }
   ],
   "source": [
    "y_pred = get_indices(pred_df.predicted, train_batches.class_indices)\n",
    "y_true = get_indices(pred_df.glyph, train_batches.class_indices)\n",
    "f1_score(y_true, y_pred, average='weighted')"
   ]
  },
  {
   "cell_type": "code",
   "execution_count": 75,
   "metadata": {},
   "outputs": [
    {
     "data": {
      "text/plain": [
       "0.7916666666666666"
      ]
     },
     "execution_count": 75,
     "metadata": {},
     "output_type": "execute_result"
    }
   ],
   "source": [
    "recall_score(y_true, y_pred, average='weighted')"
   ]
  },
  {
   "cell_type": "code",
   "execution_count": null,
   "metadata": {},
   "outputs": [],
   "source": []
  },
  {
   "cell_type": "code",
   "execution_count": 27,
   "metadata": {},
   "outputs": [
    {
     "data": {
      "text/html": [
       "<div>\n",
       "<style scoped>\n",
       "    .dataframe tbody tr th:only-of-type {\n",
       "        vertical-align: middle;\n",
       "    }\n",
       "\n",
       "    .dataframe tbody tr th {\n",
       "        vertical-align: top;\n",
       "    }\n",
       "\n",
       "    .dataframe thead th {\n",
       "        text-align: right;\n",
       "    }\n",
       "</style>\n",
       "<table border=\"1\" class=\"dataframe\">\n",
       "  <thead>\n",
       "    <tr style=\"text-align: right;\">\n",
       "      <th></th>\n",
       "      <th>predicted</th>\n",
       "      <th>filename</th>\n",
       "      <th>glyph</th>\n",
       "      <th>match</th>\n",
       "    </tr>\n",
       "  </thead>\n",
       "  <tbody>\n",
       "    <tr>\n",
       "      <th>293</th>\n",
       "      <td>mouth</td>\n",
       "      <td>mouth/img_x_813_y_423.png</td>\n",
       "      <td>mouth</td>\n",
       "      <td>True</td>\n",
       "    </tr>\n",
       "    <tr>\n",
       "      <th>380</th>\n",
       "      <td>sun</td>\n",
       "      <td>sun/img_x_58_y_51.png</td>\n",
       "      <td>sun</td>\n",
       "      <td>True</td>\n",
       "    </tr>\n",
       "    <tr>\n",
       "      <th>207</th>\n",
       "      <td>cloth</td>\n",
       "      <td>cloth/img_x_398_y_367.png</td>\n",
       "      <td>cloth</td>\n",
       "      <td>True</td>\n",
       "    </tr>\n",
       "    <tr>\n",
       "      <th>138</th>\n",
       "      <td>basket</td>\n",
       "      <td>basket/img_x_501_y_182.png</td>\n",
       "      <td>basket</td>\n",
       "      <td>True</td>\n",
       "    </tr>\n",
       "    <tr>\n",
       "      <th>60</th>\n",
       "      <td>N35</td>\n",
       "      <td>N35/img_x_411_y_200.png</td>\n",
       "      <td>unknown</td>\n",
       "      <td>False</td>\n",
       "    </tr>\n",
       "  </tbody>\n",
       "</table>\n",
       "</div>"
      ],
      "text/plain": [
       "    predicted                    filename    glyph  match\n",
       "293  mouth     mouth/img_x_813_y_423.png   mouth    True \n",
       "380  sun       sun/img_x_58_y_51.png       sun      True \n",
       "207  cloth     cloth/img_x_398_y_367.png   cloth    True \n",
       "138  basket    basket/img_x_501_y_182.png  basket   True \n",
       "60   N35       N35/img_x_411_y_200.png     unknown  False"
      ]
     },
     "execution_count": 27,
     "metadata": {},
     "output_type": "execute_result"
    }
   ],
   "source": [
    "pred_df.sample(5)"
   ]
  },
  {
   "cell_type": "code",
   "execution_count": null,
   "metadata": {},
   "outputs": [],
   "source": [
    "# Orig Image Shape (1507, 1720, 3)\n",
    "# img = cv2.imread('/home/scott/sync/Antewest.jpg')[250:1000, 1220:]\n",
    "img = cv2.imread(os.path.expanduser('~/hieroglyphs/Texts/AnteSouthWall.jpg'))\n",
    "\n",
    "# *************************************************************\n",
    "height, width, depth = img.shape\n",
    "print((height, width, depth))\n",
    "half_width = width // 2\n",
    "half_height = height // 2\n",
    "img = img[half_height:, half_width:].copy()\n",
    "\n",
    "img = img[:300, 60:]\n",
    "            \n",
    "print(img.shape)\n",
    "plt.figure(figsize=(12,12))\n",
    "plt.imshow(img)\n"
   ]
  },
  {
   "cell_type": "code",
   "execution_count": null,
   "metadata": {},
   "outputs": [],
   "source": [
    "heat_map = []\n",
    "window_height = 40\n",
    "window_width = 40\n",
    "for y_step in range(0, img.shape[0], 20):\n",
    "    horizontal = []\n",
    "    if y_step + (window_height / 2) > img.shape[0]:\n",
    "            break\n",
    "    for x_step in range(0, img.shape[1], 20):\n",
    "        if x_step + (window_width / 2) > img.shape[1]:\n",
    "            break\n",
    "        \n",
    "        # Get window_width x window_height image segement\n",
    "        crop_img = img[y_step:y_step+window_height, x_step:x_step+window_width].copy()\n",
    "        # Get the heat value of the image segemnt\n",
    "        heat = get_heat_value(crop_img, model, labels)\n",
    "        # save positive results to file\n",
    "        if heat[0][0] >= 0.9:\n",
    "            cv2.imwrite('/home/scott/p5/data/water1k/pos/pos_{}_{}.png'.format(x_step, y_step), crop_img)\n",
    "            # Appened heat value to heat map\n",
    "            horizontal.append(heat[0][0])\n",
    "        else:\n",
    "            # Append 0\n",
    "            horizontal.append(0)\n",
    "            cv2.imwrite('/home/scott/p5/data/water1k/neg/neg_{}_{}.png'.format(x_step, y_step), crop_img)\n",
    "        print((x_step, y_step, heat[0][0]))\n",
    "    heat_map.append(np.array(horizontal))"
   ]
  },
  {
   "cell_type": "code",
   "execution_count": null,
   "metadata": {},
   "outputs": [],
   "source": [
    "import pickle\n",
    "with open(os.path.expanduser('~/p5/data/heatmap_large_test.pkl'), 'wb') as f:\n",
    "    pickle.dump(heat_map, f)"
   ]
  },
  {
   "cell_type": "code",
   "execution_count": null,
   "metadata": {},
   "outputs": [],
   "source": [
    "hm2 = heat_map.copy()"
   ]
  },
  {
   "cell_type": "code",
   "execution_count": null,
   "metadata": {},
   "outputs": [],
   "source": [
    "scott = np.vstack(tuple(heat_map))\n",
    "scott.shape"
   ]
  },
  {
   "cell_type": "code",
   "execution_count": null,
   "metadata": {},
   "outputs": [],
   "source": [
    "np_map = np.repeat(np.repeat(np.array(heat_map), 20, axis=0), 20, axis=1)\n",
    "np_map.shape"
   ]
  },
  {
   "cell_type": "code",
   "execution_count": null,
   "metadata": {},
   "outputs": [],
   "source": [
    "# with open(os.path.expanduser('~/p5/data/heatmap_large_test.pkl'), 'rb') as f:\n",
    "#     heat_map = pickle.load(f)"
   ]
  },
  {
   "cell_type": "code",
   "execution_count": null,
   "metadata": {},
   "outputs": [],
   "source": [
    "# heat_map 172"
   ]
  },
  {
   "cell_type": "code",
   "execution_count": null,
   "metadata": {},
   "outputs": [],
   "source": [
    "# np_map = np.array(heat_map)"
   ]
  },
  {
   "cell_type": "code",
   "execution_count": null,
   "metadata": {},
   "outputs": [],
   "source": [
    "np_map.shape"
   ]
  },
  {
   "cell_type": "code",
   "execution_count": null,
   "metadata": {},
   "outputs": [],
   "source": []
  },
  {
   "cell_type": "code",
   "execution_count": null,
   "metadata": {},
   "outputs": [],
   "source": [
    "# np_tmp = np_map[:, 0]\n",
    "# np_tmp = np_tmp[:, 0] \n",
    "# np_tmp"
   ]
  },
  {
   "cell_type": "code",
   "execution_count": null,
   "metadata": {},
   "outputs": [],
   "source": [
    "# [f(x) if condition else g(x) for x in sequence]\n",
    "filter_value = 0.9\n",
    "np_tmp2 = np_map #np.array([val if val > filter_value else 0 for val in np_map])"
   ]
  },
  {
   "cell_type": "code",
   "execution_count": null,
   "metadata": {},
   "outputs": [],
   "source": [
    "np_tmp2.shape"
   ]
  },
  {
   "cell_type": "code",
   "execution_count": null,
   "metadata": {},
   "outputs": [],
   "source": [
    "np_tmp3 = np_tmp2.reshape((60, 160))"
   ]
  },
  {
   "cell_type": "code",
   "execution_count": null,
   "metadata": {},
   "outputs": [],
   "source": [
    "# np_tmp4 = np.repeat(np.repeat(np_tmp3, 5, axis=0), 5, axis=1)"
   ]
  },
  {
   "cell_type": "code",
   "execution_count": null,
   "metadata": {},
   "outputs": [],
   "source": [
    "plt.imshow(np_tmp2)"
   ]
  },
  {
   "cell_type": "code",
   "execution_count": null,
   "metadata": {},
   "outputs": [],
   "source": [
    "import seaborn as sns\n",
    "sns.heatmap(np_tmp2, cmap='Blues')"
   ]
  },
  {
   "cell_type": "code",
   "execution_count": null,
   "metadata": {},
   "outputs": [],
   "source": [
    "# print(np_tmp4.shape)\n",
    "# print(img.shape)"
   ]
  },
  {
   "cell_type": "code",
   "execution_count": null,
   "metadata": {},
   "outputs": [],
   "source": [
    "# np_tmp4"
   ]
  },
  {
   "cell_type": "code",
   "execution_count": null,
   "metadata": {},
   "outputs": [],
   "source": [
    "import heatmap\n",
    "from scipy import ndimage\n",
    "from skimage import io\n",
    "import os"
   ]
  },
  {
   "cell_type": "code",
   "execution_count": null,
   "metadata": {},
   "outputs": [],
   "source": [
    "cv2.imwrite(os.path.expanduser('~/sync/Antewest_cropped.png'), img)\n",
    "image_filename = '~/sync/Antewest_cropped.png'\n",
    "image = io.imread(image_filename)\n",
    "plt.imshow(image)"
   ]
  },
  {
   "cell_type": "code",
   "execution_count": null,
   "metadata": {},
   "outputs": [],
   "source": [
    "# my_heat_map = ndimage.filters.gaussian_filter(np_tmp4, sigma=16)\n",
    "# np_tmp5 = np.hstack((np.zeros((np_tmp4.shape[0], 25)), np_tmp4[:,:-25]))\n",
    "my_heat_map = ndimage.filters.gaussian_filter(np_tmp2, sigma=16)\n",
    "# my_heat_map = ndimage.filters.gaussian_filter(np_tmp4, sigma=16)\n",
    "plt.figure(figsize=(15,15))\n",
    "heatmap.add(image, my_heat_map, alpha=0.7,cmap='jet')#, save='../data/face_heat_map.png')\n",
    "# plt.colorbar()"
   ]
  },
  {
   "cell_type": "code",
   "execution_count": null,
   "metadata": {},
   "outputs": [],
   "source": [
    "right_shifted = np_tmp4.copy()"
   ]
  }
 ],
 "metadata": {
  "kernelspec": {
   "display_name": "Python [conda env:p5] *",
   "language": "python",
   "name": "conda-env-p5-py"
  },
  "language_info": {
   "codemirror_mode": {
    "name": "ipython",
    "version": 3
   },
   "file_extension": ".py",
   "mimetype": "text/x-python",
   "name": "python",
   "nbconvert_exporter": "python",
   "pygments_lexer": "ipython3",
   "version": "3.7.5"
  }
 },
 "nbformat": 4,
 "nbformat_minor": 2
}
