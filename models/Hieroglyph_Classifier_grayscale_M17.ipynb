{
 "cells": [
  {
   "cell_type": "code",
   "execution_count": 4,
   "metadata": {},
   "outputs": [
    {
     "name": "stderr",
     "output_type": "stream",
     "text": [
      "Using TensorFlow backend.\n"
     ]
    }
   ],
   "source": [
    "import numpy as np\n",
    "import pandas as pd\n",
    "import keras\n",
    "from keras import backend as K\n",
    "from keras.preprocessing import image\n",
    "from keras.applications.vgg19 import decode_predictions\n",
    "from keras.models import Sequential, Model\n",
    "from keras.layers import Activation\n",
    "from keras.layers.core import Dense, Flatten\n",
    "from keras.optimizers import Adam, SGD\n",
    "from keras.metrics import categorical_crossentropy\n",
    "from keras.preprocessing.image import ImageDataGenerator\n",
    "from keras.layers.normalization import BatchNormalization\n",
    "from keras.layers.convolutional import *\n",
    "from keras.callbacks import EarlyStopping\n",
    "from keras.callbacks import ModelCheckpoint\n",
    "from keras.models import load_model\n",
    "import matplotlib.pyplot as plt\n",
    "from sklearn.metrics import confusion_matrix\n",
    "import itertools\n",
    "from glob import glob\n",
    "import os.path\n",
    "import PIL\n",
    "import cv2\n",
    "import re\n",
    "from collections import defaultdict, namedtuple"
   ]
  },
  {
   "cell_type": "code",
   "execution_count": 5,
   "metadata": {},
   "outputs": [],
   "source": [
    "pd.set_option('display.max_columns', None)"
   ]
  },
  {
   "cell_type": "code",
   "execution_count": 6,
   "metadata": {},
   "outputs": [
    {
     "data": {
      "text/plain": [
       "2"
      ]
     },
     "execution_count": 6,
     "metadata": {},
     "output_type": "execute_result"
    }
   ],
   "source": [
    "def get_classes(path):\n",
    "    directories = glob(os.path.expanduser(path) + '/*')\n",
    "    return [dir.split('/')[-1] for dir in directories]\n",
    "n_classes =  len(get_classes('~/p5/data/M17_only/train'))\n",
    "n_classes"
   ]
  },
  {
   "cell_type": "code",
   "execution_count": 7,
   "metadata": {},
   "outputs": [],
   "source": [
    "def to_gray_scale(image):\n",
    "    image = cv2.cvtColor(image, cv2.COLOR_BGR2GRAY)\n",
    "    gray_image = cv2.cvtColor(image,cv2.COLOR_GRAY2BGR)\n",
    "    return np.array(gray_image)"
   ]
  },
  {
   "cell_type": "code",
   "execution_count": 8,
   "metadata": {},
   "outputs": [
    {
     "name": "stdout",
     "output_type": "stream",
     "text": [
      "WARNING:tensorflow:From /Applications/conda/anaconda3/envs/p5/lib/python3.7/site-packages/keras/backend/tensorflow_backend.py:74: The name tf.get_default_graph is deprecated. Please use tf.compat.v1.get_default_graph instead.\n",
      "\n",
      "WARNING:tensorflow:From /Applications/conda/anaconda3/envs/p5/lib/python3.7/site-packages/keras/backend/tensorflow_backend.py:517: The name tf.placeholder is deprecated. Please use tf.compat.v1.placeholder instead.\n",
      "\n",
      "WARNING:tensorflow:From /Applications/conda/anaconda3/envs/p5/lib/python3.7/site-packages/keras/backend/tensorflow_backend.py:4138: The name tf.random_uniform is deprecated. Please use tf.random.uniform instead.\n",
      "\n",
      "WARNING:tensorflow:From /Applications/conda/anaconda3/envs/p5/lib/python3.7/site-packages/keras/backend/tensorflow_backend.py:3976: The name tf.nn.max_pool is deprecated. Please use tf.nn.max_pool2d instead.\n",
      "\n",
      "WARNING:tensorflow:From /Applications/conda/anaconda3/envs/p5/lib/python3.7/site-packages/keras/backend/tensorflow_backend.py:174: The name tf.get_default_session is deprecated. Please use tf.compat.v1.get_default_session instead.\n",
      "\n",
      "WARNING:tensorflow:From /Applications/conda/anaconda3/envs/p5/lib/python3.7/site-packages/keras/backend/tensorflow_backend.py:181: The name tf.ConfigProto is deprecated. Please use tf.compat.v1.ConfigProto instead.\n",
      "\n",
      "WARNING:tensorflow:From /Applications/conda/anaconda3/envs/p5/lib/python3.7/site-packages/keras/backend/tensorflow_backend.py:186: The name tf.Session is deprecated. Please use tf.compat.v1.Session instead.\n",
      "\n",
      "WARNING:tensorflow:From /Applications/conda/anaconda3/envs/p5/lib/python3.7/site-packages/keras/backend/tensorflow_backend.py:190: The name tf.global_variables is deprecated. Please use tf.compat.v1.global_variables instead.\n",
      "\n",
      "WARNING:tensorflow:From /Applications/conda/anaconda3/envs/p5/lib/python3.7/site-packages/keras/backend/tensorflow_backend.py:199: The name tf.is_variable_initialized is deprecated. Please use tf.compat.v1.is_variable_initialized instead.\n",
      "\n",
      "WARNING:tensorflow:From /Applications/conda/anaconda3/envs/p5/lib/python3.7/site-packages/keras/backend/tensorflow_backend.py:206: The name tf.variables_initializer is deprecated. Please use tf.compat.v1.variables_initializer instead.\n",
      "\n"
     ]
    }
   ],
   "source": [
    " vgg19 = keras.applications.vgg19.VGG19(weights='imagenet', include_top=False, input_shape=(224,224, 3))"
   ]
  },
  {
   "cell_type": "code",
   "execution_count": 9,
   "metadata": {},
   "outputs": [],
   "source": [
    "# note we exclude the final dense layers and add one back below, we would retrain it ourselves\n",
    "base_model = vgg19\n",
    " \n",
    "# Freeze convolutional layers\n",
    "for layer in base_model.layers:\n",
    "    layer.trainable = False \n",
    "    \n",
    "x = base_model.output\n",
    "x = Flatten()(x) # flatten from convolution tensor output \n",
    "predictions = Dense(n_classes, activation='softmax')(x) # should match # of classes predicted\n",
    "\n",
    "# this is the model we will train\n",
    "model = Model(inputs=base_model.input, outputs=predictions)"
   ]
  },
  {
   "cell_type": "code",
   "execution_count": 10,
   "metadata": {},
   "outputs": [
    {
     "name": "stdout",
     "output_type": "stream",
     "text": [
      "_________________________________________________________________\n",
      "Layer (type)                 Output Shape              Param #   \n",
      "=================================================================\n",
      "input_1 (InputLayer)         (None, 224, 224, 3)       0         \n",
      "_________________________________________________________________\n",
      "block1_conv1 (Conv2D)        (None, 224, 224, 64)      1792      \n",
      "_________________________________________________________________\n",
      "block1_conv2 (Conv2D)        (None, 224, 224, 64)      36928     \n",
      "_________________________________________________________________\n",
      "block1_pool (MaxPooling2D)   (None, 112, 112, 64)      0         \n",
      "_________________________________________________________________\n",
      "block2_conv1 (Conv2D)        (None, 112, 112, 128)     73856     \n",
      "_________________________________________________________________\n",
      "block2_conv2 (Conv2D)        (None, 112, 112, 128)     147584    \n",
      "_________________________________________________________________\n",
      "block2_pool (MaxPooling2D)   (None, 56, 56, 128)       0         \n",
      "_________________________________________________________________\n",
      "block3_conv1 (Conv2D)        (None, 56, 56, 256)       295168    \n",
      "_________________________________________________________________\n",
      "block3_conv2 (Conv2D)        (None, 56, 56, 256)       590080    \n",
      "_________________________________________________________________\n",
      "block3_conv3 (Conv2D)        (None, 56, 56, 256)       590080    \n",
      "_________________________________________________________________\n",
      "block3_conv4 (Conv2D)        (None, 56, 56, 256)       590080    \n",
      "_________________________________________________________________\n",
      "block3_pool (MaxPooling2D)   (None, 28, 28, 256)       0         \n",
      "_________________________________________________________________\n",
      "block4_conv1 (Conv2D)        (None, 28, 28, 512)       1180160   \n",
      "_________________________________________________________________\n",
      "block4_conv2 (Conv2D)        (None, 28, 28, 512)       2359808   \n",
      "_________________________________________________________________\n",
      "block4_conv3 (Conv2D)        (None, 28, 28, 512)       2359808   \n",
      "_________________________________________________________________\n",
      "block4_conv4 (Conv2D)        (None, 28, 28, 512)       2359808   \n",
      "_________________________________________________________________\n",
      "block4_pool (MaxPooling2D)   (None, 14, 14, 512)       0         \n",
      "_________________________________________________________________\n",
      "block5_conv1 (Conv2D)        (None, 14, 14, 512)       2359808   \n",
      "_________________________________________________________________\n",
      "block5_conv2 (Conv2D)        (None, 14, 14, 512)       2359808   \n",
      "_________________________________________________________________\n",
      "block5_conv3 (Conv2D)        (None, 14, 14, 512)       2359808   \n",
      "_________________________________________________________________\n",
      "block5_conv4 (Conv2D)        (None, 14, 14, 512)       2359808   \n",
      "_________________________________________________________________\n",
      "block5_pool (MaxPooling2D)   (None, 7, 7, 512)         0         \n",
      "_________________________________________________________________\n",
      "flatten_1 (Flatten)          (None, 25088)             0         \n",
      "_________________________________________________________________\n",
      "dense_1 (Dense)              (None, 2)                 50178     \n",
      "=================================================================\n",
      "Total params: 20,074,562\n",
      "Trainable params: 50,178\n",
      "Non-trainable params: 20,024,384\n",
      "_________________________________________________________________\n"
     ]
    }
   ],
   "source": [
    "model.summary()"
   ]
  },
  {
   "cell_type": "code",
   "execution_count": 11,
   "metadata": {},
   "outputs": [],
   "source": [
    "train_path = os.path.expanduser('~/p5/data/M17_only/train')\n",
    "test_path = os.path.expanduser('~/p5/data/M17_only/test')\n",
    "valid_path = os.path.expanduser('~/p5/data/M17_only/valid')"
   ]
  },
  {
   "cell_type": "code",
   "execution_count": 12,
   "metadata": {},
   "outputs": [
    {
     "name": "stdout",
     "output_type": "stream",
     "text": [
      "Found 3506 images belonging to 2 classes.\n",
      "Found 550 images belonging to 2 classes.\n",
      "Found 434 images belonging to 2 classes.\n"
     ]
    }
   ],
   "source": [
    "train_batches = ImageDataGenerator(preprocessing_function=to_gray_scale).flow_from_directory(train_path,\n",
    "                                                         target_size=(224,224), \n",
    "                                                         batch_size=6)\n",
    "valid_batches = ImageDataGenerator(preprocessing_function=to_gray_scale).flow_from_directory(valid_path, \n",
    "                                                         target_size=(224,224), \n",
    "                                                         batch_size=5)\n",
    "test_batches = ImageDataGenerator(preprocessing_function=to_gray_scale).flow_from_directory(test_path, \n",
    "                                                        target_size=(224,224),\n",
    "                                                        shuffle=False,\n",
    "                                                        batch_size=1)\n"
   ]
  },
  {
   "cell_type": "code",
   "execution_count": 13,
   "metadata": {},
   "outputs": [
    {
     "name": "stdout",
     "output_type": "stream",
     "text": [
      "WARNING:tensorflow:From /Applications/conda/anaconda3/envs/p5/lib/python3.7/site-packages/keras/optimizers.py:790: The name tf.train.Optimizer is deprecated. Please use tf.compat.v1.train.Optimizer instead.\n",
      "\n",
      "WARNING:tensorflow:From /Applications/conda/anaconda3/envs/p5/lib/python3.7/site-packages/keras/backend/tensorflow_backend.py:3295: The name tf.log is deprecated. Please use tf.math.log instead.\n",
      "\n"
     ]
    }
   ],
   "source": [
    "# sgd = SGD(lr=1e-3, decay=1e-6, momentum=0.9, nesterov=True)\n",
    "# model.compile(Adam(lr=0.00002), loss='categorical_crossentropy', metrics=['accuracy'])\n",
    "model.compile(Adam(lr=0.00002), loss='categorical_crossentropy', metrics=['accuracy'])"
   ]
  },
  {
   "cell_type": "code",
   "execution_count": 25,
   "metadata": {},
   "outputs": [
    {
     "name": "stdout",
     "output_type": "stream",
     "text": [
      "Epoch 1/1\n",
      " - 16s - loss: 0.0094 - acc: 1.0000 - val_loss: 2.0662e-04 - val_acc: 1.0000\n"
     ]
    }
   ],
   "source": [
    "# patient early stopping\n",
    "# es = EarlyStopping(monitor='val_loss', mode='min', verbose=1, patience=100)\n",
    "# mc = ModelCheckpoint('best_model.h5', monitor='val_acc', mode='max', verbose=1, save_best_only=True)\n",
    "hist = model.fit_generator(train_batches, \n",
    "                    steps_per_epoch=4, \n",
    "                    validation_data=valid_batches, \n",
    "                    validation_steps=4,\n",
    "                    epochs=1,\n",
    "                    verbose=2)#, \n",
    "#                     callbacks=[es, mc])"
   ]
  },
  {
   "cell_type": "code",
   "execution_count": 14,
   "metadata": {},
   "outputs": [
    {
     "ename": "NameError",
     "evalue": "name 'hist' is not defined",
     "output_type": "error",
     "traceback": [
      "\u001b[0;31m---------------------------------------------------------------------------\u001b[0m",
      "\u001b[0;31mNameError\u001b[0m                                 Traceback (most recent call last)",
      "\u001b[0;32m<ipython-input-14-fe308b0e1590>\u001b[0m in \u001b[0;36m<module>\u001b[0;34m\u001b[0m\n\u001b[0;32m----> 1\u001b[0;31m \u001b[0;32mfor\u001b[0m \u001b[0mkey\u001b[0m \u001b[0;32min\u001b[0m \u001b[0mhist\u001b[0m\u001b[0;34m.\u001b[0m\u001b[0mhistory\u001b[0m\u001b[0;34m:\u001b[0m\u001b[0;34m\u001b[0m\u001b[0;34m\u001b[0m\u001b[0m\n\u001b[0m\u001b[1;32m      2\u001b[0m     \u001b[0mprint\u001b[0m\u001b[0;34m(\u001b[0m\u001b[0mkey\u001b[0m\u001b[0;34m)\u001b[0m\u001b[0;34m\u001b[0m\u001b[0;34m\u001b[0m\u001b[0m\n",
      "\u001b[0;31mNameError\u001b[0m: name 'hist' is not defined"
     ]
    }
   ],
   "source": [
    "for key in hist.history:\n",
    "    print(key)"
   ]
  },
  {
   "cell_type": "code",
   "execution_count": null,
   "metadata": {},
   "outputs": [],
   "source": [
    "asdf ="
   ]
  },
  {
   "cell_type": "code",
   "execution_count": null,
   "metadata": {},
   "outputs": [],
   "source": [
    "!ls"
   ]
  },
  {
   "cell_type": "code",
   "execution_count": 26,
   "metadata": {},
   "outputs": [],
   "source": [
    "model.save('hieroglyphs_vgg19_M17_only.h5')"
   ]
  },
  {
   "cell_type": "code",
   "execution_count": null,
   "metadata": {},
   "outputs": [],
   "source": [
    "# predictions = model.predict_generator(test_batches, steps=1, verbose=1)"
   ]
  },
  {
   "cell_type": "code",
   "execution_count": 17,
   "metadata": {},
   "outputs": [
    {
     "name": "stdout",
     "output_type": "stream",
     "text": [
      "79296/79296 [==============================] - 40347s 509ms/step\n",
      "[[2.0770143e-09 1.0000000e+00]\n",
      " [3.1581248e-08 1.0000000e+00]\n",
      " [7.9749575e-13 1.0000000e+00]\n",
      " ...\n",
      " [2.4417470e-06 9.9999762e-01]\n",
      " [1.2520649e-01 8.7479347e-01]\n",
      " [8.9195587e-02 9.1080445e-01]]\n"
     ]
    }
   ],
   "source": [
    "STEP_SIZE_TEST=test_batches.n//test_batches.batch_size\n",
    "test_batches.reset()\n",
    "pred=model.predict_generator(test_batches,\n",
    "steps=STEP_SIZE_TEST,\n",
    "verbose=1)\n",
    "print(pred)"
   ]
  },
  {
   "cell_type": "code",
   "execution_count": 2,
   "metadata": {},
   "outputs": [
    {
     "ename": "NameError",
     "evalue": "name 'np' is not defined",
     "output_type": "error",
     "traceback": [
      "\u001b[0;31m---------------------------------------------------------------------------\u001b[0m",
      "\u001b[0;31mNameError\u001b[0m                                 Traceback (most recent call last)",
      "\u001b[0;32m<ipython-input-2-5ae5e8ffc2dd>\u001b[0m in \u001b[0;36m<module>\u001b[0;34m\u001b[0m\n\u001b[0;32m----> 1\u001b[0;31m \u001b[0mpredicted_class_indices\u001b[0m\u001b[0;34m=\u001b[0m\u001b[0mnp\u001b[0m\u001b[0;34m.\u001b[0m\u001b[0margmax\u001b[0m\u001b[0;34m(\u001b[0m\u001b[0mpred\u001b[0m\u001b[0;34m,\u001b[0m\u001b[0maxis\u001b[0m\u001b[0;34m=\u001b[0m\u001b[0;36m1\u001b[0m\u001b[0;34m)\u001b[0m\u001b[0;34m\u001b[0m\u001b[0;34m\u001b[0m\u001b[0m\n\u001b[0m\u001b[1;32m      2\u001b[0m \u001b[0mpredicted_class_indices\u001b[0m\u001b[0;34m\u001b[0m\u001b[0;34m\u001b[0m\u001b[0m\n",
      "\u001b[0;31mNameError\u001b[0m: name 'np' is not defined"
     ]
    }
   ],
   "source": [
    "predicted_class_indices=np.argmax(pred,axis=1)\n",
    "predicted_class_indices"
   ]
  },
  {
   "cell_type": "code",
   "execution_count": 19,
   "metadata": {},
   "outputs": [
    {
     "name": "stdout",
     "output_type": "stream",
     "text": [
      "{'M17': 0, 'unknown': 1}\n",
      "{0: 'M17', 1: 'unknown'}\n"
     ]
    }
   ],
   "source": [
    "labels = (train_batches.class_indices)\n",
    "print(labels)\n",
    "labels = dict((v,k) for k,v in labels.items())\n",
    "print(labels)\n",
    "predictions = [labels[k] for k in predicted_class_indices]"
   ]
  },
  {
   "cell_type": "code",
   "execution_count": 20,
   "metadata": {},
   "outputs": [
    {
     "data": {
      "text/plain": [
       "['unknown',\n",
       " 'unknown',\n",
       " 'unknown',\n",
       " 'unknown',\n",
       " 'unknown',\n",
       " 'unknown',\n",
       " 'unknown',\n",
       " 'unknown',\n",
       " 'unknown',\n",
       " 'unknown',\n",
       " 'unknown']"
      ]
     },
     "execution_count": 20,
     "metadata": {},
     "output_type": "execute_result"
    }
   ],
   "source": [
    "predictions[:11]"
   ]
  },
  {
   "cell_type": "code",
   "execution_count": 21,
   "metadata": {},
   "outputs": [],
   "source": [
    "def get_glyph_name(series):\n",
    "    file = series['filename']\n",
    "    m = re.match(r'^([A-Z]{1}\\d+)/', file)\n",
    "    if m:\n",
    "        return m.group(1)\n",
    "    else:\n",
    "        return 'unknown'"
   ]
  },
  {
   "cell_type": "code",
   "execution_count": 1,
   "metadata": {},
   "outputs": [
    {
     "ename": "NameError",
     "evalue": "name 'pd' is not defined",
     "output_type": "error",
     "traceback": [
      "\u001b[0;31m---------------------------------------------------------------------------\u001b[0m",
      "\u001b[0;31mNameError\u001b[0m                                 Traceback (most recent call last)",
      "\u001b[0;32m<ipython-input-1-dc3316b1829f>\u001b[0m in \u001b[0;36m<module>\u001b[0;34m\u001b[0m\n\u001b[0;32m----> 1\u001b[0;31m \u001b[0mpred_df\u001b[0m \u001b[0;34m=\u001b[0m \u001b[0mpd\u001b[0m\u001b[0;34m.\u001b[0m\u001b[0mDataFrame\u001b[0m\u001b[0;34m(\u001b[0m\u001b[0mpredictions\u001b[0m\u001b[0;34m,\u001b[0m \u001b[0mcolumns\u001b[0m\u001b[0;34m=\u001b[0m\u001b[0;34m[\u001b[0m\u001b[0;34m'predicted'\u001b[0m\u001b[0;34m]\u001b[0m\u001b[0;34m)\u001b[0m\u001b[0;34m\u001b[0m\u001b[0;34m\u001b[0m\u001b[0m\n\u001b[0m\u001b[1;32m      2\u001b[0m \u001b[0mpred_df\u001b[0m \u001b[0;34m=\u001b[0m \u001b[0mpred_df\u001b[0m\u001b[0;34m.\u001b[0m\u001b[0mmerge\u001b[0m\u001b[0;34m(\u001b[0m\u001b[0mpd\u001b[0m\u001b[0;34m.\u001b[0m\u001b[0mDataFrame\u001b[0m\u001b[0;34m(\u001b[0m\u001b[0mtest_batches\u001b[0m\u001b[0;34m.\u001b[0m\u001b[0mfilenames\u001b[0m\u001b[0;34m,\u001b[0m \u001b[0mcolumns\u001b[0m\u001b[0;34m=\u001b[0m\u001b[0;34m[\u001b[0m\u001b[0;34m'filename'\u001b[0m\u001b[0;34m]\u001b[0m\u001b[0;34m)\u001b[0m\u001b[0;34m,\u001b[0m \u001b[0mleft_index\u001b[0m\u001b[0;34m=\u001b[0m\u001b[0;32mTrue\u001b[0m\u001b[0;34m,\u001b[0m \u001b[0mright_index\u001b[0m\u001b[0;34m=\u001b[0m\u001b[0;32mTrue\u001b[0m\u001b[0;34m)\u001b[0m\u001b[0;34m\u001b[0m\u001b[0;34m\u001b[0m\u001b[0m\n\u001b[1;32m      3\u001b[0m \u001b[0mpred_df\u001b[0m\u001b[0;34m[\u001b[0m\u001b[0;34m'glyph'\u001b[0m\u001b[0;34m]\u001b[0m \u001b[0;34m=\u001b[0m \u001b[0mpred_df\u001b[0m\u001b[0;34m.\u001b[0m\u001b[0mapply\u001b[0m\u001b[0;34m(\u001b[0m\u001b[0;32mlambda\u001b[0m \u001b[0mrow\u001b[0m\u001b[0;34m:\u001b[0m \u001b[0mget_glyph_name\u001b[0m\u001b[0;34m(\u001b[0m\u001b[0mrow\u001b[0m\u001b[0;34m)\u001b[0m\u001b[0;34m,\u001b[0m \u001b[0maxis\u001b[0m\u001b[0;34m=\u001b[0m\u001b[0;36m1\u001b[0m\u001b[0;34m)\u001b[0m\u001b[0;34m\u001b[0m\u001b[0;34m\u001b[0m\u001b[0m\n\u001b[1;32m      4\u001b[0m \u001b[0mpred_df\u001b[0m\u001b[0;34m[\u001b[0m\u001b[0;34m'match'\u001b[0m\u001b[0;34m]\u001b[0m \u001b[0;34m=\u001b[0m \u001b[0mpred_df\u001b[0m\u001b[0;34m[\u001b[0m\u001b[0;34m'predicted'\u001b[0m\u001b[0;34m]\u001b[0m \u001b[0;34m==\u001b[0m \u001b[0mpred_df\u001b[0m\u001b[0;34m[\u001b[0m\u001b[0;34m'glyph'\u001b[0m\u001b[0;34m]\u001b[0m\u001b[0;34m\u001b[0m\u001b[0;34m\u001b[0m\u001b[0m\n\u001b[1;32m      5\u001b[0m \u001b[0mpred_df\u001b[0m\u001b[0;34m.\u001b[0m\u001b[0mto_csv\u001b[0m\u001b[0;34m(\u001b[0m\u001b[0;34m'/Users/scott/p5/N35_predictions.csv'\u001b[0m\u001b[0;34m,\u001b[0m \u001b[0mindex\u001b[0m\u001b[0;34m=\u001b[0m\u001b[0;32mFalse\u001b[0m\u001b[0;34m)\u001b[0m\u001b[0;34m\u001b[0m\u001b[0;34m\u001b[0m\u001b[0m\n",
      "\u001b[0;31mNameError\u001b[0m: name 'pd' is not defined"
     ]
    }
   ],
   "source": [
    "pred_df = pd.DataFrame(predictions, columns=['predicted'])\n",
    "pred_df = pred_df.merge(pd.DataFrame(test_batches.filenames, columns=['filename']), left_index=True, right_index=True)\n",
    "pred_df['glyph'] = pred_df.apply(lambda row: get_glyph_name(row), axis=1)\n",
    "pred_df['match'] = pred_df['predicted'] == pred_df['glyph']\n",
    "pred_df.to_csv('/Users/scott/p5/N35_predictions.csv', index=False)"
   ]
  },
  {
   "cell_type": "code",
   "execution_count": 24,
   "metadata": {},
   "outputs": [
    {
     "data": {
      "text/plain": [
       "0.9864558111380145"
      ]
     },
     "execution_count": 24,
     "metadata": {},
     "output_type": "execute_result"
    }
   ],
   "source": [
    "acc = pred_df['match'].sum() / len(pred_df)\n",
    "acc"
   ]
  },
  {
   "cell_type": "code",
   "execution_count": 25,
   "metadata": {},
   "outputs": [
    {
     "data": {
      "text/plain": [
       "array(['unknown', 'M17'], dtype=object)"
      ]
     },
     "execution_count": 25,
     "metadata": {},
     "output_type": "execute_result"
    }
   ],
   "source": [
    "pred_df['predicted'].unique()"
   ]
  },
  {
   "cell_type": "code",
   "execution_count": 26,
   "metadata": {},
   "outputs": [],
   "source": [
    "m17 = pred_df[pred_df['predicted'] == 'M17']"
   ]
  },
  {
   "cell_type": "code",
   "execution_count": 27,
   "metadata": {},
   "outputs": [
    {
     "data": {
      "text/html": [
       "<div>\n",
       "<style scoped>\n",
       "    .dataframe tbody tr th:only-of-type {\n",
       "        vertical-align: middle;\n",
       "    }\n",
       "\n",
       "    .dataframe tbody tr th {\n",
       "        vertical-align: top;\n",
       "    }\n",
       "\n",
       "    .dataframe thead th {\n",
       "        text-align: right;\n",
       "    }\n",
       "</style>\n",
       "<table border=\"1\" class=\"dataframe\">\n",
       "  <thead>\n",
       "    <tr style=\"text-align: right;\">\n",
       "      <th></th>\n",
       "      <th>predicted</th>\n",
       "      <th>filename</th>\n",
       "      <th>glyph</th>\n",
       "      <th>match</th>\n",
       "    </tr>\n",
       "  </thead>\n",
       "  <tbody>\n",
       "    <tr>\n",
       "      <th>111</th>\n",
       "      <td>M17</td>\n",
       "      <td>thumbs/img_100_x_520_y_20_.png</td>\n",
       "      <td>unknown</td>\n",
       "      <td>False</td>\n",
       "    </tr>\n",
       "    <tr>\n",
       "      <th>123</th>\n",
       "      <td>M17</td>\n",
       "      <td>thumbs/img_10110_x_170_y_170_.png</td>\n",
       "      <td>unknown</td>\n",
       "      <td>False</td>\n",
       "    </tr>\n",
       "    <tr>\n",
       "      <th>222</th>\n",
       "      <td>M17</td>\n",
       "      <td>thumbs/img_101_x_525_y_20_.png</td>\n",
       "      <td>unknown</td>\n",
       "      <td>False</td>\n",
       "    </tr>\n",
       "    <tr>\n",
       "      <th>240</th>\n",
       "      <td>M17</td>\n",
       "      <td>thumbs/img_10216_x_700_y_170_.png</td>\n",
       "      <td>unknown</td>\n",
       "      <td>False</td>\n",
       "    </tr>\n",
       "    <tr>\n",
       "      <th>355</th>\n",
       "      <td>M17</td>\n",
       "      <td>thumbs/img_1031_x_135_y_35_.png</td>\n",
       "      <td>unknown</td>\n",
       "      <td>False</td>\n",
       "    </tr>\n",
       "  </tbody>\n",
       "</table>\n",
       "</div>"
      ],
      "text/plain": [
       "    predicted                           filename    glyph  match\n",
       "111       M17     thumbs/img_100_x_520_y_20_.png  unknown  False\n",
       "123       M17  thumbs/img_10110_x_170_y_170_.png  unknown  False\n",
       "222       M17     thumbs/img_101_x_525_y_20_.png  unknown  False\n",
       "240       M17  thumbs/img_10216_x_700_y_170_.png  unknown  False\n",
       "355       M17    thumbs/img_1031_x_135_y_35_.png  unknown  False"
      ]
     },
     "execution_count": 27,
     "metadata": {},
     "output_type": "execute_result"
    }
   ],
   "source": [
    "m17.head()"
   ]
  },
  {
   "cell_type": "code",
   "execution_count": 28,
   "metadata": {},
   "outputs": [
    {
     "data": {
      "text/plain": [
       "111       thumbs/img_100_x_520_y_20_.png\n",
       "123    thumbs/img_10110_x_170_y_170_.png\n",
       "222       thumbs/img_101_x_525_y_20_.png\n",
       "240    thumbs/img_10216_x_700_y_170_.png\n",
       "355      thumbs/img_1031_x_135_y_35_.png\n",
       "Name: filename, dtype: object"
      ]
     },
     "execution_count": 28,
     "metadata": {},
     "output_type": "execute_result"
    }
   ],
   "source": [
    "m17.filename[:5]"
   ]
  },
  {
   "cell_type": "code",
   "execution_count": 35,
   "metadata": {},
   "outputs": [
    {
     "name": "stdout",
     "output_type": "stream",
     "text": [
      "/Users/scott/p5/data/interim/m17/thumbs/img_17709_x_1205_y_280_.png\n",
      "/Users/scott/p5/data/interim/m17/thumbs/img_18904_x_460_y_300_.png\n",
      "/Users/scott/p5/data/interim/m17/thumbs/img_37663_x_175_y_580_.png\n",
      "/Users/scott/p5/data/interim/m17/thumbs/img_49644_x_1280_y_755_.png\n",
      "/Users/scott/p5/data/interim/m17/thumbs/img_53490_x_350_y_815_.png\n",
      "/Users/scott/p5/data/interim/m17/thumbs/img_23199_x_95_y_365_.png\n",
      "/Users/scott/p5/data/interim/m17/thumbs/img_19520_x_180_y_310_.png\n",
      "/Users/scott/p5/data/interim/m17/thumbs/img_44_x_240_y_20_.png\n",
      "/Users/scott/p5/data/interim/m17/thumbs/img_471_x_695_y_25_.png\n",
      "/Users/scott/p5/data/interim/m17/thumbs/img_68249_x_225_y_1035_.png\n",
      "/Users/scott/p5/data/interim/m17/thumbs/img_67085_x_1125_y_1015_.png\n",
      "/Users/scott/p5/data/interim/m17/thumbs/img_36691_x_355_y_565_.png\n",
      "/Users/scott/p5/data/interim/m17/thumbs/img_8121_x_305_y_140_.png\n",
      "/Users/scott/p5/data/interim/m17/thumbs/img_2252_x_1200_y_50_.png\n",
      "/Users/scott/p5/data/interim/m17/thumbs/img_28715_x_795_y_445_.png\n",
      "/Users/scott/p5/data/interim/m17/thumbs/img_69844_x_1480_y_1055_.png\n",
      "/Users/scott/p5/data/interim/m17/thumbs/img_11642_x_1110_y_190_.png\n",
      "/Users/scott/p5/data/interim/m17/thumbs/img_77954_x_30_y_1180_.png\n",
      "/Users/scott/p5/data/interim/m17/thumbs/img_59733_x_1325_y_905_.png\n",
      "/Users/scott/p5/data/interim/m17/thumbs/img_48088_x_220_y_735_.png\n",
      "/Users/scott/p5/data/interim/m17/thumbs/img_30382_x_730_y_470_.png\n",
      "/Users/scott/p5/data/interim/m17/thumbs/img_6381_x_1685_y_110_.png\n",
      "/Users/scott/p5/data/interim/m17/thumbs/img_54204_x_560_y_825_.png\n",
      "/Users/scott/p5/data/interim/m17/thumbs/img_69479_x_1335_y_1050_.png\n",
      "/Users/scott/p5/data/interim/m17/thumbs/img_25567_x_175_y_400_.png\n",
      "/Users/scott/p5/data/interim/m17/thumbs/img_37206_x_1250_y_570_.png\n",
      "/Users/scott/p5/data/interim/m17/thumbs/img_57799_x_55_y_880_.png\n",
      "/Users/scott/p5/data/interim/m17/thumbs/img_38687_x_255_y_595_.png\n",
      "/Users/scott/p5/data/interim/m17/thumbs/img_3570_x_1070_y_70_.png\n",
      "/Users/scott/p5/data/interim/m17/thumbs/img_13679_x_1215_y_220_.png\n",
      "/Users/scott/p5/data/interim/m17/thumbs/img_38342_x_210_y_590_.png\n",
      "/Users/scott/p5/data/interim/m17/thumbs/img_2351_x_1695_y_50_.png\n",
      "/Users/scott/p5/data/interim/m17/thumbs/img_626_x_1470_y_25_.png\n",
      "/Users/scott/p5/data/interim/m17/thumbs/img_14812_x_160_y_240_.png\n",
      "/Users/scott/p5/data/interim/m17/thumbs/img_32272_x_100_y_500_.png\n",
      "/Users/scott/p5/data/interim/m17/thumbs/img_12699_x_1355_y_205_.png\n",
      "/Users/scott/p5/data/interim/m17/thumbs/img_14509_x_325_y_235_.png\n",
      "/Users/scott/p5/data/interim/m17/thumbs/img_48254_x_1050_y_735_.png\n",
      "/Users/scott/p5/data/interim/m17/thumbs/img_2204_x_960_y_50_.png\n",
      "/Users/scott/p5/data/interim/m17/thumbs/img_348_x_80_y_25_.png\n",
      "/Users/scott/p5/data/interim/m17/thumbs/img_54486_x_290_y_830_.png\n",
      "/Users/scott/p5/data/interim/m17/thumbs/img_69333_x_605_y_1050_.png\n",
      "/Users/scott/p5/data/interim/m17/thumbs/img_66797_x_1365_y_1010_.png\n",
      "/Users/scott/p5/data/interim/m17/thumbs/img_53533_x_565_y_815_.png\n",
      "/Users/scott/p5/data/interim/m17/thumbs/img_9001_x_1345_y_150_.png\n",
      "/Users/scott/p5/data/interim/m17/thumbs/img_29294_x_330_y_455_.png\n",
      "/Users/scott/p5/data/interim/m17/thumbs/img_49943_x_1095_y_760_.png\n",
      "/Users/scott/p5/data/interim/m17/thumbs/img_33524_x_1320_y_515_.png\n",
      "/Users/scott/p5/data/interim/m17/thumbs/img_75970_x_190_y_1150_.png\n",
      "/Users/scott/p5/data/interim/m17/thumbs/img_18854_x_210_y_300_.png\n",
      "/Users/scott/p5/data/interim/m17/thumbs/img_7661_x_1365_y_130_.png\n",
      "/Users/scott/p5/data/interim/m17/thumbs/img_49206_x_770_y_750_.png\n",
      "/Users/scott/p5/data/interim/m17/thumbs/img_22566_x_290_y_355_.png\n",
      "/Users/scott/p5/data/interim/m17/thumbs/img_67804_x_1360_y_1025_.png\n",
      "/Users/scott/p5/data/interim/m17/thumbs/img_70132_x_1240_y_1060_.png\n",
      "/Users/scott/p5/data/interim/m17/thumbs/img_3768_x_380_y_75_.png\n",
      "/Users/scott/p5/data/interim/m17/thumbs/img_13428_x_1640_y_215_.png\n",
      "/Users/scott/p5/data/interim/m17/thumbs/img_31054_x_730_y_480_.png\n",
      "/Users/scott/p5/data/interim/m17/thumbs/img_7926_x_1010_y_135_.png\n",
      "/Users/scott/p5/data/interim/m17/thumbs/img_14455_x_55_y_235_.png\n",
      "/Users/scott/p5/data/interim/m17/thumbs/img_230_x_1170_y_20_.png\n",
      "/Users/scott/p5/data/interim/m17/thumbs/img_488_x_780_y_25_.png\n",
      "/Users/scott/p5/data/interim/m17/thumbs/img_101_x_525_y_20_.png\n",
      "/Users/scott/p5/data/interim/m17/thumbs/img_20702_x_1050_y_325_.png\n",
      "/Users/scott/p5/data/interim/m17/thumbs/img_59590_x_610_y_905_.png\n",
      "/Users/scott/p5/data/interim/m17/thumbs/img_45727_x_175_y_700_.png\n",
      "/Users/scott/p5/data/interim/m17/thumbs/img_43371_x_155_y_665_.png\n",
      "/Users/scott/p5/data/interim/m17/thumbs/img_535_x_1015_y_25_.png\n",
      "/Users/scott/p5/data/interim/m17/thumbs/img_54203_x_555_y_825_.png\n",
      "/Users/scott/p5/data/interim/m17/thumbs/img_214_x_1090_y_20_.png\n",
      "/Users/scott/p5/data/interim/m17/thumbs/img_70479_x_1295_y_1065_.png\n",
      "/Users/scott/p5/data/interim/m17/thumbs/img_27918_x_170_y_435_.png\n",
      "/Users/scott/p5/data/interim/m17/thumbs/img_62740_x_1240_y_950_.png\n",
      "/Users/scott/p5/data/interim/m17/thumbs/img_49013_x_1485_y_745_.png\n",
      "/Users/scott/p5/data/interim/m17/thumbs/img_74_x_390_y_20_.png\n",
      "/Users/scott/p5/data/interim/m17/thumbs/img_8934_x_1010_y_150_.png\n",
      "/Users/scott/p5/data/interim/m17/thumbs/img_28578_x_110_y_445_.png\n",
      "/Users/scott/p5/data/interim/m17/thumbs/img_53206_x_610_y_810_.png\n",
      "/Users/scott/p5/data/interim/m17/thumbs/img_56278_x_850_y_855_.png\n",
      "/Users/scott/p5/data/interim/m17/thumbs/img_37514_x_1110_y_575_.png\n",
      "/Users/scott/p5/data/interim/m17/thumbs/img_59665_x_985_y_905_.png\n",
      "/Users/scott/p5/data/interim/m17/thumbs/img_43245_x_1205_y_660_.png\n",
      "/Users/scott/p5/data/interim/m17/thumbs/img_9415_x_55_y_160_.png\n",
      "/Users/scott/p5/data/interim/m17/thumbs/img_407_x_375_y_25_.png\n",
      "/Users/scott/p5/data/interim/m17/thumbs/img_43300_x_1480_y_660_.png\n",
      "/Users/scott/p5/data/interim/m17/thumbs/img_47806_x_490_y_730_.png\n",
      "/Users/scott/p5/data/interim/m17/thumbs/img_10743_x_1655_y_175_.png\n",
      "/Users/scott/p5/data/interim/m17/thumbs/img_74620_x_160_y_1130_.png\n",
      "/Users/scott/p5/data/interim/m17/thumbs/img_63211_x_235_y_960_.png\n",
      "/Users/scott/p5/data/interim/m17/thumbs/img_12480_x_260_y_205_.png\n",
      "/Users/scott/p5/data/interim/m17/thumbs/img_25066_x_1030_y_390_.png\n",
      "/Users/scott/p5/data/interim/m17/thumbs/img_14938_x_790_y_240_.png\n",
      "/Users/scott/p5/data/interim/m17/thumbs/img_54484_x_280_y_830_.png\n",
      "/Users/scott/p5/data/interim/m17/thumbs/img_65404_x_1120_y_990_.png\n",
      "/Users/scott/p5/data/interim/m17/thumbs/img_12231_x_695_y_200_.png\n",
      "/Users/scott/p5/data/interim/m17/thumbs/img_8780_x_240_y_150_.png\n",
      "/Users/scott/p5/data/interim/m17/thumbs/img_1408_x_340_y_40_.png\n",
      "/Users/scott/p5/data/interim/m17/thumbs/img_3906_x_1070_y_75_.png\n",
      "/Users/scott/p5/data/interim/m17/thumbs/img_18875_x_315_y_300_.png\n",
      "/Users/scott/p5/data/interim/m17/thumbs/img_75960_x_140_y_1150_.png\n"
     ]
    }
   ],
   "source": [
    "import shutil\n",
    "for image_file in ['/Users/scott/p5/data/interim/m17/' + name for name in m17.filename.sample(100)]:\n",
    "    print(image_file)\n",
    "    shutil.copy2(image_file, '/Users/scott/p5/data/interim/m17/positives')\n",
    "    \n"
   ]
  },
  {
   "cell_type": "code",
   "execution_count": 23,
   "metadata": {},
   "outputs": [],
   "source": [
    " # /Users/scott/p5/data/interim/m17"
   ]
  },
  {
   "cell_type": "code",
   "execution_count": null,
   "metadata": {},
   "outputs": [],
   "source": []
  },
  {
   "cell_type": "code",
   "execution_count": null,
   "metadata": {},
   "outputs": [],
   "source": []
  },
  {
   "cell_type": "code",
   "execution_count": 15,
   "metadata": {},
   "outputs": [
    {
     "name": "stdout",
     "output_type": "stream",
     "text": [
      "WARNING:tensorflow:From /Applications/conda/anaconda3/envs/p5/lib/python3.7/site-packages/tensorflow_core/python/ops/math_grad.py:1424: where (from tensorflow.python.ops.array_ops) is deprecated and will be removed in a future version.\n",
      "Instructions for updating:\n",
      "Use tf.where in 2.0, which has the same broadcast rule as np.where\n",
      "WARNING:tensorflow:From /Applications/conda/anaconda3/envs/p5/lib/python3.7/site-packages/keras/backend/tensorflow_backend.py:986: The name tf.assign_add is deprecated. Please use tf.compat.v1.assign_add instead.\n",
      "\n",
      "WARNING:tensorflow:From /Applications/conda/anaconda3/envs/p5/lib/python3.7/site-packages/keras/backend/tensorflow_backend.py:973: The name tf.assign is deprecated. Please use tf.compat.v1.assign instead.\n",
      "\n"
     ]
    }
   ],
   "source": [
    "model = load_model(os.path.expanduser('hieroglyphs_vgg19_M17_only.h5'))"
   ]
  },
  {
   "cell_type": "code",
   "execution_count": 16,
   "metadata": {},
   "outputs": [
    {
     "name": "stdout",
     "output_type": "stream",
     "text": [
      "Found 79296 images belonging to 2 classes.\n"
     ]
    }
   ],
   "source": [
    "test_batches = ImageDataGenerator(preprocessing_function=to_gray_scale).flow_from_directory(os.path.expanduser('/Users/scott/p5/data/interim/m17'), \n",
    "                                                        target_size=(224,224),\n",
    "                                                        shuffle=False,\n",
    "                                                        batch_size=1)"
   ]
  },
  {
   "cell_type": "code",
   "execution_count": 41,
   "metadata": {},
   "outputs": [],
   "source": [
    "# model.predict()\n",
    "# cv.im"
   ]
  },
  {
   "cell_type": "markdown",
   "metadata": {},
   "source": [
    "### PLAY"
   ]
  },
  {
   "cell_type": "code",
   "execution_count": null,
   "metadata": {},
   "outputs": [],
   "source": [
    "temp = np.random.randn(50,100)\n",
    "# temp"
   ]
  },
  {
   "cell_type": "code",
   "execution_count": null,
   "metadata": {},
   "outputs": [],
   "source": [
    "plt.imshow(temp,cmap = 'jet')\n",
    "plt.colorbar()"
   ]
  },
  {
   "cell_type": "code",
   "execution_count": null,
   "metadata": {},
   "outputs": [],
   "source": [
    "import cv2 \n"
   ]
  },
  {
   "cell_type": "code",
   "execution_count": null,
   "metadata": {},
   "outputs": [],
   "source": [
    "!ls"
   ]
  },
  {
   "cell_type": "code",
   "execution_count": null,
   "metadata": {},
   "outputs": [],
   "source": [
    "img = cv2.imread('SarcEastGH.jpg')  \n"
   ]
  },
  {
   "cell_type": "code",
   "execution_count": null,
   "metadata": {},
   "outputs": [],
   "source": [
    "img.shape"
   ]
  },
  {
   "cell_type": "code",
   "execution_count": null,
   "metadata": {},
   "outputs": [],
   "source": [
    "plt.figure(figsize=[10,10])\n",
    "plt.imshow(img)"
   ]
  },
  {
   "cell_type": "code",
   "execution_count": null,
   "metadata": {},
   "outputs": [],
   "source": [
    "temp = np.random.randn(1060,1720,3)\n"
   ]
  },
  {
   "cell_type": "code",
   "execution_count": null,
   "metadata": {},
   "outputs": [],
   "source": [
    "plt.figure(figsize=[10,10])\n",
    "plt.imshow(img+temp)"
   ]
  },
  {
   "cell_type": "code",
   "execution_count": null,
   "metadata": {},
   "outputs": [],
   "source": []
  }
 ],
 "metadata": {
  "kernelspec": {
   "display_name": "Python [conda env:p5] *",
   "language": "python",
   "name": "conda-env-p5-py"
  },
  "language_info": {
   "codemirror_mode": {
    "name": "ipython",
    "version": 3
   },
   "file_extension": ".py",
   "mimetype": "text/x-python",
   "name": "python",
   "nbconvert_exporter": "python",
   "pygments_lexer": "ipython3",
   "version": "3.7.5"
  }
 },
 "nbformat": 4,
 "nbformat_minor": 2
}
